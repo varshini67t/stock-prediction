{
 "cells": [
  {
   "cell_type": "code",
   "execution_count": 1,
   "id": "7310441e",
   "metadata": {},
   "outputs": [],
   "source": [
    "from bs4 import BeautifulSoup\n",
    "import requests"
   ]
  },
  {
   "cell_type": "code",
   "execution_count": 2,
   "id": "613b28df",
   "metadata": {},
   "outputs": [],
   "source": [
    "def search_for_stock_news_urls(ticker):\n",
    "    search_url = \"https://www.google.com/search?q={}+economic+times&tbm=nws\".format(ticker)\n",
    "    r = requests.get(search_url)\n",
    "    soup = BeautifulSoup(r.text, 'html.parser')\n",
    "    atags = soup.find_all('a')\n",
    "    hrefs = [link['href'] for link in atags]\n",
    "    return hrefs"
   ]
  },
  {
   "cell_type": "code",
   "execution_count": 3,
   "id": "256c7a98",
   "metadata": {},
   "outputs": [],
   "source": [
    "monitored_tickers = ['reliance', 'tatamotors', 'hindalco', 'TCS']"
   ]
  },
  {
   "cell_type": "code",
   "execution_count": 4,
   "id": "58d3076f",
   "metadata": {},
   "outputs": [
    {
     "data": {
      "text/plain": [
       "{'reliance': ['/?sa=X&ved=0ahUKEwiS2MarqMX_AhX3ErkGHfbbAgUQOwgC',\n",
       "  '/search?q=reliance+economic+times&tbm=nws&ie=UTF-8&gbv=1&sei=OAmLZJLcG_el5OUP9reLKA',\n",
       "  '/search?q=reliance+economic+times&ie=UTF-8&source=lnms&sa=X&ved=0ahUKEwiS2MarqMX_AhX3ErkGHfbbAgUQ_AUIBSgA',\n",
       "  '/search?q=reliance+economic+times&ie=UTF-8&tbm=isch&source=lnms&sa=X&ved=0ahUKEwiS2MarqMX_AhX3ErkGHfbbAgUQ_AUIBygC',\n",
       "  '/search?q=reliance+economic+times&ie=UTF-8&tbm=vid&source=lnms&sa=X&ved=0ahUKEwiS2MarqMX_AhX3ErkGHfbbAgUQ_AUICCgD',\n",
       "  'https://maps.google.com/maps?q=reliance+economic+times&um=1&ie=UTF-8&sa=X&ved=0ahUKEwiS2MarqMX_AhX3ErkGHfbbAgUQ_AUICSgE',\n",
       "  '/search?q=reliance+economic+times&ie=UTF-8&tbm=shop&source=lnms&sa=X&ved=0ahUKEwiS2MarqMX_AhX3ErkGHfbbAgUQ_AUICigF',\n",
       "  '/search?q=reliance+economic+times&ie=UTF-8&tbm=bks&source=lnms&sa=X&ved=0ahUKEwiS2MarqMX_AhX3ErkGHfbbAgUQ_AUICygG',\n",
       "  '/advanced_search',\n",
       "  '/search?q=reliance+economic+times&ie=UTF-8&tbm=nws&source=lnt&tbs=qdr:h&sa=X&ved=0ahUKEwiS2MarqMX_AhX3ErkGHfbbAgUQpwUIDQ',\n",
       "  '/search?q=reliance+economic+times&ie=UTF-8&tbm=nws&source=lnt&tbs=qdr:d&sa=X&ved=0ahUKEwiS2MarqMX_AhX3ErkGHfbbAgUQpwUIDg',\n",
       "  '/search?q=reliance+economic+times&ie=UTF-8&tbm=nws&source=lnt&tbs=qdr:w&sa=X&ved=0ahUKEwiS2MarqMX_AhX3ErkGHfbbAgUQpwUIDw',\n",
       "  '/search?q=reliance+economic+times&ie=UTF-8&tbm=nws&source=lnt&tbs=qdr:m&sa=X&ved=0ahUKEwiS2MarqMX_AhX3ErkGHfbbAgUQpwUIEA',\n",
       "  '/search?q=reliance+economic+times&ie=UTF-8&tbm=nws&source=lnt&tbs=qdr:y&sa=X&ved=0ahUKEwiS2MarqMX_AhX3ErkGHfbbAgUQpwUIEQ',\n",
       "  '/search?q=reliance+economic+times&ie=UTF-8&tbm=nws&source=lnt&tbs=ar:1&sa=X&ved=0ahUKEwiS2MarqMX_AhX3ErkGHfbbAgUQpwUIEg',\n",
       "  '/search?q=reliance+economic+times&ie=UTF-8&tbm=nws&source=lnt&tbs=sbd:1&sa=X&ved=0ahUKEwiS2MarqMX_AhX3ErkGHfbbAgUQpwUIFA',\n",
       "  '/url?q=https://economictimes.indiatimes.com/markets/stocks/recos/buy-reliance-industries-target-price-rs-2579-icici-direct/articleshow/101008660.cms&sa=U&ved=2ahUKEwiS2MarqMX_AhX3ErkGHfbbAgUQxfQBegQIBRAC&usg=AOvVaw25FuZKY6boNoaZ1-KMopUW',\n",
       "  '/url?q=https://economictimes.indiatimes.com/markets/stocks/news/reliance-in-talks-for-2-billion-loan-to-fuel-expansion/articleshow/101020911.cms&sa=U&ved=2ahUKEwiS2MarqMX_AhX3ErkGHfbbAgUQxfQBegQICRAC&usg=AOvVaw3GE_o-7CzkXrP98LKr4Kmi',\n",
       "  '/url?q=https://economictimes.indiatimes.com/news/company/corporate-trends/reliance-jumps-8-spots-to-45th-rank-on-forbes-global-2000-list/articleshow/100959961.cms&sa=U&ved=2ahUKEwiS2MarqMX_AhX3ErkGHfbbAgUQxfQBegQIAxAC&usg=AOvVaw1RUAykfsCNwMtaTl5Q92Na',\n",
       "  '/url?q=https://economictimes.indiatimes.com/markets/expert-view/heres-why-rahul-sharma-is-bullish-on-rpg-life/articleshow/101014376.cms&sa=U&ved=2ahUKEwiS2MarqMX_AhX3ErkGHfbbAgUQxfQBegQIBxAC&usg=AOvVaw27LadHXEOPi6f4ZwLrKKjK',\n",
       "  '/url?q=https://economictimes.indiatimes.com/industry/energy/oil-gas/reliance-suspends-sikka-diesel-exports-due-to-cyclone-traders/articleshow/100944683.cms&sa=U&ved=2ahUKEwiS2MarqMX_AhX3ErkGHfbbAgUQxfQBegQIBBAC&usg=AOvVaw25bc75o8W6b4eP7YojzqNt',\n",
       "  '/url?q=https://economictimes.indiatimes.com/markets/stocks/news/hsbc-india-executes-first-ndf-transaction-with-reliance-industries/articleshow/100828542.cms&sa=U&ved=2ahUKEwiS2MarqMX_AhX3ErkGHfbbAgUQxfQBegQIBhAC&usg=AOvVaw3IYZXhNbUd45XEYnQGt23c',\n",
       "  '/url?q=https://economictimes.indiatimes.com/markets/stocks/news/sensex-ekes-out-85-point-gain-ahead-of-fed-outcome-nifty-tops-18750/articleshow/100991275.cms&sa=U&ved=2ahUKEwiS2MarqMX_AhX3ErkGHfbbAgUQxfQBegQIARAC&usg=AOvVaw21hSsIoT5HpX-B396Z4nJs',\n",
       "  '/url?q=https://telecom.economictimes.indiatimes.com/news/industry/jios-pramod-k-mittal-to-continue-as-coai-chairperson-in-fy24/100996281&sa=U&ved=2ahUKEwiS2MarqMX_AhX3ErkGHfbbAgUQxfQBegQICBAC&usg=AOvVaw3IWcjxvTeXwsuF6hpHrhKx',\n",
       "  '/url?q=https://economictimes.indiatimes.com/markets/stocks/recos/buy-reliance-industries-target-price-rs-2511-icici-direct/articleshow/100783362.cms&sa=U&ved=2ahUKEwiS2MarqMX_AhX3ErkGHfbbAgUQxfQBegQIAhAC&usg=AOvVaw1k34I1jEm_a4-3XMKFv9Xd',\n",
       "  '/url?q=https://economictimes.indiatimes.com/tech/technology/reliances-wholesale-format-fires-1000-a-bigger-layoff-round-likely/articleshow/100428603.cms&sa=U&ved=2ahUKEwiS2MarqMX_AhX3ErkGHfbbAgUQxfQBegQIABAC&usg=AOvVaw30PmugjClhiEQmJqiPdmhL',\n",
       "  '/search?q=reliance+economic+times&ie=UTF-8&tbm=nws&ei=OAmLZJLcG_el5OUP9reLKA&start=10&sa=N',\n",
       "  '/url?q=https://support.google.com/websearch%3Fp%3Dws_settings_location%26hl%3Den-IN&sa=U&ved=0ahUKEwiS2MarqMX_AhX3ErkGHfbbAgUQty4IUw&usg=AOvVaw0hqneWkn0shW9opcV3FBYl',\n",
       "  '/url?q=https://accounts.google.com/ServiceLogin%3Fcontinue%3Dhttps://www.google.com/search%253Fq%253Dreliance%252Beconomic%252Btimes%2526tbm%253Dnws%26hl%3Den&sa=U&ved=0ahUKEwiS2MarqMX_AhX3ErkGHfbbAgUQxs8CCFQ&usg=AOvVaw1VGTqTadPK1BZv6fbv48RF',\n",
       "  'https://www.google.com/preferences?hl=en-IN&fg=1&sa=X&ved=0ahUKEwiS2MarqMX_AhX3ErkGHfbbAgUQ5fUCCFU',\n",
       "  'https://policies.google.com/privacy?hl=en-IN&fg=1',\n",
       "  'https://policies.google.com/terms?hl=en-IN&fg=1',\n",
       "  '/setprefs?hl=en&prev=https://www.google.com/search?q%3Dreliance%2Beconomic%2Btimes%26tbm%3Dnws%26pccc%3D1&sig=0_ZdMxNOkfRQbK0r_CIrajxF-wkvk%3D&cs=2&sa=X&ved=0ahUKEwiS2MarqMX_AhX3ErkGHfbbAgUQjcAJCFY'],\n",
       " 'tatamotors': ['/?sa=X&ved=0ahUKEwi35f6rqMX_AhUpCrkGHRByCfcQOwgC',\n",
       "  '/search?q=tatamotors+economic+times&tbm=nws&ie=UTF-8&gbv=1&sei=OQmLZPfkFqmU5OUPkOSluA8',\n",
       "  '/search?q=tatamotors+economic+times&ie=UTF-8&source=lnms&sa=X&ved=0ahUKEwi35f6rqMX_AhUpCrkGHRByCfcQ_AUIBSgA',\n",
       "  '/search?q=tatamotors+economic+times&ie=UTF-8&tbm=isch&source=lnms&sa=X&ved=0ahUKEwi35f6rqMX_AhUpCrkGHRByCfcQ_AUIBygC',\n",
       "  '/search?q=tatamotors+economic+times&ie=UTF-8&tbm=bks&source=lnms&sa=X&ved=0ahUKEwi35f6rqMX_AhUpCrkGHRByCfcQ_AUICCgD',\n",
       "  'https://maps.google.com/maps?q=tatamotors+economic+times&um=1&ie=UTF-8&sa=X&ved=0ahUKEwi35f6rqMX_AhUpCrkGHRByCfcQ_AUICSgE',\n",
       "  '/search?q=tatamotors+economic+times&ie=UTF-8&tbm=vid&source=lnms&sa=X&ved=0ahUKEwi35f6rqMX_AhUpCrkGHRByCfcQ_AUICigF',\n",
       "  '/search?q=tatamotors+economic+times&ie=UTF-8&tbm=shop&source=lnms&sa=X&ved=0ahUKEwi35f6rqMX_AhUpCrkGHRByCfcQ_AUICygG',\n",
       "  '/advanced_search',\n",
       "  '/search?q=tatamotors+economic+times&ie=UTF-8&tbm=nws&source=lnt&tbs=qdr:h&sa=X&ved=0ahUKEwi35f6rqMX_AhUpCrkGHRByCfcQpwUIDQ',\n",
       "  '/search?q=tatamotors+economic+times&ie=UTF-8&tbm=nws&source=lnt&tbs=qdr:d&sa=X&ved=0ahUKEwi35f6rqMX_AhUpCrkGHRByCfcQpwUIDg',\n",
       "  '/search?q=tatamotors+economic+times&ie=UTF-8&tbm=nws&source=lnt&tbs=qdr:w&sa=X&ved=0ahUKEwi35f6rqMX_AhUpCrkGHRByCfcQpwUIDw',\n",
       "  '/search?q=tatamotors+economic+times&ie=UTF-8&tbm=nws&source=lnt&tbs=qdr:m&sa=X&ved=0ahUKEwi35f6rqMX_AhUpCrkGHRByCfcQpwUIEA',\n",
       "  '/search?q=tatamotors+economic+times&ie=UTF-8&tbm=nws&source=lnt&tbs=qdr:y&sa=X&ved=0ahUKEwi35f6rqMX_AhUpCrkGHRByCfcQpwUIEQ',\n",
       "  '/search?q=tatamotors+economic+times&ie=UTF-8&tbm=nws&source=lnt&tbs=ar:1&sa=X&ved=0ahUKEwi35f6rqMX_AhUpCrkGHRByCfcQpwUIEg',\n",
       "  '/search?q=tatamotors+economic+times&ie=UTF-8&tbm=nws&source=lnt&tbs=sbd:1&sa=X&ved=0ahUKEwi35f6rqMX_AhUpCrkGHRByCfcQpwUIFA',\n",
       "  '/url?q=https://economictimes.indiatimes.com/markets/stocks/news/jefferies-raises-tata-motors-target-sees-24-40-upside-in-stock/articleshow/100957406.cms&sa=U&ved=2ahUKEwi35f6rqMX_AhUpCrkGHRByCfcQxfQBegQIABAC&usg=AOvVaw15DGPBh7gXQSpDymzO-fDV',\n",
       "  '/url?q=https://m.economictimes.com/markets/stocks/news/big-bets-tata-motors-sees-ev-constituting-half-of-the-portfolio-by-2030/articleshow/100997448.cms&sa=U&ved=2ahUKEwi35f6rqMX_AhUpCrkGHRByCfcQxfQBegQICRAC&usg=AOvVaw36jDsTXt6oZg_mn7t30TNr',\n",
       "  '/url?q=https://m.economictimes.com/markets/stocks/news/sectoral-spotlight-auto-stocks-step-on-gas-pedal-mm-maruti-tata-motors-top-buys/articleshow/100929229.cms&sa=U&ved=2ahUKEwi35f6rqMX_AhUpCrkGHRByCfcQxfQBegQIBRAC&usg=AOvVaw24wmMCJX7igmPJpfeErZD4',\n",
       "  '/url?q=https://m.economictimes.com/markets/stocks/news/hot-stocks-brokerage-view-on-indigo-tvs-motor-infosys-and-tata-motors/articleshow/100927288.cms&sa=U&ved=2ahUKEwi35f6rqMX_AhUpCrkGHRByCfcQxfQBegQIBhAC&usg=AOvVaw2AKxOXeHHCbLAIhquUmZPW',\n",
       "  '/url?q=https://m.economictimes.com/markets/stocks/news/big-movers-on-d-street-what-should-investors-do-with-tata-motors-hal-and-tata-chemicals/articleshow/100781206.cms&sa=U&ved=2ahUKEwi35f6rqMX_AhUpCrkGHRByCfcQxfQBegQIAhAC&usg=AOvVaw3V4ZX31LikCsvR7NFHlo46',\n",
       "  '/url?q=https://economictimes.indiatimes.com/markets/stocks/news/sectoral-spotlight-auto-stocks-step-on-gas-pedal-mm-maruti-tata-motors-top-buys/articleshow/100929229.cms&sa=U&ved=2ahUKEwi35f6rqMX_AhUpCrkGHRByCfcQxfQBegQIBxAC&usg=AOvVaw1FrQSKtK5_J56I0tovqrsV',\n",
       "  '/url?q=https://auto.economictimes.indiatimes.com/news/lcv/backed-by-pickups-alternative-fuel-models-tata-motors-bets-big-on-scvs/94478217&sa=U&ved=2ahUKEwi35f6rqMX_AhUpCrkGHRByCfcQxfQBegQIARAC&usg=AOvVaw1ak1LjoIcgKmeXAzoaCBk0',\n",
       "  '/url?q=https://economictimes.indiatimes.com/industry/auto/auto-news/after-a-decade-tata-motors-car-dealers-turn-profitable/articleshow/100921137.cms&sa=U&ved=2ahUKEwi35f6rqMX_AhUpCrkGHRByCfcQxfQBegQIBBAC&usg=AOvVaw1OJs5vfaG8hP0RPTu_Wc2V',\n",
       "  '/url?q=https://economictimes.indiatimes.com/markets/stocks/news/stocks-in-news-zee-ent-go-fashion-punjab-and-sind-bank-tata-motors-inox-wind/articleshow/100945379.cms&sa=U&ved=2ahUKEwi35f6rqMX_AhUpCrkGHRByCfcQxfQBegQICBAC&usg=AOvVaw1C04vuoZaAZqUkh-PjxmE4',\n",
       "  '/url?q=https://economictimes.indiatimes.com/markets/stocks/news/big-movers-on-d-street-what-should-investors-do-with-tata-motors-hal-and-tata-chemicals/articleshow/100781206.cms&sa=U&ved=2ahUKEwi35f6rqMX_AhUpCrkGHRByCfcQxfQBegQIAxAC&usg=AOvVaw3n-yt3GKsn5YJtuH14o17K',\n",
       "  '/search?q=tatamotors+economic+times&ie=UTF-8&tbm=nws&ei=OQmLZPfkFqmU5OUPkOSluA8&start=10&sa=N',\n",
       "  '/url?q=https://support.google.com/websearch%3Fp%3Dws_settings_location%26hl%3Den-IN&sa=U&ved=0ahUKEwi35f6rqMX_AhUpCrkGHRByCfcQty4IUw&usg=AOvVaw2tk0fozryKJGrukPPSAaNe',\n",
       "  '/url?q=https://accounts.google.com/ServiceLogin%3Fcontinue%3Dhttps://www.google.com/search%253Fq%253Dtatamotors%252Beconomic%252Btimes%2526tbm%253Dnws%26hl%3Den&sa=U&ved=0ahUKEwi35f6rqMX_AhUpCrkGHRByCfcQxs8CCFQ&usg=AOvVaw1_XDNnHZdoTxd92ZjbMmUD',\n",
       "  'https://www.google.com/preferences?hl=en-IN&fg=1&sa=X&ved=0ahUKEwi35f6rqMX_AhUpCrkGHRByCfcQ5fUCCFU',\n",
       "  'https://policies.google.com/privacy?hl=en-IN&fg=1',\n",
       "  'https://policies.google.com/terms?hl=en-IN&fg=1',\n",
       "  '/setprefs?hl=en&prev=https://www.google.com/search?q%3Dtatamotors%2Beconomic%2Btimes%26tbm%3Dnws%26pccc%3D1&sig=0_4Y36mMkMspkgH8LVDQ6bmypsE30%3D&cs=2&sa=X&ved=0ahUKEwi35f6rqMX_AhUpCrkGHRByCfcQjcAJCFY'],\n",
       " 'hindalco': ['/?sa=X&ved=0ahUKEwiZrrWsqMX_AhXSBLkGHaVlBCoQOwgC',\n",
       "  '/search?q=hindalco+economic+times&tbm=nws&ie=UTF-8&gbv=1&sei=OgmLZJmpENKJ5OUPpcuR0AI',\n",
       "  '/search?q=hindalco+economic+times&ie=UTF-8&source=lnms&sa=X&ved=0ahUKEwiZrrWsqMX_AhXSBLkGHaVlBCoQ_AUIBSgA',\n",
       "  '/search?q=hindalco+economic+times&ie=UTF-8&tbm=vid&source=lnms&sa=X&ved=0ahUKEwiZrrWsqMX_AhXSBLkGHaVlBCoQ_AUIBygC',\n",
       "  '/search?q=hindalco+economic+times&ie=UTF-8&tbm=isch&source=lnms&sa=X&ved=0ahUKEwiZrrWsqMX_AhXSBLkGHaVlBCoQ_AUICCgD',\n",
       "  'https://maps.google.com/maps?q=hindalco+economic+times&um=1&ie=UTF-8&sa=X&ved=0ahUKEwiZrrWsqMX_AhXSBLkGHaVlBCoQ_AUICSgE',\n",
       "  '/search?q=hindalco+economic+times&ie=UTF-8&tbm=shop&source=lnms&sa=X&ved=0ahUKEwiZrrWsqMX_AhXSBLkGHaVlBCoQ_AUICigF',\n",
       "  '/search?q=hindalco+economic+times&ie=UTF-8&tbm=bks&source=lnms&sa=X&ved=0ahUKEwiZrrWsqMX_AhXSBLkGHaVlBCoQ_AUICygG',\n",
       "  '/advanced_search',\n",
       "  '/search?q=hindalco+economic+times&ie=UTF-8&tbm=nws&source=lnt&tbs=qdr:h&sa=X&ved=0ahUKEwiZrrWsqMX_AhXSBLkGHaVlBCoQpwUIDQ',\n",
       "  '/search?q=hindalco+economic+times&ie=UTF-8&tbm=nws&source=lnt&tbs=qdr:d&sa=X&ved=0ahUKEwiZrrWsqMX_AhXSBLkGHaVlBCoQpwUIDg',\n",
       "  '/search?q=hindalco+economic+times&ie=UTF-8&tbm=nws&source=lnt&tbs=qdr:w&sa=X&ved=0ahUKEwiZrrWsqMX_AhXSBLkGHaVlBCoQpwUIDw',\n",
       "  '/search?q=hindalco+economic+times&ie=UTF-8&tbm=nws&source=lnt&tbs=qdr:m&sa=X&ved=0ahUKEwiZrrWsqMX_AhXSBLkGHaVlBCoQpwUIEA',\n",
       "  '/search?q=hindalco+economic+times&ie=UTF-8&tbm=nws&source=lnt&tbs=qdr:y&sa=X&ved=0ahUKEwiZrrWsqMX_AhXSBLkGHaVlBCoQpwUIEQ',\n",
       "  '/search?q=hindalco+economic+times&ie=UTF-8&tbm=nws&source=lnt&tbs=ar:1&sa=X&ved=0ahUKEwiZrrWsqMX_AhXSBLkGHaVlBCoQpwUIEg',\n",
       "  '/search?q=hindalco+economic+times&ie=UTF-8&tbm=nws&source=lnt&tbs=sbd:1&sa=X&ved=0ahUKEwiZrrWsqMX_AhXSBLkGHaVlBCoQpwUIFA',\n",
       "  '/url?q=https://economictimes.indiatimes.com/markets/stocks/recos/buy-hindalco-industries-target-price-rs-426-8-icici-direct/articleshow/100982207.cms&sa=U&ved=2ahUKEwiZrrWsqMX_AhXSBLkGHaVlBCoQxfQBegQIAxAC&usg=AOvVaw373Rsc5lC-TNJc3-dEtlcX',\n",
       "  '/url?q=https://economictimes.indiatimes.com/markets/stocks/news/how-to-trade-hindalco-shares-after-profit-plunges-48-yoy-in-q4/articleshow/100490858.cms&sa=U&ved=2ahUKEwiZrrWsqMX_AhXSBLkGHaVlBCoQxfQBegQICRAC&usg=AOvVaw2k6VChjtGsGGjShexUc3Hx',\n",
       "  '/url?q=https://economictimes.indiatimes.com/markets/stocks/recos/buy-hindalco-industries-target-price-rs-535-jm-financial/articleshow/100491422.cms&sa=U&ved=2ahUKEwiZrrWsqMX_AhXSBLkGHaVlBCoQxfQBegQIBBAC&usg=AOvVaw2hddi1DI8nha4vNW7zi7mI',\n",
       "  '/url?q=https://economictimes.indiatimes.com/markets/stocks/earnings/q4-results-today-what-to-expect-from-lic-hindalco-industries-and-nykaa/articleshow/100462888.cms&sa=U&ved=2ahUKEwiZrrWsqMX_AhXSBLkGHaVlBCoQxfQBegQIBhAC&usg=AOvVaw1v6bNubY4gLRN3AAlnSjLe',\n",
       "  '/url?q=https://economictimes.indiatimes.com/markets/stocks/news/stocks-in-news-hindalco-nykaa-lic-mahindra-cie-vodafone-idea-zee-entertainment/articleshow/100482550.cms&sa=U&ved=2ahUKEwiZrrWsqMX_AhXSBLkGHaVlBCoQxfQBegQICBAC&usg=AOvVaw2_VyQdbsouqyYfQF8k4ooT',\n",
       "  '/url?q=https://economictimes.indiatimes.com/markets/stocks/news/hot-stocks-brokerage-view-on-vedanta-au-small-finance-bank-info-edge-and-hindalco/articleshow/100755561.cms&sa=U&ved=2ahUKEwiZrrWsqMX_AhXSBLkGHaVlBCoQxfQBegQIBRAC&usg=AOvVaw3dP49l_Q9koa0HXEpk45IL',\n",
       "  '/url?q=https://economictimes.indiatimes.com/markets/stocks/news/q4-results-this-week-lic-shree-cements-vodafone-idea-sun-pharma-mm-nykaa-and-others/articleshow/100391366.cms&sa=U&ved=2ahUKEwiZrrWsqMX_AhXSBLkGHaVlBCoQxfQBegQIABAC&usg=AOvVaw3LhkHkAr0eNnw9_3juyJcK',\n",
       "  '/url?q=https://economictimes.indiatimes.com/markets/stocks/stock-watch/stock-market-update-fertilisers-stocks-up-as-market-rises/articleshow/101010285.cms&sa=U&ved=2ahUKEwiZrrWsqMX_AhXSBLkGHaVlBCoQxfQBegQIARAC&usg=AOvVaw3Uf-FjS0C6asvyfxFPkc-H',\n",
       "  '/url?q=https://m.economictimes.com/markets/stocks/stock-watch/stock-market-update-power-stocks-up-as-market-rises/articleshow/101009985.cms&sa=U&ved=2ahUKEwiZrrWsqMX_AhXSBLkGHaVlBCoQxfQBegQIBxAC&usg=AOvVaw3oQ6s41Go93P8IQrgGJyBT',\n",
       "  '/url?q=https://economictimes.indiatimes.com/markets/expert-view/piramal-pharma-may-double-in-a-year-4-metal-stocks-can-give-20-return-in-3-months-sanjiv-bhasin/articleshow/100516312.cms&sa=U&ved=2ahUKEwiZrrWsqMX_AhXSBLkGHaVlBCoQxfQBegQIAhAC&usg=AOvVaw2aZB_eC2do3urB8Qn6jkYc',\n",
       "  '/search?q=hindalco+economic+times&ie=UTF-8&tbm=nws&ei=OgmLZJmpENKJ5OUPpcuR0AI&start=10&sa=N',\n",
       "  '/url?q=https://support.google.com/websearch%3Fp%3Dws_settings_location%26hl%3Den-IN&sa=U&ved=0ahUKEwiZrrWsqMX_AhXSBLkGHaVlBCoQty4IUw&usg=AOvVaw3uQLYEihz9aWMp7eIsWSm6',\n",
       "  '/url?q=https://accounts.google.com/ServiceLogin%3Fcontinue%3Dhttps://www.google.com/search%253Fq%253Dhindalco%252Beconomic%252Btimes%2526tbm%253Dnws%26hl%3Den&sa=U&ved=0ahUKEwiZrrWsqMX_AhXSBLkGHaVlBCoQxs8CCFQ&usg=AOvVaw1unMONCZ0f1y79cSymnY1P',\n",
       "  'https://www.google.com/preferences?hl=en-IN&fg=1&sa=X&ved=0ahUKEwiZrrWsqMX_AhXSBLkGHaVlBCoQ5fUCCFU',\n",
       "  'https://policies.google.com/privacy?hl=en-IN&fg=1',\n",
       "  'https://policies.google.com/terms?hl=en-IN&fg=1',\n",
       "  '/setprefs?hl=en&prev=https://www.google.com/search?q%3Dhindalco%2Beconomic%2Btimes%26tbm%3Dnws%26pccc%3D1&sig=0_Jxc0XvfkD0-elA8q6mcMJhe0ViA%3D&cs=2&sa=X&ved=0ahUKEwiZrrWsqMX_AhXSBLkGHaVlBCoQjcAJCFY'],\n",
       " 'TCS': ['/?sa=X&ved=0ahUKEwjE1PWsqMX_AhWbFLkGHe7mCMYQOwgC',\n",
       "  '/search?q=TCS+economic+times&tbm=nws&ie=UTF-8&gbv=1&sei=OwmLZITLE5up5OUP7s2jsAw',\n",
       "  '/search?q=TCS+economic+times&ie=UTF-8&source=lnms&sa=X&ved=0ahUKEwjE1PWsqMX_AhWbFLkGHe7mCMYQ_AUIBSgA',\n",
       "  '/search?q=TCS+economic+times&ie=UTF-8&tbm=isch&source=lnms&sa=X&ved=0ahUKEwjE1PWsqMX_AhWbFLkGHe7mCMYQ_AUIBygC',\n",
       "  '/search?q=TCS+economic+times&ie=UTF-8&tbm=vid&source=lnms&sa=X&ved=0ahUKEwjE1PWsqMX_AhWbFLkGHe7mCMYQ_AUICCgD',\n",
       "  'https://maps.google.com/maps?q=TCS+economic+times&um=1&ie=UTF-8&sa=X&ved=0ahUKEwjE1PWsqMX_AhWbFLkGHe7mCMYQ_AUICSgE',\n",
       "  '/search?q=TCS+economic+times&ie=UTF-8&tbm=shop&source=lnms&sa=X&ved=0ahUKEwjE1PWsqMX_AhWbFLkGHe7mCMYQ_AUICigF',\n",
       "  '/search?q=TCS+economic+times&ie=UTF-8&tbm=bks&source=lnms&sa=X&ved=0ahUKEwjE1PWsqMX_AhWbFLkGHe7mCMYQ_AUICygG',\n",
       "  '/advanced_search',\n",
       "  '/search?q=TCS+economic+times&ie=UTF-8&tbm=nws&source=lnt&tbs=qdr:h&sa=X&ved=0ahUKEwjE1PWsqMX_AhWbFLkGHe7mCMYQpwUIDQ',\n",
       "  '/search?q=TCS+economic+times&ie=UTF-8&tbm=nws&source=lnt&tbs=qdr:d&sa=X&ved=0ahUKEwjE1PWsqMX_AhWbFLkGHe7mCMYQpwUIDg',\n",
       "  '/search?q=TCS+economic+times&ie=UTF-8&tbm=nws&source=lnt&tbs=qdr:w&sa=X&ved=0ahUKEwjE1PWsqMX_AhWbFLkGHe7mCMYQpwUIDw',\n",
       "  '/search?q=TCS+economic+times&ie=UTF-8&tbm=nws&source=lnt&tbs=qdr:m&sa=X&ved=0ahUKEwjE1PWsqMX_AhWbFLkGHe7mCMYQpwUIEA',\n",
       "  '/search?q=TCS+economic+times&ie=UTF-8&tbm=nws&source=lnt&tbs=qdr:y&sa=X&ved=0ahUKEwjE1PWsqMX_AhWbFLkGHe7mCMYQpwUIEQ',\n",
       "  '/search?q=TCS+economic+times&ie=UTF-8&tbm=nws&source=lnt&tbs=ar:1&sa=X&ved=0ahUKEwjE1PWsqMX_AhWbFLkGHe7mCMYQpwUIEg',\n",
       "  '/search?q=TCS+economic+times&ie=UTF-8&tbm=nws&source=lnt&tbs=sbd:1&sa=X&ved=0ahUKEwjE1PWsqMX_AhWbFLkGHe7mCMYQpwUIFA',\n",
       "  '/url?q=https://economictimes.indiatimes.com/tech/technology/70-corporations-prioritise-long-term-cloud-investments-despite-roi-concerns-tcs/articleshow/101018493.cms&sa=U&ved=2ahUKEwjE1PWsqMX_AhWbFLkGHe7mCMYQxfQBegQIBBAC&usg=AOvVaw0NaZWJZqST96XSegwMAsuh',\n",
       "  '/url?q=https://economictimes.indiatimes.com/wealth/tax/3-ways-to-avoid-the-20-tcs-on-overseas-tour-packages-or-international-trip-effective-july-1-2023/articleshow/101017358.cms&sa=U&ved=2ahUKEwjE1PWsqMX_AhWbFLkGHe7mCMYQxfQBegQICRAC&usg=AOvVaw12ipeKYvwt7UCO8sAW-nwb',\n",
       "  '/url?q=https://economictimes.indiatimes.com/markets/stocks/news/tcs-among-4-stocks-that-turned-ex-dividend-today/articleshow/101009284.cms&sa=U&ved=2ahUKEwjE1PWsqMX_AhWbFLkGHe7mCMYQxfQBegQIARAC&usg=AOvVaw2rIO1ZA1QqB0af9Jj8xM9N',\n",
       "  '/url?q=https://economictimes.indiatimes.com/jobs/mid-career/ending-work-from-home-option-for-employees-came-at-a-cost-for-tcs/articleshow/101020220.cms&sa=U&ved=2ahUKEwjE1PWsqMX_AhWbFLkGHe7mCMYQxfQBegQIBxAC&usg=AOvVaw2DpuGUuZsyN99Xvd5U7gfi',\n",
       "  '/url?q=https://economictimes.indiatimes.com/markets/stocks/news/stocks-in-news-axis-bank-cdsl-d-link-india-tcs-hcl-tech/articleshow/100999598.cms&sa=U&ved=2ahUKEwjE1PWsqMX_AhWbFLkGHe7mCMYQxfQBegQIAhAC&usg=AOvVaw2PEv_umzcsmh3h6W7LgJpD',\n",
       "  '/url?q=https://economictimes.indiatimes.com/tech/information-tech/tcs-fy23-annual-report-highlights/articleshow/100807655.cms&sa=U&ved=2ahUKEwjE1PWsqMX_AhWbFLkGHe7mCMYQxfQBegQICBAC&usg=AOvVaw3SK_mqHBoyhZJwzHySyYB1',\n",
       "  '/url?q=https://economictimes.indiatimes.com/markets/stocks/recos/sell-tata-consultancy-services-target-price-rs-3065-motilal-oswal-financial-services/articleshow/100927756.cms&sa=U&ved=2ahUKEwjE1PWsqMX_AhWbFLkGHe7mCMYQxfQBegQIABAC&usg=AOvVaw1u5y1THxJZa7g_xmFx3xgA',\n",
       "  '/url?q=https://telecom.economictimes.indiatimes.com/news/industry/bsnl-issues-purchase-order-to-tcs-iti-for-1-lakh-4g-sites-report/100888636&sa=U&ved=2ahUKEwjE1PWsqMX_AhWbFLkGHe7mCMYQxfQBegQIBhAC&usg=AOvVaw34SslDJSygr9Mkm8GY003v',\n",
       "  '/url?q=https://economictimes.indiatimes.com/markets/expert-view/we-expect-tcs-and-hcl-tech-to-be-outperforming-on-growth-in-near-term-apurva-prasad/articleshow/100762715.cms&sa=U&ved=2ahUKEwjE1PWsqMX_AhWbFLkGHe7mCMYQxfQBegQIBRAC&usg=AOvVaw3IqgJOktx3fkuw--r0EEMs',\n",
       "  '/url?q=https://economictimes.indiatimes.com/markets/stocks/news/tcs-among-top-3-trading-calls-for-next-week-rupak-de-of-lkp-securities/articleshow/100544077.cms&sa=U&ved=2ahUKEwjE1PWsqMX_AhWbFLkGHe7mCMYQxfQBegQIAxAC&usg=AOvVaw2kSoqNTpNBiDiXeM2bQk0e',\n",
       "  '/search?q=TCS+economic+times&ie=UTF-8&tbm=nws&ei=OwmLZITLE5up5OUP7s2jsAw&start=10&sa=N',\n",
       "  '/url?q=https://support.google.com/websearch%3Fp%3Dws_settings_location%26hl%3Den-IN&sa=U&ved=0ahUKEwjE1PWsqMX_AhWbFLkGHe7mCMYQty4IUw&usg=AOvVaw28tVf6kk82v6uAeQS47wVg',\n",
       "  '/url?q=https://accounts.google.com/ServiceLogin%3Fcontinue%3Dhttps://www.google.com/search%253Fq%253DTCS%252Beconomic%252Btimes%2526tbm%253Dnws%26hl%3Den&sa=U&ved=0ahUKEwjE1PWsqMX_AhWbFLkGHe7mCMYQxs8CCFQ&usg=AOvVaw0dhh8gKYcyYjfq5wBMglc4',\n",
       "  'https://www.google.com/preferences?hl=en-IN&fg=1&sa=X&ved=0ahUKEwjE1PWsqMX_AhWbFLkGHe7mCMYQ5fUCCFU',\n",
       "  'https://policies.google.com/privacy?hl=en-IN&fg=1',\n",
       "  'https://policies.google.com/terms?hl=en-IN&fg=1',\n",
       "  '/setprefs?hl=en&prev=https://www.google.com/search?q%3DTCS%2Beconomic%2Btimes%26tbm%3Dnws%26pccc%3D1&sig=0_itb1ZVfNe_odRroi23KkImn-ZGg%3D&cs=2&sa=X&ved=0ahUKEwjE1PWsqMX_AhWbFLkGHe7mCMYQjcAJCFY']}"
      ]
     },
     "execution_count": 4,
     "metadata": {},
     "output_type": "execute_result"
    }
   ],
   "source": [
    "raw_urls = {ticker:search_for_stock_news_urls(ticker) for ticker in monitored_tickers}\n",
    "raw_urls"
   ]
  },
  {
   "cell_type": "code",
   "execution_count": 5,
   "id": "3ddb6f5c",
   "metadata": {},
   "outputs": [
    {
     "data": {
      "text/plain": [
       "dict_keys(['reliance', 'tatamotors', 'hindalco', 'TCS'])"
      ]
     },
     "execution_count": 5,
     "metadata": {},
     "output_type": "execute_result"
    }
   ],
   "source": [
    "raw_urls.keys()"
   ]
  },
  {
   "cell_type": "code",
   "execution_count": 6,
   "id": "66ad786c",
   "metadata": {},
   "outputs": [
    {
     "data": {
      "text/plain": [
       "dict_values([['/?sa=X&ved=0ahUKEwiS2MarqMX_AhX3ErkGHfbbAgUQOwgC', '/search?q=reliance+economic+times&tbm=nws&ie=UTF-8&gbv=1&sei=OAmLZJLcG_el5OUP9reLKA', '/search?q=reliance+economic+times&ie=UTF-8&source=lnms&sa=X&ved=0ahUKEwiS2MarqMX_AhX3ErkGHfbbAgUQ_AUIBSgA', '/search?q=reliance+economic+times&ie=UTF-8&tbm=isch&source=lnms&sa=X&ved=0ahUKEwiS2MarqMX_AhX3ErkGHfbbAgUQ_AUIBygC', '/search?q=reliance+economic+times&ie=UTF-8&tbm=vid&source=lnms&sa=X&ved=0ahUKEwiS2MarqMX_AhX3ErkGHfbbAgUQ_AUICCgD', 'https://maps.google.com/maps?q=reliance+economic+times&um=1&ie=UTF-8&sa=X&ved=0ahUKEwiS2MarqMX_AhX3ErkGHfbbAgUQ_AUICSgE', '/search?q=reliance+economic+times&ie=UTF-8&tbm=shop&source=lnms&sa=X&ved=0ahUKEwiS2MarqMX_AhX3ErkGHfbbAgUQ_AUICigF', '/search?q=reliance+economic+times&ie=UTF-8&tbm=bks&source=lnms&sa=X&ved=0ahUKEwiS2MarqMX_AhX3ErkGHfbbAgUQ_AUICygG', '/advanced_search', '/search?q=reliance+economic+times&ie=UTF-8&tbm=nws&source=lnt&tbs=qdr:h&sa=X&ved=0ahUKEwiS2MarqMX_AhX3ErkGHfbbAgUQpwUIDQ', '/search?q=reliance+economic+times&ie=UTF-8&tbm=nws&source=lnt&tbs=qdr:d&sa=X&ved=0ahUKEwiS2MarqMX_AhX3ErkGHfbbAgUQpwUIDg', '/search?q=reliance+economic+times&ie=UTF-8&tbm=nws&source=lnt&tbs=qdr:w&sa=X&ved=0ahUKEwiS2MarqMX_AhX3ErkGHfbbAgUQpwUIDw', '/search?q=reliance+economic+times&ie=UTF-8&tbm=nws&source=lnt&tbs=qdr:m&sa=X&ved=0ahUKEwiS2MarqMX_AhX3ErkGHfbbAgUQpwUIEA', '/search?q=reliance+economic+times&ie=UTF-8&tbm=nws&source=lnt&tbs=qdr:y&sa=X&ved=0ahUKEwiS2MarqMX_AhX3ErkGHfbbAgUQpwUIEQ', '/search?q=reliance+economic+times&ie=UTF-8&tbm=nws&source=lnt&tbs=ar:1&sa=X&ved=0ahUKEwiS2MarqMX_AhX3ErkGHfbbAgUQpwUIEg', '/search?q=reliance+economic+times&ie=UTF-8&tbm=nws&source=lnt&tbs=sbd:1&sa=X&ved=0ahUKEwiS2MarqMX_AhX3ErkGHfbbAgUQpwUIFA', '/url?q=https://economictimes.indiatimes.com/markets/stocks/recos/buy-reliance-industries-target-price-rs-2579-icici-direct/articleshow/101008660.cms&sa=U&ved=2ahUKEwiS2MarqMX_AhX3ErkGHfbbAgUQxfQBegQIBRAC&usg=AOvVaw25FuZKY6boNoaZ1-KMopUW', '/url?q=https://economictimes.indiatimes.com/markets/stocks/news/reliance-in-talks-for-2-billion-loan-to-fuel-expansion/articleshow/101020911.cms&sa=U&ved=2ahUKEwiS2MarqMX_AhX3ErkGHfbbAgUQxfQBegQICRAC&usg=AOvVaw3GE_o-7CzkXrP98LKr4Kmi', '/url?q=https://economictimes.indiatimes.com/news/company/corporate-trends/reliance-jumps-8-spots-to-45th-rank-on-forbes-global-2000-list/articleshow/100959961.cms&sa=U&ved=2ahUKEwiS2MarqMX_AhX3ErkGHfbbAgUQxfQBegQIAxAC&usg=AOvVaw1RUAykfsCNwMtaTl5Q92Na', '/url?q=https://economictimes.indiatimes.com/markets/expert-view/heres-why-rahul-sharma-is-bullish-on-rpg-life/articleshow/101014376.cms&sa=U&ved=2ahUKEwiS2MarqMX_AhX3ErkGHfbbAgUQxfQBegQIBxAC&usg=AOvVaw27LadHXEOPi6f4ZwLrKKjK', '/url?q=https://economictimes.indiatimes.com/industry/energy/oil-gas/reliance-suspends-sikka-diesel-exports-due-to-cyclone-traders/articleshow/100944683.cms&sa=U&ved=2ahUKEwiS2MarqMX_AhX3ErkGHfbbAgUQxfQBegQIBBAC&usg=AOvVaw25bc75o8W6b4eP7YojzqNt', '/url?q=https://economictimes.indiatimes.com/markets/stocks/news/hsbc-india-executes-first-ndf-transaction-with-reliance-industries/articleshow/100828542.cms&sa=U&ved=2ahUKEwiS2MarqMX_AhX3ErkGHfbbAgUQxfQBegQIBhAC&usg=AOvVaw3IYZXhNbUd45XEYnQGt23c', '/url?q=https://economictimes.indiatimes.com/markets/stocks/news/sensex-ekes-out-85-point-gain-ahead-of-fed-outcome-nifty-tops-18750/articleshow/100991275.cms&sa=U&ved=2ahUKEwiS2MarqMX_AhX3ErkGHfbbAgUQxfQBegQIARAC&usg=AOvVaw21hSsIoT5HpX-B396Z4nJs', '/url?q=https://telecom.economictimes.indiatimes.com/news/industry/jios-pramod-k-mittal-to-continue-as-coai-chairperson-in-fy24/100996281&sa=U&ved=2ahUKEwiS2MarqMX_AhX3ErkGHfbbAgUQxfQBegQICBAC&usg=AOvVaw3IWcjxvTeXwsuF6hpHrhKx', '/url?q=https://economictimes.indiatimes.com/markets/stocks/recos/buy-reliance-industries-target-price-rs-2511-icici-direct/articleshow/100783362.cms&sa=U&ved=2ahUKEwiS2MarqMX_AhX3ErkGHfbbAgUQxfQBegQIAhAC&usg=AOvVaw1k34I1jEm_a4-3XMKFv9Xd', '/url?q=https://economictimes.indiatimes.com/tech/technology/reliances-wholesale-format-fires-1000-a-bigger-layoff-round-likely/articleshow/100428603.cms&sa=U&ved=2ahUKEwiS2MarqMX_AhX3ErkGHfbbAgUQxfQBegQIABAC&usg=AOvVaw30PmugjClhiEQmJqiPdmhL', '/search?q=reliance+economic+times&ie=UTF-8&tbm=nws&ei=OAmLZJLcG_el5OUP9reLKA&start=10&sa=N', '/url?q=https://support.google.com/websearch%3Fp%3Dws_settings_location%26hl%3Den-IN&sa=U&ved=0ahUKEwiS2MarqMX_AhX3ErkGHfbbAgUQty4IUw&usg=AOvVaw0hqneWkn0shW9opcV3FBYl', '/url?q=https://accounts.google.com/ServiceLogin%3Fcontinue%3Dhttps://www.google.com/search%253Fq%253Dreliance%252Beconomic%252Btimes%2526tbm%253Dnws%26hl%3Den&sa=U&ved=0ahUKEwiS2MarqMX_AhX3ErkGHfbbAgUQxs8CCFQ&usg=AOvVaw1VGTqTadPK1BZv6fbv48RF', 'https://www.google.com/preferences?hl=en-IN&fg=1&sa=X&ved=0ahUKEwiS2MarqMX_AhX3ErkGHfbbAgUQ5fUCCFU', 'https://policies.google.com/privacy?hl=en-IN&fg=1', 'https://policies.google.com/terms?hl=en-IN&fg=1', '/setprefs?hl=en&prev=https://www.google.com/search?q%3Dreliance%2Beconomic%2Btimes%26tbm%3Dnws%26pccc%3D1&sig=0_ZdMxNOkfRQbK0r_CIrajxF-wkvk%3D&cs=2&sa=X&ved=0ahUKEwiS2MarqMX_AhX3ErkGHfbbAgUQjcAJCFY'], ['/?sa=X&ved=0ahUKEwi35f6rqMX_AhUpCrkGHRByCfcQOwgC', '/search?q=tatamotors+economic+times&tbm=nws&ie=UTF-8&gbv=1&sei=OQmLZPfkFqmU5OUPkOSluA8', '/search?q=tatamotors+economic+times&ie=UTF-8&source=lnms&sa=X&ved=0ahUKEwi35f6rqMX_AhUpCrkGHRByCfcQ_AUIBSgA', '/search?q=tatamotors+economic+times&ie=UTF-8&tbm=isch&source=lnms&sa=X&ved=0ahUKEwi35f6rqMX_AhUpCrkGHRByCfcQ_AUIBygC', '/search?q=tatamotors+economic+times&ie=UTF-8&tbm=bks&source=lnms&sa=X&ved=0ahUKEwi35f6rqMX_AhUpCrkGHRByCfcQ_AUICCgD', 'https://maps.google.com/maps?q=tatamotors+economic+times&um=1&ie=UTF-8&sa=X&ved=0ahUKEwi35f6rqMX_AhUpCrkGHRByCfcQ_AUICSgE', '/search?q=tatamotors+economic+times&ie=UTF-8&tbm=vid&source=lnms&sa=X&ved=0ahUKEwi35f6rqMX_AhUpCrkGHRByCfcQ_AUICigF', '/search?q=tatamotors+economic+times&ie=UTF-8&tbm=shop&source=lnms&sa=X&ved=0ahUKEwi35f6rqMX_AhUpCrkGHRByCfcQ_AUICygG', '/advanced_search', '/search?q=tatamotors+economic+times&ie=UTF-8&tbm=nws&source=lnt&tbs=qdr:h&sa=X&ved=0ahUKEwi35f6rqMX_AhUpCrkGHRByCfcQpwUIDQ', '/search?q=tatamotors+economic+times&ie=UTF-8&tbm=nws&source=lnt&tbs=qdr:d&sa=X&ved=0ahUKEwi35f6rqMX_AhUpCrkGHRByCfcQpwUIDg', '/search?q=tatamotors+economic+times&ie=UTF-8&tbm=nws&source=lnt&tbs=qdr:w&sa=X&ved=0ahUKEwi35f6rqMX_AhUpCrkGHRByCfcQpwUIDw', '/search?q=tatamotors+economic+times&ie=UTF-8&tbm=nws&source=lnt&tbs=qdr:m&sa=X&ved=0ahUKEwi35f6rqMX_AhUpCrkGHRByCfcQpwUIEA', '/search?q=tatamotors+economic+times&ie=UTF-8&tbm=nws&source=lnt&tbs=qdr:y&sa=X&ved=0ahUKEwi35f6rqMX_AhUpCrkGHRByCfcQpwUIEQ', '/search?q=tatamotors+economic+times&ie=UTF-8&tbm=nws&source=lnt&tbs=ar:1&sa=X&ved=0ahUKEwi35f6rqMX_AhUpCrkGHRByCfcQpwUIEg', '/search?q=tatamotors+economic+times&ie=UTF-8&tbm=nws&source=lnt&tbs=sbd:1&sa=X&ved=0ahUKEwi35f6rqMX_AhUpCrkGHRByCfcQpwUIFA', '/url?q=https://economictimes.indiatimes.com/markets/stocks/news/jefferies-raises-tata-motors-target-sees-24-40-upside-in-stock/articleshow/100957406.cms&sa=U&ved=2ahUKEwi35f6rqMX_AhUpCrkGHRByCfcQxfQBegQIABAC&usg=AOvVaw15DGPBh7gXQSpDymzO-fDV', '/url?q=https://m.economictimes.com/markets/stocks/news/big-bets-tata-motors-sees-ev-constituting-half-of-the-portfolio-by-2030/articleshow/100997448.cms&sa=U&ved=2ahUKEwi35f6rqMX_AhUpCrkGHRByCfcQxfQBegQICRAC&usg=AOvVaw36jDsTXt6oZg_mn7t30TNr', '/url?q=https://m.economictimes.com/markets/stocks/news/sectoral-spotlight-auto-stocks-step-on-gas-pedal-mm-maruti-tata-motors-top-buys/articleshow/100929229.cms&sa=U&ved=2ahUKEwi35f6rqMX_AhUpCrkGHRByCfcQxfQBegQIBRAC&usg=AOvVaw24wmMCJX7igmPJpfeErZD4', '/url?q=https://m.economictimes.com/markets/stocks/news/hot-stocks-brokerage-view-on-indigo-tvs-motor-infosys-and-tata-motors/articleshow/100927288.cms&sa=U&ved=2ahUKEwi35f6rqMX_AhUpCrkGHRByCfcQxfQBegQIBhAC&usg=AOvVaw2AKxOXeHHCbLAIhquUmZPW', '/url?q=https://m.economictimes.com/markets/stocks/news/big-movers-on-d-street-what-should-investors-do-with-tata-motors-hal-and-tata-chemicals/articleshow/100781206.cms&sa=U&ved=2ahUKEwi35f6rqMX_AhUpCrkGHRByCfcQxfQBegQIAhAC&usg=AOvVaw3V4ZX31LikCsvR7NFHlo46', '/url?q=https://economictimes.indiatimes.com/markets/stocks/news/sectoral-spotlight-auto-stocks-step-on-gas-pedal-mm-maruti-tata-motors-top-buys/articleshow/100929229.cms&sa=U&ved=2ahUKEwi35f6rqMX_AhUpCrkGHRByCfcQxfQBegQIBxAC&usg=AOvVaw1FrQSKtK5_J56I0tovqrsV', '/url?q=https://auto.economictimes.indiatimes.com/news/lcv/backed-by-pickups-alternative-fuel-models-tata-motors-bets-big-on-scvs/94478217&sa=U&ved=2ahUKEwi35f6rqMX_AhUpCrkGHRByCfcQxfQBegQIARAC&usg=AOvVaw1ak1LjoIcgKmeXAzoaCBk0', '/url?q=https://economictimes.indiatimes.com/industry/auto/auto-news/after-a-decade-tata-motors-car-dealers-turn-profitable/articleshow/100921137.cms&sa=U&ved=2ahUKEwi35f6rqMX_AhUpCrkGHRByCfcQxfQBegQIBBAC&usg=AOvVaw1OJs5vfaG8hP0RPTu_Wc2V', '/url?q=https://economictimes.indiatimes.com/markets/stocks/news/stocks-in-news-zee-ent-go-fashion-punjab-and-sind-bank-tata-motors-inox-wind/articleshow/100945379.cms&sa=U&ved=2ahUKEwi35f6rqMX_AhUpCrkGHRByCfcQxfQBegQICBAC&usg=AOvVaw1C04vuoZaAZqUkh-PjxmE4', '/url?q=https://economictimes.indiatimes.com/markets/stocks/news/big-movers-on-d-street-what-should-investors-do-with-tata-motors-hal-and-tata-chemicals/articleshow/100781206.cms&sa=U&ved=2ahUKEwi35f6rqMX_AhUpCrkGHRByCfcQxfQBegQIAxAC&usg=AOvVaw3n-yt3GKsn5YJtuH14o17K', '/search?q=tatamotors+economic+times&ie=UTF-8&tbm=nws&ei=OQmLZPfkFqmU5OUPkOSluA8&start=10&sa=N', '/url?q=https://support.google.com/websearch%3Fp%3Dws_settings_location%26hl%3Den-IN&sa=U&ved=0ahUKEwi35f6rqMX_AhUpCrkGHRByCfcQty4IUw&usg=AOvVaw2tk0fozryKJGrukPPSAaNe', '/url?q=https://accounts.google.com/ServiceLogin%3Fcontinue%3Dhttps://www.google.com/search%253Fq%253Dtatamotors%252Beconomic%252Btimes%2526tbm%253Dnws%26hl%3Den&sa=U&ved=0ahUKEwi35f6rqMX_AhUpCrkGHRByCfcQxs8CCFQ&usg=AOvVaw1_XDNnHZdoTxd92ZjbMmUD', 'https://www.google.com/preferences?hl=en-IN&fg=1&sa=X&ved=0ahUKEwi35f6rqMX_AhUpCrkGHRByCfcQ5fUCCFU', 'https://policies.google.com/privacy?hl=en-IN&fg=1', 'https://policies.google.com/terms?hl=en-IN&fg=1', '/setprefs?hl=en&prev=https://www.google.com/search?q%3Dtatamotors%2Beconomic%2Btimes%26tbm%3Dnws%26pccc%3D1&sig=0_4Y36mMkMspkgH8LVDQ6bmypsE30%3D&cs=2&sa=X&ved=0ahUKEwi35f6rqMX_AhUpCrkGHRByCfcQjcAJCFY'], ['/?sa=X&ved=0ahUKEwiZrrWsqMX_AhXSBLkGHaVlBCoQOwgC', '/search?q=hindalco+economic+times&tbm=nws&ie=UTF-8&gbv=1&sei=OgmLZJmpENKJ5OUPpcuR0AI', '/search?q=hindalco+economic+times&ie=UTF-8&source=lnms&sa=X&ved=0ahUKEwiZrrWsqMX_AhXSBLkGHaVlBCoQ_AUIBSgA', '/search?q=hindalco+economic+times&ie=UTF-8&tbm=vid&source=lnms&sa=X&ved=0ahUKEwiZrrWsqMX_AhXSBLkGHaVlBCoQ_AUIBygC', '/search?q=hindalco+economic+times&ie=UTF-8&tbm=isch&source=lnms&sa=X&ved=0ahUKEwiZrrWsqMX_AhXSBLkGHaVlBCoQ_AUICCgD', 'https://maps.google.com/maps?q=hindalco+economic+times&um=1&ie=UTF-8&sa=X&ved=0ahUKEwiZrrWsqMX_AhXSBLkGHaVlBCoQ_AUICSgE', '/search?q=hindalco+economic+times&ie=UTF-8&tbm=shop&source=lnms&sa=X&ved=0ahUKEwiZrrWsqMX_AhXSBLkGHaVlBCoQ_AUICigF', '/search?q=hindalco+economic+times&ie=UTF-8&tbm=bks&source=lnms&sa=X&ved=0ahUKEwiZrrWsqMX_AhXSBLkGHaVlBCoQ_AUICygG', '/advanced_search', '/search?q=hindalco+economic+times&ie=UTF-8&tbm=nws&source=lnt&tbs=qdr:h&sa=X&ved=0ahUKEwiZrrWsqMX_AhXSBLkGHaVlBCoQpwUIDQ', '/search?q=hindalco+economic+times&ie=UTF-8&tbm=nws&source=lnt&tbs=qdr:d&sa=X&ved=0ahUKEwiZrrWsqMX_AhXSBLkGHaVlBCoQpwUIDg', '/search?q=hindalco+economic+times&ie=UTF-8&tbm=nws&source=lnt&tbs=qdr:w&sa=X&ved=0ahUKEwiZrrWsqMX_AhXSBLkGHaVlBCoQpwUIDw', '/search?q=hindalco+economic+times&ie=UTF-8&tbm=nws&source=lnt&tbs=qdr:m&sa=X&ved=0ahUKEwiZrrWsqMX_AhXSBLkGHaVlBCoQpwUIEA', '/search?q=hindalco+economic+times&ie=UTF-8&tbm=nws&source=lnt&tbs=qdr:y&sa=X&ved=0ahUKEwiZrrWsqMX_AhXSBLkGHaVlBCoQpwUIEQ', '/search?q=hindalco+economic+times&ie=UTF-8&tbm=nws&source=lnt&tbs=ar:1&sa=X&ved=0ahUKEwiZrrWsqMX_AhXSBLkGHaVlBCoQpwUIEg', '/search?q=hindalco+economic+times&ie=UTF-8&tbm=nws&source=lnt&tbs=sbd:1&sa=X&ved=0ahUKEwiZrrWsqMX_AhXSBLkGHaVlBCoQpwUIFA', '/url?q=https://economictimes.indiatimes.com/markets/stocks/recos/buy-hindalco-industries-target-price-rs-426-8-icici-direct/articleshow/100982207.cms&sa=U&ved=2ahUKEwiZrrWsqMX_AhXSBLkGHaVlBCoQxfQBegQIAxAC&usg=AOvVaw373Rsc5lC-TNJc3-dEtlcX', '/url?q=https://economictimes.indiatimes.com/markets/stocks/news/how-to-trade-hindalco-shares-after-profit-plunges-48-yoy-in-q4/articleshow/100490858.cms&sa=U&ved=2ahUKEwiZrrWsqMX_AhXSBLkGHaVlBCoQxfQBegQICRAC&usg=AOvVaw2k6VChjtGsGGjShexUc3Hx', '/url?q=https://economictimes.indiatimes.com/markets/stocks/recos/buy-hindalco-industries-target-price-rs-535-jm-financial/articleshow/100491422.cms&sa=U&ved=2ahUKEwiZrrWsqMX_AhXSBLkGHaVlBCoQxfQBegQIBBAC&usg=AOvVaw2hddi1DI8nha4vNW7zi7mI', '/url?q=https://economictimes.indiatimes.com/markets/stocks/earnings/q4-results-today-what-to-expect-from-lic-hindalco-industries-and-nykaa/articleshow/100462888.cms&sa=U&ved=2ahUKEwiZrrWsqMX_AhXSBLkGHaVlBCoQxfQBegQIBhAC&usg=AOvVaw1v6bNubY4gLRN3AAlnSjLe', '/url?q=https://economictimes.indiatimes.com/markets/stocks/news/stocks-in-news-hindalco-nykaa-lic-mahindra-cie-vodafone-idea-zee-entertainment/articleshow/100482550.cms&sa=U&ved=2ahUKEwiZrrWsqMX_AhXSBLkGHaVlBCoQxfQBegQICBAC&usg=AOvVaw2_VyQdbsouqyYfQF8k4ooT', '/url?q=https://economictimes.indiatimes.com/markets/stocks/news/hot-stocks-brokerage-view-on-vedanta-au-small-finance-bank-info-edge-and-hindalco/articleshow/100755561.cms&sa=U&ved=2ahUKEwiZrrWsqMX_AhXSBLkGHaVlBCoQxfQBegQIBRAC&usg=AOvVaw3dP49l_Q9koa0HXEpk45IL', '/url?q=https://economictimes.indiatimes.com/markets/stocks/news/q4-results-this-week-lic-shree-cements-vodafone-idea-sun-pharma-mm-nykaa-and-others/articleshow/100391366.cms&sa=U&ved=2ahUKEwiZrrWsqMX_AhXSBLkGHaVlBCoQxfQBegQIABAC&usg=AOvVaw3LhkHkAr0eNnw9_3juyJcK', '/url?q=https://economictimes.indiatimes.com/markets/stocks/stock-watch/stock-market-update-fertilisers-stocks-up-as-market-rises/articleshow/101010285.cms&sa=U&ved=2ahUKEwiZrrWsqMX_AhXSBLkGHaVlBCoQxfQBegQIARAC&usg=AOvVaw3Uf-FjS0C6asvyfxFPkc-H', '/url?q=https://m.economictimes.com/markets/stocks/stock-watch/stock-market-update-power-stocks-up-as-market-rises/articleshow/101009985.cms&sa=U&ved=2ahUKEwiZrrWsqMX_AhXSBLkGHaVlBCoQxfQBegQIBxAC&usg=AOvVaw3oQ6s41Go93P8IQrgGJyBT', '/url?q=https://economictimes.indiatimes.com/markets/expert-view/piramal-pharma-may-double-in-a-year-4-metal-stocks-can-give-20-return-in-3-months-sanjiv-bhasin/articleshow/100516312.cms&sa=U&ved=2ahUKEwiZrrWsqMX_AhXSBLkGHaVlBCoQxfQBegQIAhAC&usg=AOvVaw2aZB_eC2do3urB8Qn6jkYc', '/search?q=hindalco+economic+times&ie=UTF-8&tbm=nws&ei=OgmLZJmpENKJ5OUPpcuR0AI&start=10&sa=N', '/url?q=https://support.google.com/websearch%3Fp%3Dws_settings_location%26hl%3Den-IN&sa=U&ved=0ahUKEwiZrrWsqMX_AhXSBLkGHaVlBCoQty4IUw&usg=AOvVaw3uQLYEihz9aWMp7eIsWSm6', '/url?q=https://accounts.google.com/ServiceLogin%3Fcontinue%3Dhttps://www.google.com/search%253Fq%253Dhindalco%252Beconomic%252Btimes%2526tbm%253Dnws%26hl%3Den&sa=U&ved=0ahUKEwiZrrWsqMX_AhXSBLkGHaVlBCoQxs8CCFQ&usg=AOvVaw1unMONCZ0f1y79cSymnY1P', 'https://www.google.com/preferences?hl=en-IN&fg=1&sa=X&ved=0ahUKEwiZrrWsqMX_AhXSBLkGHaVlBCoQ5fUCCFU', 'https://policies.google.com/privacy?hl=en-IN&fg=1', 'https://policies.google.com/terms?hl=en-IN&fg=1', '/setprefs?hl=en&prev=https://www.google.com/search?q%3Dhindalco%2Beconomic%2Btimes%26tbm%3Dnws%26pccc%3D1&sig=0_Jxc0XvfkD0-elA8q6mcMJhe0ViA%3D&cs=2&sa=X&ved=0ahUKEwiZrrWsqMX_AhXSBLkGHaVlBCoQjcAJCFY'], ['/?sa=X&ved=0ahUKEwjE1PWsqMX_AhWbFLkGHe7mCMYQOwgC', '/search?q=TCS+economic+times&tbm=nws&ie=UTF-8&gbv=1&sei=OwmLZITLE5up5OUP7s2jsAw', '/search?q=TCS+economic+times&ie=UTF-8&source=lnms&sa=X&ved=0ahUKEwjE1PWsqMX_AhWbFLkGHe7mCMYQ_AUIBSgA', '/search?q=TCS+economic+times&ie=UTF-8&tbm=isch&source=lnms&sa=X&ved=0ahUKEwjE1PWsqMX_AhWbFLkGHe7mCMYQ_AUIBygC', '/search?q=TCS+economic+times&ie=UTF-8&tbm=vid&source=lnms&sa=X&ved=0ahUKEwjE1PWsqMX_AhWbFLkGHe7mCMYQ_AUICCgD', 'https://maps.google.com/maps?q=TCS+economic+times&um=1&ie=UTF-8&sa=X&ved=0ahUKEwjE1PWsqMX_AhWbFLkGHe7mCMYQ_AUICSgE', '/search?q=TCS+economic+times&ie=UTF-8&tbm=shop&source=lnms&sa=X&ved=0ahUKEwjE1PWsqMX_AhWbFLkGHe7mCMYQ_AUICigF', '/search?q=TCS+economic+times&ie=UTF-8&tbm=bks&source=lnms&sa=X&ved=0ahUKEwjE1PWsqMX_AhWbFLkGHe7mCMYQ_AUICygG', '/advanced_search', '/search?q=TCS+economic+times&ie=UTF-8&tbm=nws&source=lnt&tbs=qdr:h&sa=X&ved=0ahUKEwjE1PWsqMX_AhWbFLkGHe7mCMYQpwUIDQ', '/search?q=TCS+economic+times&ie=UTF-8&tbm=nws&source=lnt&tbs=qdr:d&sa=X&ved=0ahUKEwjE1PWsqMX_AhWbFLkGHe7mCMYQpwUIDg', '/search?q=TCS+economic+times&ie=UTF-8&tbm=nws&source=lnt&tbs=qdr:w&sa=X&ved=0ahUKEwjE1PWsqMX_AhWbFLkGHe7mCMYQpwUIDw', '/search?q=TCS+economic+times&ie=UTF-8&tbm=nws&source=lnt&tbs=qdr:m&sa=X&ved=0ahUKEwjE1PWsqMX_AhWbFLkGHe7mCMYQpwUIEA', '/search?q=TCS+economic+times&ie=UTF-8&tbm=nws&source=lnt&tbs=qdr:y&sa=X&ved=0ahUKEwjE1PWsqMX_AhWbFLkGHe7mCMYQpwUIEQ', '/search?q=TCS+economic+times&ie=UTF-8&tbm=nws&source=lnt&tbs=ar:1&sa=X&ved=0ahUKEwjE1PWsqMX_AhWbFLkGHe7mCMYQpwUIEg', '/search?q=TCS+economic+times&ie=UTF-8&tbm=nws&source=lnt&tbs=sbd:1&sa=X&ved=0ahUKEwjE1PWsqMX_AhWbFLkGHe7mCMYQpwUIFA', '/url?q=https://economictimes.indiatimes.com/tech/technology/70-corporations-prioritise-long-term-cloud-investments-despite-roi-concerns-tcs/articleshow/101018493.cms&sa=U&ved=2ahUKEwjE1PWsqMX_AhWbFLkGHe7mCMYQxfQBegQIBBAC&usg=AOvVaw0NaZWJZqST96XSegwMAsuh', '/url?q=https://economictimes.indiatimes.com/wealth/tax/3-ways-to-avoid-the-20-tcs-on-overseas-tour-packages-or-international-trip-effective-july-1-2023/articleshow/101017358.cms&sa=U&ved=2ahUKEwjE1PWsqMX_AhWbFLkGHe7mCMYQxfQBegQICRAC&usg=AOvVaw12ipeKYvwt7UCO8sAW-nwb', '/url?q=https://economictimes.indiatimes.com/markets/stocks/news/tcs-among-4-stocks-that-turned-ex-dividend-today/articleshow/101009284.cms&sa=U&ved=2ahUKEwjE1PWsqMX_AhWbFLkGHe7mCMYQxfQBegQIARAC&usg=AOvVaw2rIO1ZA1QqB0af9Jj8xM9N', '/url?q=https://economictimes.indiatimes.com/jobs/mid-career/ending-work-from-home-option-for-employees-came-at-a-cost-for-tcs/articleshow/101020220.cms&sa=U&ved=2ahUKEwjE1PWsqMX_AhWbFLkGHe7mCMYQxfQBegQIBxAC&usg=AOvVaw2DpuGUuZsyN99Xvd5U7gfi', '/url?q=https://economictimes.indiatimes.com/markets/stocks/news/stocks-in-news-axis-bank-cdsl-d-link-india-tcs-hcl-tech/articleshow/100999598.cms&sa=U&ved=2ahUKEwjE1PWsqMX_AhWbFLkGHe7mCMYQxfQBegQIAhAC&usg=AOvVaw2PEv_umzcsmh3h6W7LgJpD', '/url?q=https://economictimes.indiatimes.com/tech/information-tech/tcs-fy23-annual-report-highlights/articleshow/100807655.cms&sa=U&ved=2ahUKEwjE1PWsqMX_AhWbFLkGHe7mCMYQxfQBegQICBAC&usg=AOvVaw3SK_mqHBoyhZJwzHySyYB1', '/url?q=https://economictimes.indiatimes.com/markets/stocks/recos/sell-tata-consultancy-services-target-price-rs-3065-motilal-oswal-financial-services/articleshow/100927756.cms&sa=U&ved=2ahUKEwjE1PWsqMX_AhWbFLkGHe7mCMYQxfQBegQIABAC&usg=AOvVaw1u5y1THxJZa7g_xmFx3xgA', '/url?q=https://telecom.economictimes.indiatimes.com/news/industry/bsnl-issues-purchase-order-to-tcs-iti-for-1-lakh-4g-sites-report/100888636&sa=U&ved=2ahUKEwjE1PWsqMX_AhWbFLkGHe7mCMYQxfQBegQIBhAC&usg=AOvVaw34SslDJSygr9Mkm8GY003v', '/url?q=https://economictimes.indiatimes.com/markets/expert-view/we-expect-tcs-and-hcl-tech-to-be-outperforming-on-growth-in-near-term-apurva-prasad/articleshow/100762715.cms&sa=U&ved=2ahUKEwjE1PWsqMX_AhWbFLkGHe7mCMYQxfQBegQIBRAC&usg=AOvVaw3IqgJOktx3fkuw--r0EEMs', '/url?q=https://economictimes.indiatimes.com/markets/stocks/news/tcs-among-top-3-trading-calls-for-next-week-rupak-de-of-lkp-securities/articleshow/100544077.cms&sa=U&ved=2ahUKEwjE1PWsqMX_AhWbFLkGHe7mCMYQxfQBegQIAxAC&usg=AOvVaw2kSoqNTpNBiDiXeM2bQk0e', '/search?q=TCS+economic+times&ie=UTF-8&tbm=nws&ei=OwmLZITLE5up5OUP7s2jsAw&start=10&sa=N', '/url?q=https://support.google.com/websearch%3Fp%3Dws_settings_location%26hl%3Den-IN&sa=U&ved=0ahUKEwjE1PWsqMX_AhWbFLkGHe7mCMYQty4IUw&usg=AOvVaw28tVf6kk82v6uAeQS47wVg', '/url?q=https://accounts.google.com/ServiceLogin%3Fcontinue%3Dhttps://www.google.com/search%253Fq%253DTCS%252Beconomic%252Btimes%2526tbm%253Dnws%26hl%3Den&sa=U&ved=0ahUKEwjE1PWsqMX_AhWbFLkGHe7mCMYQxs8CCFQ&usg=AOvVaw0dhh8gKYcyYjfq5wBMglc4', 'https://www.google.com/preferences?hl=en-IN&fg=1&sa=X&ved=0ahUKEwjE1PWsqMX_AhWbFLkGHe7mCMYQ5fUCCFU', 'https://policies.google.com/privacy?hl=en-IN&fg=1', 'https://policies.google.com/terms?hl=en-IN&fg=1', '/setprefs?hl=en&prev=https://www.google.com/search?q%3DTCS%2Beconomic%2Btimes%26tbm%3Dnws%26pccc%3D1&sig=0_itb1ZVfNe_odRroi23KkImn-ZGg%3D&cs=2&sa=X&ved=0ahUKEwjE1PWsqMX_AhWbFLkGHe7mCMYQjcAJCFY']])"
      ]
     },
     "execution_count": 6,
     "metadata": {},
     "output_type": "execute_result"
    }
   ],
   "source": [
    "raw_urls.values()"
   ]
  },
  {
   "cell_type": "code",
   "execution_count": 7,
   "id": "4cf132fa",
   "metadata": {},
   "outputs": [],
   "source": [
    "import re"
   ]
  },
  {
   "cell_type": "code",
   "execution_count": 8,
   "id": "c5902f19",
   "metadata": {},
   "outputs": [],
   "source": [
    "exclude_list = ['maps' ,'policies' ,'preferences', 'accounts', 'support']"
   ]
  },
  {
   "cell_type": "code",
   "execution_count": 9,
   "id": "00627e39",
   "metadata": {},
   "outputs": [],
   "source": [
    "def strip_unwanted_urls(urls,exclude_list):\n",
    "    val = []\n",
    "    for url in urls:\n",
    "        if 'https://' in url and not any(exclude_word in url for exclude_word in exclude_list):\n",
    "            res = re.findall(r'(https?://\\S+)',url)[0].split('&')[0]\n",
    "            val.append(res)\n",
    "    return list(set(val))"
   ]
  },
  {
   "cell_type": "code",
   "execution_count": 10,
   "id": "3b1736ed",
   "metadata": {},
   "outputs": [
    {
     "data": {
      "text/plain": [
       "{'reliance': ['https://economictimes.indiatimes.com/industry/energy/oil-gas/reliance-suspends-sikka-diesel-exports-due-to-cyclone-traders/articleshow/100944683.cms',\n",
       "  'https://economictimes.indiatimes.com/news/company/corporate-trends/reliance-jumps-8-spots-to-45th-rank-on-forbes-global-2000-list/articleshow/100959961.cms',\n",
       "  'https://economictimes.indiatimes.com/markets/stocks/recos/buy-reliance-industries-target-price-rs-2579-icici-direct/articleshow/101008660.cms',\n",
       "  'https://telecom.economictimes.indiatimes.com/news/industry/jios-pramod-k-mittal-to-continue-as-coai-chairperson-in-fy24/100996281',\n",
       "  'https://economictimes.indiatimes.com/markets/expert-view/heres-why-rahul-sharma-is-bullish-on-rpg-life/articleshow/101014376.cms',\n",
       "  'https://economictimes.indiatimes.com/tech/technology/reliances-wholesale-format-fires-1000-a-bigger-layoff-round-likely/articleshow/100428603.cms',\n",
       "  'https://economictimes.indiatimes.com/markets/stocks/news/reliance-in-talks-for-2-billion-loan-to-fuel-expansion/articleshow/101020911.cms',\n",
       "  'https://economictimes.indiatimes.com/markets/stocks/news/sensex-ekes-out-85-point-gain-ahead-of-fed-outcome-nifty-tops-18750/articleshow/100991275.cms',\n",
       "  'https://www.google.com/search?q%3Dreliance%2Beconomic%2Btimes%26tbm%3Dnws%26pccc%3D1',\n",
       "  'https://economictimes.indiatimes.com/markets/stocks/news/hsbc-india-executes-first-ndf-transaction-with-reliance-industries/articleshow/100828542.cms',\n",
       "  'https://economictimes.indiatimes.com/markets/stocks/recos/buy-reliance-industries-target-price-rs-2511-icici-direct/articleshow/100783362.cms'],\n",
       " 'tatamotors': ['https://m.economictimes.com/markets/stocks/news/big-bets-tata-motors-sees-ev-constituting-half-of-the-portfolio-by-2030/articleshow/100997448.cms',\n",
       "  'https://m.economictimes.com/markets/stocks/news/big-movers-on-d-street-what-should-investors-do-with-tata-motors-hal-and-tata-chemicals/articleshow/100781206.cms',\n",
       "  'https://economictimes.indiatimes.com/markets/stocks/news/sectoral-spotlight-auto-stocks-step-on-gas-pedal-mm-maruti-tata-motors-top-buys/articleshow/100929229.cms',\n",
       "  'https://auto.economictimes.indiatimes.com/news/lcv/backed-by-pickups-alternative-fuel-models-tata-motors-bets-big-on-scvs/94478217',\n",
       "  'https://economictimes.indiatimes.com/industry/auto/auto-news/after-a-decade-tata-motors-car-dealers-turn-profitable/articleshow/100921137.cms',\n",
       "  'https://economictimes.indiatimes.com/markets/stocks/news/big-movers-on-d-street-what-should-investors-do-with-tata-motors-hal-and-tata-chemicals/articleshow/100781206.cms',\n",
       "  'https://m.economictimes.com/markets/stocks/news/hot-stocks-brokerage-view-on-indigo-tvs-motor-infosys-and-tata-motors/articleshow/100927288.cms',\n",
       "  'https://economictimes.indiatimes.com/markets/stocks/news/stocks-in-news-zee-ent-go-fashion-punjab-and-sind-bank-tata-motors-inox-wind/articleshow/100945379.cms',\n",
       "  'https://m.economictimes.com/markets/stocks/news/sectoral-spotlight-auto-stocks-step-on-gas-pedal-mm-maruti-tata-motors-top-buys/articleshow/100929229.cms',\n",
       "  'https://www.google.com/search?q%3Dtatamotors%2Beconomic%2Btimes%26tbm%3Dnws%26pccc%3D1',\n",
       "  'https://economictimes.indiatimes.com/markets/stocks/news/jefferies-raises-tata-motors-target-sees-24-40-upside-in-stock/articleshow/100957406.cms'],\n",
       " 'hindalco': ['https://economictimes.indiatimes.com/markets/stocks/news/stocks-in-news-hindalco-nykaa-lic-mahindra-cie-vodafone-idea-zee-entertainment/articleshow/100482550.cms',\n",
       "  'https://m.economictimes.com/markets/stocks/stock-watch/stock-market-update-power-stocks-up-as-market-rises/articleshow/101009985.cms',\n",
       "  'https://economictimes.indiatimes.com/markets/stocks/earnings/q4-results-today-what-to-expect-from-lic-hindalco-industries-and-nykaa/articleshow/100462888.cms',\n",
       "  'https://www.google.com/search?q%3Dhindalco%2Beconomic%2Btimes%26tbm%3Dnws%26pccc%3D1',\n",
       "  'https://economictimes.indiatimes.com/markets/stocks/news/how-to-trade-hindalco-shares-after-profit-plunges-48-yoy-in-q4/articleshow/100490858.cms',\n",
       "  'https://economictimes.indiatimes.com/markets/stocks/recos/buy-hindalco-industries-target-price-rs-426-8-icici-direct/articleshow/100982207.cms',\n",
       "  'https://economictimes.indiatimes.com/markets/stocks/news/hot-stocks-brokerage-view-on-vedanta-au-small-finance-bank-info-edge-and-hindalco/articleshow/100755561.cms',\n",
       "  'https://economictimes.indiatimes.com/markets/stocks/stock-watch/stock-market-update-fertilisers-stocks-up-as-market-rises/articleshow/101010285.cms',\n",
       "  'https://economictimes.indiatimes.com/markets/stocks/news/q4-results-this-week-lic-shree-cements-vodafone-idea-sun-pharma-mm-nykaa-and-others/articleshow/100391366.cms',\n",
       "  'https://economictimes.indiatimes.com/markets/expert-view/piramal-pharma-may-double-in-a-year-4-metal-stocks-can-give-20-return-in-3-months-sanjiv-bhasin/articleshow/100516312.cms',\n",
       "  'https://economictimes.indiatimes.com/markets/stocks/recos/buy-hindalco-industries-target-price-rs-535-jm-financial/articleshow/100491422.cms'],\n",
       " 'TCS': ['https://economictimes.indiatimes.com/markets/stocks/news/stocks-in-news-axis-bank-cdsl-d-link-india-tcs-hcl-tech/articleshow/100999598.cms',\n",
       "  'https://economictimes.indiatimes.com/markets/stocks/recos/sell-tata-consultancy-services-target-price-rs-3065-motilal-oswal-financial-services/articleshow/100927756.cms',\n",
       "  'https://economictimes.indiatimes.com/markets/expert-view/we-expect-tcs-and-hcl-tech-to-be-outperforming-on-growth-in-near-term-apurva-prasad/articleshow/100762715.cms',\n",
       "  'https://economictimes.indiatimes.com/tech/information-tech/tcs-fy23-annual-report-highlights/articleshow/100807655.cms',\n",
       "  'https://economictimes.indiatimes.com/tech/technology/70-corporations-prioritise-long-term-cloud-investments-despite-roi-concerns-tcs/articleshow/101018493.cms',\n",
       "  'https://economictimes.indiatimes.com/markets/stocks/news/tcs-among-4-stocks-that-turned-ex-dividend-today/articleshow/101009284.cms',\n",
       "  'https://telecom.economictimes.indiatimes.com/news/industry/bsnl-issues-purchase-order-to-tcs-iti-for-1-lakh-4g-sites-report/100888636',\n",
       "  'https://economictimes.indiatimes.com/jobs/mid-career/ending-work-from-home-option-for-employees-came-at-a-cost-for-tcs/articleshow/101020220.cms',\n",
       "  'https://www.google.com/search?q%3DTCS%2Beconomic%2Btimes%26tbm%3Dnws%26pccc%3D1',\n",
       "  'https://economictimes.indiatimes.com/markets/stocks/news/tcs-among-top-3-trading-calls-for-next-week-rupak-de-of-lkp-securities/articleshow/100544077.cms',\n",
       "  'https://economictimes.indiatimes.com/wealth/tax/3-ways-to-avoid-the-20-tcs-on-overseas-tour-packages-or-international-trip-effective-july-1-2023/articleshow/101017358.cms']}"
      ]
     },
     "execution_count": 10,
     "metadata": {},
     "output_type": "execute_result"
    }
   ],
   "source": [
    "cleaned_urls = {ticker:strip_unwanted_urls(raw_urls[ticker], exclude_list) for ticker in monitored_tickers}\n",
    "cleaned_urls"
   ]
  },
  {
   "cell_type": "code",
   "execution_count": 11,
   "id": "723c34e7",
   "metadata": {},
   "outputs": [],
   "source": [
    "def scrape_and_process(URLs):\n",
    "    articles = []\n",
    "    for url in URLs:\n",
    "        r = requests.get(url)\n",
    "        soup = BeautifulSoup(r.text, 'html.parser')\n",
    "        paragraphs = soup.find_all('p')\n",
    "        text = [paragraph.text for paragraph in paragraphs]\n",
    "        words = ' '.join(text).split(' ')[:300]\n",
    "        article = ' '.join(words)\n",
    "        articles.append(article)\n",
    "    return articles"
   ]
  },
  {
   "cell_type": "code",
   "execution_count": 12,
   "id": "738e7285",
   "metadata": {},
   "outputs": [
    {
     "data": {
      "text/plain": [
       "{'reliance': ['Don’t miss out on ET Prime stories! Get your daily dose of business updates on WhatsApp. click here! India’s retail inflation slowed more than expected to a 25-month low of 4.25% in May, close to the RBI’s target 4% rate. But experts don’t expect the central bank to start cutting interest rates any time soon. India’s job market is likely to see an uptick in July-September, signalling a positive turnaround after two consecutive quarters of cooling down, a survey of 3,020 employers has revealed. The government has asked Chinese mobile phone manufacturers to induct Indian equity partners in their local operations, said three executives who attended meetings at which the matter was conveyed. Download The Economic Times News App to get Daily Market Updates & Live Business News. Trending Now Popular Categories Hot on Web In Case you missed it Top Calculators Top Searched Companies Most Searched IFSC Codes Top Prime Articles Top Slideshow Top Videos Top Trending Topics Top Definitions Top Story Listing Popular Articles Most Searched Articles Private Companies Trending Articles Follow us on: Find this comment offensive? Choose your reason below and click on the Report button. This will alert our moderators to take action Reason for reporting: Your Reason has been Reported to the admin. Log In/Connect with: Will be displayed Will not be displayed Will be displayed Stories you might be interested in',\n",
       "  \"Don’t miss out on ET Prime stories! Get your daily dose of business updates on WhatsApp. click here! Four state-owned financial entities — Punjab National Bank, Life Insurance Corporation of India, State Bank of India, and Bank of Baroda — that together own just over 45% of UTI Asset Management Company (AMC) are understood to be working on inviting formal bids for selling their stakes, top officials close to the development told ET. Hundreds of former employees from some of India’s biggest unicorns who have left to start up on their own are creating a ripple wave of internet enterprise in what is now the world’s third-largest startup ecosystem.  Akasa Air, India’s newest airline backed by late billionaire Rakesh Jhunjhunwala, is looking to raise $75-100 million by offering fresh shares to expand its business, people with knowledge of the matter said. Download The Economic Times News App to get Daily Market Updates & Live Business News. ETPrime stories of the day A pattern of mismanagement: What data breaches tell us about the state of Indian cybersecurity The future is not EV, but flex-fuel vehicles, says the ethanol man of India Key to disruptive ideas: why big tech is in a race for supremacy in chip designing Sensex loses 100 pts, Nifty below 18,750 Cyclone Biparjoy heads for landfall: IMD 'Prudent fiscal management saved us' Assam: Lakhimpur flooded amid heavy rain Stock ideas by experts for June 15, 2023 Stock Radar: 'Buy Apollo hospitals' Boat capsizes off Greece coast; at least 79 dead Stocks in focus: SJVN, Persistent & more How to track Cyclone Biparjoy's movement Cyclone 'Biporjoy': High tidal waves hit Gujarat Trending Now Popular Categories Hot on Web In Case you missed it Top Calculators Top Definitions Top Videos Most Searched Articles Top Searched Companies Top Prime Articles\",\n",
       "  'Don’t miss out on ET Prime stories! Get your daily dose of business updates on WhatsApp. click here! Four state-owned financial entities — Punjab National Bank, Life Insurance Corporation of India, State Bank of India, and Bank of Baroda — that together own just over 45% of UTI Asset Management Company (AMC) are understood to be working on inviting formal bids for selling their stakes, top officials close to the development told ET. Hundreds of former employees from some of India’s biggest unicorns who have left to start up on their own are creating a ripple wave of internet enterprise in what is now the world’s third-largest startup ecosystem.  Akasa Air, India’s newest airline backed by late billionaire Rakesh Jhunjhunwala, is looking to raise $75-100 million by offering fresh shares to expand its business, people with knowledge of the matter said. Download The Economic Times News App to get Daily Market Updates & Live Business News. NSE BSE Why follow tips? Choose your winners rationally in 3 simple steps! Trending Now Popular Categories Hot on Web In Case you missed it Top Calculators Top Searched Companies Top Definitions Top Story Listing Top Slideshow Top Trending Topics Private Companies Most Searched Articles Trending Articles Top Commodities Top Prime Articles Top Videos Popular Articles Top Market Pages Follow us on: Find this comment offensive? Choose your reason below and click on the Report button. This will alert our moderators to take action Reason for reporting: Your Reason has been Reported to the admin. Log In/Connect with: Will be displayed Will not be displayed Will be displayed Worry not. You’re just a step away. Read this story for free. Unlock your 30 days free access to ETPrime now. Login to unlock *No card details required.  To read full story, subscribe to',\n",
       "  \"We use cookies and other tracking technologies to improve your browsing experience on our site, show personalize content and targeted ads, analyze site traffic, and understand where our audience is coming from. You can also read our privacy policy, We use cookies to ensure the best experience for you on our website. The Delhi-based telecom industry association concluded its Annual General Body Meeting for the financial year 2022-23 on Wednesday, as per a statement. \\n\\nNews \\n\\n See whats happening in Telecom sector right now \\n\\nExclusive \\n\\n Read and get insights from specially curated unique stories from editorial \\n\\nLeaders Speak\\n\\n Business leaders sharing their insights \\n\\nEvents\\n\\n Explore and discuss challenges & trends in India's leading B2B events \\n\\nAwards \\n\\n Recognise work that not only stood out but was also purposeful \\n\\nWebinars \\n\\n Join leaders & experts for roundtables, conferences, panels and discussions Subscribe to our Daily Newsletter  By continuing you agree to our Privacy Policy & Terms & Conditions \\nAdvertise With Us\\n We have various options to advertise with us including Events, Advertorials, Banners, Mailers, etc. \\nDownload ETTelecom App \\n Save your favourite articles with seamless reading experience \\nGet updates on your preferred social platform\\n Follow us for the latest news, insider access to events and more. About Us Contact Us Newsletters\",\n",
       "  'Don’t miss out on ET Prime stories! Get your daily dose of business updates on WhatsApp. click here! Four state-owned financial entities — Punjab National Bank, Life Insurance Corporation of India, State Bank of India, and Bank of Baroda — that together own just over 45% of UTI Asset Management Company (AMC) are understood to be working on inviting formal bids for selling their stakes, top officials close to the development told ET. Hundreds of former employees from some of India’s biggest unicorns who have left to start up on their own are creating a ripple wave of internet enterprise in what is now the world’s third-largest startup ecosystem.  Akasa Air, India’s newest airline backed by late billionaire Rakesh Jhunjhunwala, is looking to raise $75-100 million by offering fresh shares to expand its business, people with knowledge of the matter said. Download The Economic Times News App to get Daily Market Updates & Live Business News. NSE BSE Why follow tips? Choose your winners rationally in 3 simple steps! All Mutual Funds Top Tax Saving Mutual Funds Better Than Fixed Deposits Low Cost High Return Funds Best Hybrid Funds Best Large Cap Funds SIP’s starting Rs. 500 Top Performing Mid Caps Promising Multi Cap Funds Top Rated Funds Top Performing Index Funds Trending Now Hot on Web In Case you missed it Top Calculators Top Commodities Top Videos Top Definitions Private Companies Top Searched Companies Top Prime Articles Top Story Listing Top Slideshow Follow us on: Find this comment offensive? Choose your reason below and click on the Report button. This will alert our moderators to take action Reason for reporting: Your Reason has been Reported to the admin. Log In/Connect with: Will be displayed Will not be displayed Will be displayed Stories you might be interested in',\n",
       "  \"5 Stories 7 Stories 9 Stories 9 Stories 8 Stories 6 Stories Don’t miss out on ET Prime stories! Get your daily dose of business updates on WhatsApp. click here! India’s retail inflation slowed more than expected to a 25-month low of 4.25% in May, close to the RBI’s target 4% rate. But experts don’t expect the central bank to start cutting interest rates any time soon. India’s job market is likely to see an uptick in July-September, signalling a positive turnaround after two consecutive quarters of cooling down, a survey of 3,020 employers has revealed. The government has asked Chinese mobile phone manufacturers to induct Indian equity partners in their local operations, said three executives who attended meetings at which the matter was conveyed. ETPrime stories of the day Ola IPO drum roll starts again: inside Bhavish Aggarwal’s electric dream and eclectic interests G7 wants to tame China’s economic coercion through semiconductor tech. India could be a key ally. Looking to tame the beast called the stock market? These five evergreen mental models may help. Layoff Tracker  Company Name Layoffs  Byju's 3,500  Unacademy 1,350  Vedantu 1,100  Cars24 600  Oyo 600  Udaan 530  Mohalla Tech 500  Mfine 500  Swiggy 380  Frontrow 280  Ola 200  DealShare 100  Cashfree 100  WazirX 60  Meesho 150 Trending Now Popular Categories Hot on Web In Case you missed it Top Calculators Top Story Listing Top Slideshow Private Companies Popular Articles Most Searched Articles Top Searched Companies Top Prime Articles Top Videos Most Searched IFSC Codes Trending Articles Top Definitions Top Trending Topics Follow us on: Find this comment offensive? Choose your reason below and click on the Report button. This will alert our moderators to take action Reason for\",\n",
       "  'Don’t miss out on ET Prime stories! Get your daily dose of business updates on WhatsApp. click here! Four state-owned financial entities — Punjab National Bank, Life Insurance Corporation of India, State Bank of India, and Bank of Baroda — that together own just over 45% of UTI Asset Management Company (AMC) are understood to be working on inviting formal bids for selling their stakes, top officials close to the development told ET. Hundreds of former employees from some of India’s biggest unicorns who have left to start up on their own are creating a ripple wave of internet enterprise in what is now the world’s third-largest startup ecosystem.  Akasa Air, India’s newest airline backed by late billionaire Rakesh Jhunjhunwala, is looking to raise $75-100 million by offering fresh shares to expand its business, people with knowledge of the matter said. Download The Economic Times News App to get Daily Market Updates & Live Business News. NSE BSE Why follow tips? Choose your winners rationally in 3 simple steps! Trending Now Hot on Web In Case you missed it Top Calculators Top Definitions Top Commodities Top Prime Articles Top Slideshow Top Searched Companies Top Story Listing Top Market Pages Top Videos Private Companies Follow us on: Find this comment offensive? Choose your reason below and click on the Report button. This will alert our moderators to take action Reason for reporting: Your Reason has been Reported to the admin. Log In/Connect with: Will be displayed Will not be displayed Will be displayed Stories you might be interested in',\n",
       "  'Don’t miss out on ET Prime stories! Get your daily dose of business updates on WhatsApp. click here! Four state-owned financial entities — Punjab National Bank, Life Insurance Corporation of India, State Bank of India, and Bank of Baroda — that together own just over 45% of UTI Asset Management Company (AMC) are understood to be working on inviting formal bids for selling their stakes, top officials close to the development told ET. Hundreds of former employees from some of India’s biggest unicorns who have left to start up on their own are creating a ripple wave of internet enterprise in what is now the world’s third-largest startup ecosystem.  Akasa Air, India’s newest airline backed by late billionaire Rakesh Jhunjhunwala, is looking to raise $75-100 million by offering fresh shares to expand its business, people with knowledge of the matter said. Download The Economic Times News App to get Daily Market Updates & Live Business News. NSE BSE Why follow tips? Choose your winners rationally in 3 simple steps! All Mutual Funds Top Tax Saving Mutual Funds Better Than Fixed Deposits Low Cost High Return Funds Best Hybrid Funds Best Large Cap Funds SIP’s starting Rs. 500 Top Performing Mid Caps Promising Multi Cap Funds Top Rated Funds Top Performing Index Funds Trending Now Popular Categories Hot on Web In Case you missed it Top Calculators Top Searched Companies Top Prime Articles Top Performing MF Popular Articles Top Trending Topics Most Searched Articles Top Definitions Top Videos Top Commodities Top Slideshow Top Story Listing Follow us on: Find this comment offensive? Choose your reason below and click on the Report button. This will alert our moderators to take action Reason for reporting: Your Reason has been Reported to the admin. Log In/Connect with: Will be displayed Will not be',\n",
       "  '© 2023 - Privacy - Terms',\n",
       "  'Don’t miss out on ET Prime stories! Get your daily dose of business updates on WhatsApp. click here! India’s retail inflation slowed more than expected to a 25-month low of 4.25% in May, close to the RBI’s target 4% rate. But experts don’t expect the central bank to start cutting interest rates any time soon. India’s job market is likely to see an uptick in July-September, signalling a positive turnaround after two consecutive quarters of cooling down, a survey of 3,020 employers has revealed. The government has asked Chinese mobile phone manufacturers to induct Indian equity partners in their local operations, said three executives who attended meetings at which the matter was conveyed. Download The Economic Times News App to get Daily Market Updates & Live Business News. NSE BSE Why follow tips? Choose your winners rationally in 3 simple steps! Trending Now Popular Categories Hot on Web In Case you missed it Top Calculators Top Slideshow Top Performing MF Trending Articles Top Prime Articles Popular Articles Top Searched Companies Most Searched Articles Top Definitions Top Story Listing Top Commodities Top Videos Top Trending Topics Follow us on: Find this comment offensive? Choose your reason below and click on the Report button. This will alert our moderators to take action Reason for reporting: Your Reason has been Reported to the admin. Log In/Connect with: Will be displayed Will not be displayed Will be displayed Stories you might be interested in',\n",
       "  'Don’t miss out on ET Prime stories! Get your daily dose of business updates on WhatsApp. click here! Vodafone Idea Ltd (Vi) proposes to infuse a total equity of ₹14,000 crore in the near term as part of its business revival plan, said people with knowledge of ongoing discussions. This will see existing promoters Aditya Birla Group (ABG) and UK’s Vodafone Group Plc infuse half the overall amount, they said. As many as 205 managers at Hindustan Unilever Ltd (HUL) took home more than Rs 1 crore in annual salary in FY23, up 25% from 163 in FY22. However, just a third of executives who drew eight-digit salaries were under 40 in FY23, reversing the decade-old trend when half the HUL crore club were people under that threshold.  Top Indian lawmakers strongly refuted claims by Twitter’s former chief executive Jack Dorsey that the government had pressured the microblogging platform to remove certain user accounts during the farmers agitation, with one of them terming the allegations “an outright lie”. Download The Economic Times News App to get Daily Market Updates & Live Business News. NSE BSE Why follow tips? Choose your winners rationally in 3 simple steps! Trending Now Popular Categories Hot on Web In Case you missed it Top Calculators Top Slideshow Top Performing MF Trending Articles Top Prime Articles Popular Articles Top Searched Companies Most Searched Articles Top Definitions Top Story Listing Top Commodities Top Videos Top Trending Topics Follow us on: Find this comment offensive? Choose your reason below and click on the Report button. This will alert our moderators to take action Reason for reporting: Your Reason has been Reported to the admin. Log In/Connect with: Will be displayed Will not be displayed Will be displayed Worry not. You’re just a step away. Read this story'],\n",
       " 'tatamotors': ['Don’t miss out on ET Prime stories! Get your daily dose of business updates on WhatsApp. click here! Four state-owned financial entities — Punjab National Bank, Life Insurance Corporation of India, State Bank of India, and Bank of Baroda — that together own just over 45% of UTI Asset Management Company (AMC) are understood to be working on inviting formal bids for selling their stakes, top officials close to the development told ET. Hundreds of former employees from some of India’s biggest unicorns who have left to start up on their own are creating a ripple wave of internet enterprise in what is now the world’s third-largest startup ecosystem.  Akasa Air, India’s newest airline backed by late billionaire Rakesh Jhunjhunwala, is looking to raise $75-100 million by offering fresh shares to expand its business, people with knowledge of the matter said. Download The Economic Times News App to get Daily Market Updates & Live Business News. NSE BSE Why follow tips? Choose your winners rationally in 3 simple steps! All Mutual Funds Top Tax Saving Mutual Funds Better Than Fixed Deposits Low Cost High Return Funds Best Hybrid Funds Best Large Cap Funds SIP’s starting Rs. 500 Top Performing Mid Caps Promising Multi Cap Funds Top Rated Funds Top Performing Index Funds Trending Now Popular Categories Hot on Web In Case you missed it Top Calculators Top Searched Companies Top Definitions Top Prime Articles Most Searched IFSC Codes Top Slideshow Top Trending Topics Most Searched Articles Popular Articles Top Videos Top Story Listing Private Companies Follow us on: Find this comment offensive? Choose your reason below and click on the Report button. This will alert our moderators to take action Reason for reporting: Your Reason has been Reported to the admin. Log In/Connect with: Will be displayed Will not',\n",
       "  'Don’t miss out on ET Prime stories! Get your daily dose of business updates on WhatsApp. click here! Vodafone Idea Ltd (Vi) proposes to infuse a total equity of ₹14,000 crore in the near term as part of its business revival plan, said people with knowledge of ongoing discussions. This will see existing promoters Aditya Birla Group (ABG) and UK’s Vodafone Group Plc infuse half the overall amount, they said. As many as 205 managers at Hindustan Unilever Ltd (HUL) took home more than Rs 1 crore in annual salary in FY23, up 25% from 163 in FY22. However, just a third of executives who drew eight-digit salaries were under 40 in FY23, reversing the decade-old trend when half the HUL crore club were people under that threshold.  Top Indian lawmakers strongly refuted claims by Twitter’s former chief executive Jack Dorsey that the government had pressured the microblogging platform to remove certain user accounts during the farmers agitation, with one of them terming the allegations “an outright lie”. Download The Economic Times News App to get Daily Market Updates & Live Business News. NSE BSE Why follow tips? Choose your winners rationally in 3 simple steps! All Mutual Funds Top Tax Saving Mutual Funds Better Than Fixed Deposits Low Cost High Return Funds Best Hybrid Funds Best Large Cap Funds SIP’s starting Rs. 500 Top Performing Mid Caps Promising Multi Cap Funds Top Rated Funds Top Performing Index Funds Trending Now Popular Categories Hot on Web In Case you missed it Top Calculators Top Commodities Top Videos Top Definitions Private Companies Popular Articles Top Searched Companies Top Prime Articles Top Story Listing Top Slideshow Most Searched Articles Top Trending Topics Follow us on: Find this comment offensive? Choose your reason below and click on the Report button. This will',\n",
       "  'Don’t miss out on ET Prime stories! Get your daily dose of business updates on WhatsApp. click here! Vodafone Idea Ltd (Vi) proposes to infuse a total equity of ₹14,000 crore in the near term as part of its business revival plan, said people with knowledge of ongoing discussions. This will see existing promoters Aditya Birla Group (ABG) and UK’s Vodafone Group Plc infuse half the overall amount, they said. As many as 205 managers at Hindustan Unilever Ltd (HUL) took home more than Rs 1 crore in annual salary in FY23, up 25% from 163 in FY22. However, just a third of executives who drew eight-digit salaries were under 40 in FY23, reversing the decade-old trend when half the HUL crore club were people under that threshold.  Top Indian lawmakers strongly refuted claims by Twitter’s former chief executive Jack Dorsey that the government had pressured the microblogging platform to remove certain user accounts during the farmers agitation, with one of them terming the allegations “an outright lie”. Download The Economic Times News App to get Daily Market Updates & Live Business News. NSE BSE Why follow tips? Choose your winners rationally in 3 simple steps! All Mutual Funds Top Tax Saving Mutual Funds Better Than Fixed Deposits Low Cost High Return Funds Best Hybrid Funds Best Large Cap Funds SIP’s starting Rs. 500 Top Performing Mid Caps Promising Multi Cap Funds Top Rated Funds Top Performing Index Funds Trending Now Popular Categories Hot on Web In Case you missed it Top Calculators Top Definitions Top Searched Companies Top Trending Topics Popular Articles Top Slideshow Top Videos Top Story Listing Most Searched Articles Top Prime Articles Private Companies Most Searched IFSC Codes Follow us on: Find this comment offensive? Choose your reason below and click on the Report button.',\n",
       "  'We use cookies and other tracking technologies to improve your browsing experience on our site, show personalize content and targeted ads, analyze site traffic, and understand where our audience is coming from. You can also read our privacy policy, We use cookies to ensure the best experience for you on our website. The top two market players in the SCV segment, M&M and Tata Motors, witnessed a neck and neck contest with 40.3% and 39% market share in FY22, as per SIAM data. Amid high demand from e-commerce businesses and need for affordable last-mile cargo and logistic solutions, each player is attempting to increase sales through roll-out of new products or expansion of market coverage. However, neither carmaker Toyota nor the minister has reveled the car model name, but several reports suggest that Toyota may introduce either Hybrid Camry or the Corolla in the Indian market. Toyota sell these hybrid flex-fuel car model in another major sugar-producing country Brazil. Late last month, some Faraday Future employees wrote to the board and shareholders seeking the removal of executive chairperson Susan Swenson, suspecting she had organized attempts to \"push the company into bankruptcy and restructuring\" \\n\\nNews \\n\\n See whats happening in Automobile Industry right now \\n\\nExclusive \\n\\n Breaking, In-depth & Industry Inside Stories \\n\\nLeaders Speak\\n\\n Business leaders sharing their insights \\n\\nEvents\\n\\n Explore and discuss challenges & trends in India\\'s leading B2B events \\n\\nWebinars \\n\\n Join leaders & experts for roundtables, conferences, panels and discussions Subscribe to our Daily Newsletter  By continuing you agree to our Privacy Policy & Terms & Conditions \\nAdvertise With Us\\n We have various options to advertise with us including Events, Advertorials, Banners, Mailers, etc. \\nDownload ETAuto App \\n Save your favourite articles with seamless reading experience \\nGet updates on your preferred social platform\\n Follow us for the',\n",
       "  \"Tata Motors to introduce several new CNG and electric cars to sustain growth: MD Shailesh Chandra EV maker One Electric launches three new models with an eye on the global market What could SUV Jimny's launch do for Maruti Suzuki shares? Analysts' take Don’t miss out on ET Prime stories! Get your daily dose of business updates on WhatsApp. click here! Vodafone Idea Ltd (Vi) proposes to infuse a total equity of ₹14,000 crore in the near term as part of its business revival plan, said people with knowledge of ongoing discussions. This will see existing promoters Aditya Birla Group (ABG) and UK’s Vodafone Group Plc infuse half the overall amount, they said. As many as 205 managers at Hindustan Unilever Ltd (HUL) took home more than Rs 1 crore in annual salary in FY23, up 25% from 163 in FY22. However, just a third of executives who drew eight-digit salaries were under 40 in FY23, reversing the decade-old trend when half the HUL crore club were people under that threshold.  Top Indian lawmakers strongly refuted claims by Twitter’s former chief executive Jack Dorsey that the government had pressured the microblogging platform to remove certain user accounts during the farmers agitation, with one of them terming the allegations “an outright lie”. Download The Economic Times News App to get Daily Market Updates & Live Business News. Trending Now Popular Categories Hot on Web In Case you missed it Top Calculators Top Searched Companies Top Prime Articles Top Story Listing Top Definitions Top Commodities Top Slideshow Top Videos Private Companies Most Searched Articles Popular Articles Top Trending Topics Follow us on: Find this comment offensive? Choose your reason below and click on the Report button. This will alert our moderators to take action Reason for reporting: Your Reason has been\",\n",
       "  'Don’t miss out on ET Prime stories! Get your daily dose of business updates on WhatsApp. click here! Vodafone Idea Ltd (Vi) proposes to infuse a total equity of ₹14,000 crore in the near term as part of its business revival plan, said people with knowledge of ongoing discussions. This will see existing promoters Aditya Birla Group (ABG) and UK’s Vodafone Group Plc infuse half the overall amount, they said. As many as 205 managers at Hindustan Unilever Ltd (HUL) took home more than Rs 1 crore in annual salary in FY23, up 25% from 163 in FY22. However, just a third of executives who drew eight-digit salaries were under 40 in FY23, reversing the decade-old trend when half the HUL crore club were people under that threshold.  Top Indian lawmakers strongly refuted claims by Twitter’s former chief executive Jack Dorsey that the government had pressured the microblogging platform to remove certain user accounts during the farmers agitation, with one of them terming the allegations “an outright lie”. Download The Economic Times News App to get Daily Market Updates & Live Business News. NSE BSE Why follow tips? Choose your winners rationally in 3 simple steps! All Mutual Funds Top Tax Saving Mutual Funds Better Than Fixed Deposits Low Cost High Return Funds Best Hybrid Funds Best Large Cap Funds SIP’s starting Rs. 500 Top Performing Mid Caps Promising Multi Cap Funds Top Rated Funds Top Performing Index Funds Trending Now Popular Categories Hot on Web In Case you missed it Top Calculators Top Commodities Top Videos Top Definitions Private Companies Popular Articles Top Searched Companies Top Prime Articles Top Story Listing Top Slideshow Most Searched Articles Top Trending Topics Follow us on: Find this comment offensive? Choose your reason below and click on the Report button. This will',\n",
       "  'Don’t miss out on ET Prime stories! Get your daily dose of business updates on WhatsApp. click here! Vodafone Idea Ltd (Vi) proposes to infuse a total equity of ₹14,000 crore in the near term as part of its business revival plan, said people with knowledge of ongoing discussions. This will see existing promoters Aditya Birla Group (ABG) and UK’s Vodafone Group Plc infuse half the overall amount, they said. As many as 205 managers at Hindustan Unilever Ltd (HUL) took home more than Rs 1 crore in annual salary in FY23, up 25% from 163 in FY22. However, just a third of executives who drew eight-digit salaries were under 40 in FY23, reversing the decade-old trend when half the HUL crore club were people under that threshold.  Top Indian lawmakers strongly refuted claims by Twitter’s former chief executive Jack Dorsey that the government had pressured the microblogging platform to remove certain user accounts during the farmers agitation, with one of them terming the allegations “an outright lie”. Download The Economic Times News App to get Daily Market Updates & Live Business News. NSE BSE Why follow tips? Choose your winners rationally in 3 simple steps! All Mutual Funds Top Tax Saving Mutual Funds Better Than Fixed Deposits Low Cost High Return Funds Best Hybrid Funds Best Large Cap Funds SIP’s starting Rs. 500 Top Performing Mid Caps Promising Multi Cap Funds Top Rated Funds Top Performing Index Funds Trending Now Popular Categories Hot on Web In Case you missed it Top Calculators Top Searched Companies Top Definitions Top Prime Articles Most Searched IFSC Codes Top Slideshow Top Trending Topics Most Searched Articles Popular Articles Top Videos Top Story Listing Private Companies Follow us on: Find this comment offensive? Choose your reason below and click on the Report button.',\n",
       "  'Don’t miss out on ET Prime stories! Get your daily dose of business updates on WhatsApp. click here! Vodafone Idea Ltd (Vi) proposes to infuse a total equity of ₹14,000 crore in the near term as part of its business revival plan, said people with knowledge of ongoing discussions. This will see existing promoters Aditya Birla Group (ABG) and UK’s Vodafone Group Plc infuse half the overall amount, they said. As many as 205 managers at Hindustan Unilever Ltd (HUL) took home more than Rs 1 crore in annual salary in FY23, up 25% from 163 in FY22. However, just a third of executives who drew eight-digit salaries were under 40 in FY23, reversing the decade-old trend when half the HUL crore club were people under that threshold.  Top Indian lawmakers strongly refuted claims by Twitter’s former chief executive Jack Dorsey that the government had pressured the microblogging platform to remove certain user accounts during the farmers agitation, with one of them terming the allegations “an outright lie”. Download The Economic Times News App to get Daily Market Updates & Live Business News. NSE BSE Why follow tips? Choose your winners rationally in 3 simple steps! Trending Now Popular Categories Hot on Web In Case you missed it Top Calculators Top Definitions Top Searched Companies Top Trending Topics Popular Articles Top Slideshow Top Videos Top Story Listing Most Searched Articles Top Prime Articles Private Companies Most Searched IFSC Codes Follow us on: Find this comment offensive? Choose your reason below and click on the Report button. This will alert our moderators to take action Reason for reporting: Your Reason has been Reported to the admin. Log In/Connect with: Will be displayed Will not be displayed Will be displayed Worry not. You’re just a step away. Read this story for',\n",
       "  'Don’t miss out on ET Prime stories! Get your daily dose of business updates on WhatsApp. click here! Vodafone Idea Ltd (Vi) proposes to infuse a total equity of ₹14,000 crore in the near term as part of its business revival plan, said people with knowledge of ongoing discussions. This will see existing promoters Aditya Birla Group (ABG) and UK’s Vodafone Group Plc infuse half the overall amount, they said. As many as 205 managers at Hindustan Unilever Ltd (HUL) took home more than Rs 1 crore in annual salary in FY23, up 25% from 163 in FY22. However, just a third of executives who drew eight-digit salaries were under 40 in FY23, reversing the decade-old trend when half the HUL crore club were people under that threshold.  Top Indian lawmakers strongly refuted claims by Twitter’s former chief executive Jack Dorsey that the government had pressured the microblogging platform to remove certain user accounts during the farmers agitation, with one of them terming the allegations “an outright lie”. Download The Economic Times News App to get Daily Market Updates & Live Business News. NSE BSE Why follow tips? Choose your winners rationally in 3 simple steps! All Mutual Funds Top Tax Saving Mutual Funds Better Than Fixed Deposits Low Cost High Return Funds Best Hybrid Funds Best Large Cap Funds SIP’s starting Rs. 500 Top Performing Mid Caps Promising Multi Cap Funds Top Rated Funds Top Performing Index Funds Trending Now Popular Categories Hot on Web In Case you missed it Top Calculators Top Definitions Top Searched Companies Top Trending Topics Popular Articles Top Slideshow Top Videos Top Story Listing Most Searched Articles Top Prime Articles Private Companies Most Searched IFSC Codes Follow us on: Find this comment offensive? Choose your reason below and click on the Report button.',\n",
       "  '© 2023 - Privacy - Terms',\n",
       "  'Don’t miss out on ET Prime stories! Get your daily dose of business updates on WhatsApp. click here! India’s retail inflation slowed more than expected to a 25-month low of 4.25% in May, close to the RBI’s target 4% rate. But experts don’t expect the central bank to start cutting interest rates any time soon. India’s job market is likely to see an uptick in July-September, signalling a positive turnaround after two consecutive quarters of cooling down, a survey of 3,020 employers has revealed. The government has asked Chinese mobile phone manufacturers to induct Indian equity partners in their local operations, said three executives who attended meetings at which the matter was conveyed. Download The Economic Times News App to get Daily Market Updates & Live Business News. NSE BSE Why follow tips? Choose your winners rationally in 3 simple steps! All Mutual Funds Top Tax Saving Mutual Funds Better Than Fixed Deposits Low Cost High Return Funds Best Hybrid Funds Best Large Cap Funds SIP’s starting Rs. 500 Top Performing Mid Caps Promising Multi Cap Funds Top Rated Funds Top Performing Index Funds Trending Now Popular Categories Hot on Web In Case you missed it Top Calculators Top Commodities Top Videos Top Definitions Private Companies Popular Articles Top Searched Companies Top Prime Articles Top Story Listing Top Slideshow Most Searched Articles Top Trending Topics Follow us on: Find this comment offensive? Choose your reason below and click on the Report button. This will alert our moderators to take action Reason for reporting: Your Reason has been Reported to the admin. Log In/Connect with: Will be displayed Will not be displayed Will be displayed Worry not. You’re just a step away. Read this story for free. Unlock your 30 days free access to ETPrime now. Login to unlock *No card'],\n",
       " 'hindalco': ['Don’t miss out on ET Prime stories! Get your daily dose of business updates on WhatsApp. click here! Vodafone Idea Ltd (Vi) proposes to infuse a total equity of ₹14,000 crore in the near term as part of its business revival plan, said people with knowledge of ongoing discussions. This will see existing promoters Aditya Birla Group (ABG) and UK’s Vodafone Group Plc infuse half the overall amount, they said. As many as 205 managers at Hindustan Unilever Ltd (HUL) took home more than Rs 1 crore in annual salary in FY23, up 25% from 163 in FY22. However, just a third of executives who drew eight-digit salaries were under 40 in FY23, reversing the decade-old trend when half the HUL crore club were people under that threshold.  Top Indian lawmakers strongly refuted claims by Twitter’s former chief executive Jack Dorsey that the government had pressured the microblogging platform to remove certain user accounts during the farmers agitation, with one of them terming the allegations “an outright lie”. Download The Economic Times News App to get Daily Market Updates & Live Business News. NSE BSE Why follow tips? Choose your winners rationally in 3 simple steps! All Mutual Funds Top Tax Saving Mutual Funds Better Than Fixed Deposits Low Cost High Return Funds Best Hybrid Funds Best Large Cap Funds SIP’s starting Rs. 500 Top Performing Mid Caps Promising Multi Cap Funds Top Rated Funds Top Performing Index Funds Trending Now Popular Categories Hot on Web In Case you missed it Top Calculators Top Searched Companies Top Definitions Top Story Listing Top Slideshow Top Trending Topics Private Companies Most Searched Articles Trending Articles Top Commodities Top Prime Articles Top Videos Popular Articles Top Market Pages Follow us on: Find this comment offensive? Choose your reason below and click on',\n",
       "  'Don’t miss out on ET Prime stories! Get your daily dose of business updates on WhatsApp. click here! Four state-owned financial entities — Punjab National Bank, Life Insurance Corporation of India, State Bank of India, and Bank of Baroda — that together own just over 45% of UTI Asset Management Company (AMC) are understood to be working on inviting formal bids for selling their stakes, top officials close to the development told ET. Hundreds of former employees from some of India’s biggest unicorns who have left to start up on their own are creating a ripple wave of internet enterprise in what is now the world’s third-largest startup ecosystem.  Akasa Air, India’s newest airline backed by late billionaire Rakesh Jhunjhunwala, is looking to raise $75-100 million by offering fresh shares to expand its business, people with knowledge of the matter said. Download The Economic Times News App to get Daily Market Updates & Live Business News. NSE BSE Why follow tips? Choose your winners rationally in 3 simple steps! Trending Now Hot on Web In Case you missed it Top Calculators Top Searched Companies Top Prime Articles Top Performing MF Top Definitions Top Videos Top Commodities Top Slideshow Top Story Listing Follow us on: Find this comment offensive? Choose your reason below and click on the Report button. This will alert our moderators to take action Reason for reporting: Your Reason has been Reported to the admin. Log In/Connect with: Will be displayed Will not be displayed Will be displayed Worry not. You’re just a step away. Read this story for free. Unlock your 30 days free access to ETPrime now. Login to unlock *No card details required.  To read full story, subscribe to ET Prime ₹34 per week \\n        ',\n",
       "  'Don’t miss out on ET Prime stories! Get your daily dose of business updates on WhatsApp. click here! Vodafone Idea Ltd (Vi) proposes to infuse a total equity of ₹14,000 crore in the near term as part of its business revival plan, said people with knowledge of ongoing discussions. This will see existing promoters Aditya Birla Group (ABG) and UK’s Vodafone Group Plc infuse half the overall amount, they said. As many as 205 managers at Hindustan Unilever Ltd (HUL) took home more than Rs 1 crore in annual salary in FY23, up 25% from 163 in FY22. However, just a third of executives who drew eight-digit salaries were under 40 in FY23, reversing the decade-old trend when half the HUL crore club were people under that threshold.  Top Indian lawmakers strongly refuted claims by Twitter’s former chief executive Jack Dorsey that the government had pressured the microblogging platform to remove certain user accounts during the farmers agitation, with one of them terming the allegations “an outright lie”. Download The Economic Times News App to get Daily Market Updates & Live Business News. NSE BSE Why follow tips? Choose your winners rationally in 3 simple steps! Trending Now Popular Categories Hot on Web In Case you missed it Top Calculators Top Searched Companies Top Definitions Top Prime Articles Most Searched IFSC Codes Top Slideshow Top Trending Topics Most Searched Articles Popular Articles Top Videos Top Story Listing Private Companies Follow us on: Find this comment offensive? Choose your reason below and click on the Report button. This will alert our moderators to take action Reason for reporting: Your Reason has been Reported to the admin. Log In/Connect with: Will be displayed Will not be displayed Will be displayed Worry not. You’re just a step away. Read this story for',\n",
       "  '© 2023 - Privacy - Terms',\n",
       "  'Don’t miss out on ET Prime stories! Get your daily dose of business updates on WhatsApp. click here! Vodafone Idea Ltd (Vi) proposes to infuse a total equity of ₹14,000 crore in the near term as part of its business revival plan, said people with knowledge of ongoing discussions. This will see existing promoters Aditya Birla Group (ABG) and UK’s Vodafone Group Plc infuse half the overall amount, they said. As many as 205 managers at Hindustan Unilever Ltd (HUL) took home more than Rs 1 crore in annual salary in FY23, up 25% from 163 in FY22. However, just a third of executives who drew eight-digit salaries were under 40 in FY23, reversing the decade-old trend when half the HUL crore club were people under that threshold.  Top Indian lawmakers strongly refuted claims by Twitter’s former chief executive Jack Dorsey that the government had pressured the microblogging platform to remove certain user accounts during the farmers agitation, with one of them terming the allegations “an outright lie”. Download The Economic Times News App to get Daily Market Updates & Live Business News. NSE BSE Why follow tips? Choose your winners rationally in 3 simple steps! Trending Now Popular Categories Hot on Web In Case you missed it Top Calculators Top Searched Companies Top Definitions Top Prime Articles Most Searched IFSC Codes Top Slideshow Top Trending Topics Most Searched Articles Popular Articles Top Videos Top Story Listing Private Companies Follow us on: Find this comment offensive? Choose your reason below and click on the Report button. This will alert our moderators to take action Reason for reporting: Your Reason has been Reported to the admin. Log In/Connect with: Will be displayed Will not be displayed Will be displayed Worry not. You’re just a step away. Read this story for',\n",
       "  'Don’t miss out on ET Prime stories! Get your daily dose of business updates on WhatsApp. click here! Four state-owned financial entities — Punjab National Bank, Life Insurance Corporation of India, State Bank of India, and Bank of Baroda — that together own just over 45% of UTI Asset Management Company (AMC) are understood to be working on inviting formal bids for selling their stakes, top officials close to the development told ET. Hundreds of former employees from some of India’s biggest unicorns who have left to start up on their own are creating a ripple wave of internet enterprise in what is now the world’s third-largest startup ecosystem.  Akasa Air, India’s newest airline backed by late billionaire Rakesh Jhunjhunwala, is looking to raise $75-100 million by offering fresh shares to expand its business, people with knowledge of the matter said. Download The Economic Times News App to get Daily Market Updates & Live Business News. NSE BSE Why follow tips? Choose your winners rationally in 3 simple steps! Trending Now Hot on Web In Case you missed it Top Calculators Top Searched Companies Top Commodities Top Slideshow Private Companies Top Prime Articles Top Videos Top Story Listing Top Definitions Follow us on: Find this comment offensive? Choose your reason below and click on the Report button. This will alert our moderators to take action Reason for reporting: Your Reason has been Reported to the admin. Log In/Connect with: Will be displayed Will not be displayed Will be displayed Worry not. You’re just a step away. Read this story for free. Unlock your 30 days free access to ETPrime now. Login to unlock *No card details required.  To read full story, subscribe to ET Prime ₹34 per week \\n         ',\n",
       "  'Don’t miss out on ET Prime stories! Get your daily dose of business updates on WhatsApp. click here! India’s retail inflation slowed more than expected to a 25-month low of 4.25% in May, close to the RBI’s target 4% rate. But experts don’t expect the central bank to start cutting interest rates any time soon. India’s job market is likely to see an uptick in July-September, signalling a positive turnaround after two consecutive quarters of cooling down, a survey of 3,020 employers has revealed. The government has asked Chinese mobile phone manufacturers to induct Indian equity partners in their local operations, said three executives who attended meetings at which the matter was conveyed. Download The Economic Times News App to get Daily Market Updates & Live Business News. NSE BSE Why follow tips? Choose your winners rationally in 3 simple steps! All Mutual Funds Top Tax Saving Mutual Funds Better Than Fixed Deposits Low Cost High Return Funds Best Hybrid Funds Best Large Cap Funds SIP’s starting Rs. 500 Top Performing Mid Caps Promising Multi Cap Funds Top Rated Funds Top Performing Index Funds Trending Now Popular Categories Hot on Web In Case you missed it Top Calculators Top Definitions Top Commodities Top Prime Articles Top Slideshow Top Searched Companies Top Trending Topics Top Story Listing Top Market Pages Top Videos Private Companies Popular Articles Most Searched Articles Trending Articles Follow us on: Find this comment offensive? Choose your reason below and click on the Report button. This will alert our moderators to take action Reason for reporting: Your Reason has been Reported to the admin. Log In/Connect with: Will be displayed Will not be displayed Will be displayed Worry not. You’re just a step away. Read this story for free. Unlock your 30 days free access to ETPrime now.',\n",
       "  'Don’t miss out on ET Prime stories! Get your daily dose of business updates on WhatsApp. click here! Four state-owned financial entities — Punjab National Bank, Life Insurance Corporation of India, State Bank of India, and Bank of Baroda — that together own just over 45% of UTI Asset Management Company (AMC) are understood to be working on inviting formal bids for selling their stakes, top officials close to the development told ET. Hundreds of former employees from some of India’s biggest unicorns who have left to start up on their own are creating a ripple wave of internet enterprise in what is now the world’s third-largest startup ecosystem.  Akasa Air, India’s newest airline backed by late billionaire Rakesh Jhunjhunwala, is looking to raise $75-100 million by offering fresh shares to expand its business, people with knowledge of the matter said. Download The Economic Times News App to get Daily Market Updates & Live Business News. NSE BSE Why follow tips? Choose your winners rationally in 3 simple steps! Trending Now Hot on Web In Case you missed it Top Calculators Top Searched Companies Top Prime Articles Top Performing MF Top Definitions Top Videos Top Commodities Top Slideshow Top Story Listing Follow us on: Find this comment offensive? Choose your reason below and click on the Report button. This will alert our moderators to take action Reason for reporting: Your Reason has been Reported to the admin. Log In/Connect with: Will be displayed Will not be displayed Will be displayed Worry not. You’re just a step away. Read this story for free. Unlock your 30 days free access to ETPrime now. Login to unlock *No card details required.  To read full story, subscribe to ET Prime ₹34 per week \\n        ',\n",
       "  'Don’t miss out on ET Prime stories! Get your daily dose of business updates on WhatsApp. click here! India’s retail inflation slowed more than expected to a 25-month low of 4.25% in May, close to the RBI’s target 4% rate. But experts don’t expect the central bank to start cutting interest rates any time soon. India’s job market is likely to see an uptick in July-September, signalling a positive turnaround after two consecutive quarters of cooling down, a survey of 3,020 employers has revealed. The government has asked Chinese mobile phone manufacturers to induct Indian equity partners in their local operations, said three executives who attended meetings at which the matter was conveyed. Download The Economic Times News App to get Daily Market Updates & Live Business News. NSE BSE Why follow tips? Choose your winners rationally in 3 simple steps! Trending Now Popular Categories Hot on Web In Case you missed it Top Calculators Top Commodities Top Videos Top Definitions Private Companies Popular Articles Top Searched Companies Top Prime Articles Top Story Listing Top Slideshow Most Searched Articles Top Trending Topics Follow us on: Find this comment offensive? Choose your reason below and click on the Report button. This will alert our moderators to take action Reason for reporting: Your Reason has been Reported to the admin. Log In/Connect with: Will be displayed Will not be displayed Will be displayed Worry not. You’re just a step away. Read this story for free. Unlock your 30 days free access to ETPrime now. Login to unlock *No card details required.  To read full story, subscribe to ET Prime ₹34 per week \\n                    Billed annually at \\n     ',\n",
       "  '2 specialty chemical stocks to go for if you seek 40-50% upside in next one year: Sanjiv Bhasin Stay with stocks, Nifty at 19,000 soon; time to own both IndusInd and HDFC Bank: Sanjiv Bhasin What could be the market triggers for June, July and August? Anshul Saigal answers Don’t miss out on ET Prime stories! Get your daily dose of business updates on WhatsApp. click here! India’s retail inflation slowed more than expected to a 25-month low of 4.25% in May, close to the RBI’s target 4% rate. But experts don’t expect the central bank to start cutting interest rates any time soon. India’s job market is likely to see an uptick in July-September, signalling a positive turnaround after two consecutive quarters of cooling down, a survey of 3,020 employers has revealed. The government has asked Chinese mobile phone manufacturers to induct Indian equity partners in their local operations, said three executives who attended meetings at which the matter was conveyed. Download The Economic Times News App to get Daily Market Updates & Live Business News. NSE BSE Why follow tips? Choose your winners rationally in 3 simple steps! All Mutual Funds Top Tax Saving Mutual Funds Better Than Fixed Deposits Low Cost High Return Funds Best Hybrid Funds Best Large Cap Funds SIP’s starting Rs. 500 Top Performing Mid Caps Promising Multi Cap Funds Top Rated Funds Top Performing Index Funds Trending Now Popular Categories Hot on Web In Case you missed it Top Calculators Top Slideshow Top Performing MF Trending Articles Top Prime Articles Popular Articles Top Searched Companies Most Searched Articles Top Definitions Top Story Listing Top Commodities Top Videos Top Trending Topics Follow us on: Find this comment offensive? Choose your reason below and click on the Report button. This will alert our moderators to',\n",
       "  'Don’t miss out on ET Prime stories! Get your daily dose of business updates on WhatsApp. click here! India’s retail inflation slowed more than expected to a 25-month low of 4.25% in May, close to the RBI’s target 4% rate. But experts don’t expect the central bank to start cutting interest rates any time soon. India’s job market is likely to see an uptick in July-September, signalling a positive turnaround after two consecutive quarters of cooling down, a survey of 3,020 employers has revealed. The government has asked Chinese mobile phone manufacturers to induct Indian equity partners in their local operations, said three executives who attended meetings at which the matter was conveyed. Download The Economic Times News App to get Daily Market Updates & Live Business News. NSE BSE Why follow tips? Choose your winners rationally in 3 simple steps! Trending Now Popular Categories Hot on Web In Case you missed it Top Calculators Top Slideshow Top Performing MF Trending Articles Top Prime Articles Popular Articles Top Searched Companies Most Searched Articles Top Definitions Top Story Listing Top Commodities Top Videos Top Trending Topics Follow us on: Find this comment offensive? Choose your reason below and click on the Report button. This will alert our moderators to take action Reason for reporting: Your Reason has been Reported to the admin. Log In/Connect with: Will be displayed Will not be displayed Will be displayed Worry not. You’re just a step away. Read this story for free. Unlock your 30 days free access to ETPrime now. Login to unlock *No card details required.  To read full story, subscribe to ET Prime ₹34 per week \\n                    Billed annually at \\n  '],\n",
       " 'TCS': ['Don’t miss out on ET Prime stories! Get your daily dose of business updates on WhatsApp. click here! Four state-owned financial entities — Punjab National Bank, Life Insurance Corporation of India, State Bank of India, and Bank of Baroda — that together own just over 45% of UTI Asset Management Company (AMC) are understood to be working on inviting formal bids for selling their stakes, top officials close to the development told ET. Hundreds of former employees from some of India’s biggest unicorns who have left to start up on their own are creating a ripple wave of internet enterprise in what is now the world’s third-largest startup ecosystem.  Akasa Air, India’s newest airline backed by late billionaire Rakesh Jhunjhunwala, is looking to raise $75-100 million by offering fresh shares to expand its business, people with knowledge of the matter said. Download The Economic Times News App to get Daily Market Updates & Live Business News. NSE BSE Why follow tips? Choose your winners rationally in 3 simple steps! Trending Now Hot on Web In Case you missed it Top Calculators Top Searched Companies Top Definitions Top Prime Articles Most Searched IFSC Codes Top Slideshow Top Videos Top Story Listing Private Companies Follow us on: Find this comment offensive? Choose your reason below and click on the Report button. This will alert our moderators to take action Reason for reporting: Your Reason has been Reported to the admin. Log In/Connect with: Will be displayed Will not be displayed Will be displayed Worry not. You’re just a step away. Read this story for free. Unlock your 30 days free access to ETPrime now. Login to unlock *No card details required.  To read full story, subscribe to ET Prime ₹34 per week \\n       ',\n",
       "  'Don’t miss out on ET Prime stories! Get your daily dose of business updates on WhatsApp. click here! India’s retail inflation slowed more than expected to a 25-month low of 4.25% in May, close to the RBI’s target 4% rate. But experts don’t expect the central bank to start cutting interest rates any time soon. India’s job market is likely to see an uptick in July-September, signalling a positive turnaround after two consecutive quarters of cooling down, a survey of 3,020 employers has revealed. The government has asked Chinese mobile phone manufacturers to induct Indian equity partners in their local operations, said three executives who attended meetings at which the matter was conveyed. Download The Economic Times News App to get Daily Market Updates & Live Business News. NSE BSE Why follow tips? Choose your winners rationally in 3 simple steps! Trending Now Popular Categories Hot on Web In Case you missed it Top Calculators Top Commodities Top Videos Top Definitions Private Companies Popular Articles Top Searched Companies Top Prime Articles Top Story Listing Top Slideshow Most Searched Articles Top Trending Topics Follow us on: Find this comment offensive? Choose your reason below and click on the Report button. This will alert our moderators to take action Reason for reporting: Your Reason has been Reported to the admin. Log In/Connect with: Will be displayed Will not be displayed Will be displayed Worry not. You’re just a step away. Read this story for free. Unlock your 30 days free access to ETPrime now. Login to unlock *No card details required.  To read full story, subscribe to ET Prime ₹34 per week \\n                    Billed annually at \\n     ',\n",
       "  'Don’t miss out on ET Prime stories! Get your daily dose of business updates on WhatsApp. click here! Vodafone Idea Ltd (Vi) proposes to infuse a total equity of ₹14,000 crore in the near term as part of its business revival plan, said people with knowledge of ongoing discussions. This will see existing promoters Aditya Birla Group (ABG) and UK’s Vodafone Group Plc infuse half the overall amount, they said. As many as 205 managers at Hindustan Unilever Ltd (HUL) took home more than Rs 1 crore in annual salary in FY23, up 25% from 163 in FY22. However, just a third of executives who drew eight-digit salaries were under 40 in FY23, reversing the decade-old trend when half the HUL crore club were people under that threshold.  Top Indian lawmakers strongly refuted claims by Twitter’s former chief executive Jack Dorsey that the government had pressured the microblogging platform to remove certain user accounts during the farmers agitation, with one of them terming the allegations “an outright lie”. Download The Economic Times News App to get Daily Market Updates & Live Business News. NSE BSE Why follow tips? Choose your winners rationally in 3 simple steps! All Mutual Funds Top Tax Saving Mutual Funds Better Than Fixed Deposits Low Cost High Return Funds Best Hybrid Funds Best Large Cap Funds SIP’s starting Rs. 500 Top Performing Mid Caps Promising Multi Cap Funds Top Rated Funds Top Performing Index Funds Trending Now Popular Categories Hot on Web In Case you missed it Top Calculators Top Searched Companies Top Prime Articles Top Performing MF Popular Articles Top Trending Topics Most Searched Articles Top Definitions Top Videos Top Commodities Top Slideshow Top Story Listing Follow us on: Find this comment offensive? Choose your reason below and click on the Report button. This',\n",
       "  \"5 Stories 7 Stories 9 Stories 9 Stories 8 Stories 6 Stories Don’t miss out on ET Prime stories! Get your daily dose of business updates on WhatsApp. click here! India’s retail inflation slowed more than expected to a 25-month low of 4.25% in May, close to the RBI’s target 4% rate. But experts don’t expect the central bank to start cutting interest rates any time soon. India’s job market is likely to see an uptick in July-September, signalling a positive turnaround after two consecutive quarters of cooling down, a survey of 3,020 employers has revealed. The government has asked Chinese mobile phone manufacturers to induct Indian equity partners in their local operations, said three executives who attended meetings at which the matter was conveyed. ETPrime stories of the day Ola IPO drum roll starts again: inside Bhavish Aggarwal’s electric dream and eclectic interests G7 wants to tame China’s economic coercion through semiconductor tech. India could be a key ally. Looking to tame the beast called the stock market? These five evergreen mental models may help. Layoff Tracker  Company Name Layoffs  Byju's 3,500  Unacademy 1,350  Vedantu 1,100  Cars24 600  Oyo 600  Udaan 530  Mohalla Tech 500  Mfine 500  Swiggy 380  Frontrow 280  Ola 200  DealShare 100  Cashfree 100  WazirX 60  Meesho 150 Trending Now Popular Categories Hot on Web In Case you missed it Top Calculators Top Commodities Top Prime Articles Top Slideshow Private Companies Top Trending Topics Popular Articles Top Definitions Top Searched Companies Top Videos Most Searched Articles Top Story Listing Follow us on: Find this comment offensive? Choose your reason below and click on the Report button. This will alert our moderators to take action Reason for reporting: Your Reason has\",\n",
       "  \"5 Stories 7 Stories 9 Stories 9 Stories 8 Stories 6 Stories Don’t miss out on ET Prime stories! Get your daily dose of business updates on WhatsApp. click here! Four state-owned financial entities — Punjab National Bank, Life Insurance Corporation of India, State Bank of India, and Bank of Baroda — that together own just over 45% of UTI Asset Management Company (AMC) are understood to be working on inviting formal bids for selling their stakes, top officials close to the development told ET. Hundreds of former employees from some of India’s biggest unicorns who have left to start up on their own are creating a ripple wave of internet enterprise in what is now the world’s third-largest startup ecosystem.  Akasa Air, India’s newest airline backed by late billionaire Rakesh Jhunjhunwala, is looking to raise $75-100 million by offering fresh shares to expand its business, people with knowledge of the matter said. ETPrime stories of the day A pattern of mismanagement: What data breaches tell us about the state of Indian cybersecurity The future is not EV, but flex-fuel vehicles, says the ethanol man of India Key to disruptive ideas: why big tech is in a race for supremacy in chip designing Layoff Tracker  Company Name Layoffs  Byju's 3,500  Unacademy 1,350  Vedantu 1,100  Cars24 600  Oyo 600  Udaan 530  Mohalla Tech 500  Mfine 500  Swiggy 380  Frontrow 280  Ola 200  DealShare 100  Cashfree 100  WazirX 60  Meesho 150 Trending Now Hot on Web In Case you missed it Top Calculators Top Story Listing Top Slideshow Private Companies Top Searched Companies Top Prime Articles Top Videos Most Searched IFSC Codes Top Definitions Follow us on: Find this comment offensive? Choose your reason below\",\n",
       "  'Don’t miss out on ET Prime stories! Get your daily dose of business updates on WhatsApp. click here! Four state-owned financial entities — Punjab National Bank, Life Insurance Corporation of India, State Bank of India, and Bank of Baroda — that together own just over 45% of UTI Asset Management Company (AMC) are understood to be working on inviting formal bids for selling their stakes, top officials close to the development told ET. Hundreds of former employees from some of India’s biggest unicorns who have left to start up on their own are creating a ripple wave of internet enterprise in what is now the world’s third-largest startup ecosystem.  Akasa Air, India’s newest airline backed by late billionaire Rakesh Jhunjhunwala, is looking to raise $75-100 million by offering fresh shares to expand its business, people with knowledge of the matter said. Download The Economic Times News App to get Daily Market Updates & Live Business News. NSE BSE Why follow tips? Choose your winners rationally in 3 simple steps! Trending Now Hot on Web In Case you missed it Top Calculators Top Searched Companies Top Definitions Top Prime Articles Top Story Listing Top Slideshow Top Performing MF Top Videos Most Searched IFSC Codes Follow us on: Find this comment offensive? Choose your reason below and click on the Report button. This will alert our moderators to take action Reason for reporting: Your Reason has been Reported to the admin. Log In/Connect with: Will be displayed Will not be displayed Will be displayed Worry not. You’re just a step away. Read this story for free. Unlock your 30 days free access to ETPrime now. Login to unlock *No card details required.  To read full story, subscribe to ET Prime ₹34 per week \\n      ',\n",
       "  \"We use cookies and other tracking technologies to improve your browsing experience on our site, show personalize content and targeted ads, analyze site traffic, and understand where our audience is coming from. You can also read our privacy policy, We use cookies to ensure the best experience for you on our website. On Wednesday, the Union Cabinet approved the third revival package for the telecom PSU worth Rs 89,047 crores which also includes the allotment of 4G/5G spectrum through equity infusion. \\n\\nNews \\n\\n See whats happening in Telecom sector right now \\n\\nExclusive \\n\\n Read and get insights from specially curated unique stories from editorial \\n\\nLeaders Speak\\n\\n Business leaders sharing their insights \\n\\nEvents\\n\\n Explore and discuss challenges & trends in India's leading B2B events \\n\\nAwards \\n\\n Recognise work that not only stood out but was also purposeful \\n\\nWebinars \\n\\n Join leaders & experts for roundtables, conferences, panels and discussions Subscribe to our Daily Newsletter  By continuing you agree to our Privacy Policy & Terms & Conditions \\nAdvertise With Us\\n We have various options to advertise with us including Events, Advertorials, Banners, Mailers, etc. \\nDownload ETTelecom App \\n Save your favourite articles with seamless reading experience \\nGet updates on your preferred social platform\\n Follow us for the latest news, insider access to events and more. About Us Contact Us Newsletters\",\n",
       "  'Don’t miss out on ET Prime stories! Get your daily dose of business updates on WhatsApp. click here! Four state-owned financial entities — Punjab National Bank, Life Insurance Corporation of India, State Bank of India, and Bank of Baroda — that together own just over 45% of UTI Asset Management Company (AMC) are understood to be working on inviting formal bids for selling their stakes, top officials close to the development told ET. Hundreds of former employees from some of India’s biggest unicorns who have left to start up on their own are creating a ripple wave of internet enterprise in what is now the world’s third-largest startup ecosystem.  Akasa Air, India’s newest airline backed by late billionaire Rakesh Jhunjhunwala, is looking to raise $75-100 million by offering fresh shares to expand its business, people with knowledge of the matter said. ETPrime stories of the day A pattern of mismanagement: What data breaches tell us about the state of Indian cybersecurity The future is not EV, but flex-fuel vehicles, says the ethanol man of India Key to disruptive ideas: why big tech is in a race for supremacy in chip designing Trending Now Hot on Web In Case you missed it Top Calculators Top Prime Articles Top Slideshow Top Videos Private Companies Top Definitions Top Searched Companies Top Commodities Top Story Listing Top Market Pages Follow us on: Find this comment offensive? Choose your reason below and click on the Report button. This will alert our moderators to take action Reason for reporting: Your Reason has been Reported to the admin. Log In/Connect with: Will be displayed Will not be displayed Will be displayed Stories you might be interested in',\n",
       "  '© 2023 - Privacy - Terms',\n",
       "  'Don’t miss out on ET Prime stories! Get your daily dose of business updates on WhatsApp. click here! Vodafone Idea Ltd (Vi) proposes to infuse a total equity of ₹14,000 crore in the near term as part of its business revival plan, said people with knowledge of ongoing discussions. This will see existing promoters Aditya Birla Group (ABG) and UK’s Vodafone Group Plc infuse half the overall amount, they said. As many as 205 managers at Hindustan Unilever Ltd (HUL) took home more than Rs 1 crore in annual salary in FY23, up 25% from 163 in FY22. However, just a third of executives who drew eight-digit salaries were under 40 in FY23, reversing the decade-old trend when half the HUL crore club were people under that threshold.  Top Indian lawmakers strongly refuted claims by Twitter’s former chief executive Jack Dorsey that the government had pressured the microblogging platform to remove certain user accounts during the farmers agitation, with one of them terming the allegations “an outright lie”. Download The Economic Times News App to get Daily Market Updates & Live Business News. NSE BSE Why follow tips? Choose your winners rationally in 3 simple steps! All Mutual Funds Top Tax Saving Mutual Funds Better Than Fixed Deposits Low Cost High Return Funds Best Hybrid Funds Best Large Cap Funds SIP’s starting Rs. 500 Top Performing Mid Caps Promising Multi Cap Funds Top Rated Funds Top Performing Index Funds Trending Now Popular Categories Hot on Web In Case you missed it Top Calculators Top Searched Companies Top Commodities Top Slideshow Top Trending Topics Private Companies Top Prime Articles Top Videos Popular Articles Top Story Listing Top Definitions Most Searched Articles Follow us on: Find this comment offensive? Choose your reason below and click on the Report button. This will',\n",
       "  'Don’t miss out on ET Prime stories! Get your daily dose of business updates on WhatsApp. click here! Four state-owned financial entities — Punjab National Bank, Life Insurance Corporation of India, State Bank of India, and Bank of Baroda — that together own just over 45% of UTI Asset Management Company (AMC) are understood to be working on inviting formal bids for selling their stakes, top officials close to the development told ET. Hundreds of former employees from some of India’s biggest unicorns who have left to start up on their own are creating a ripple wave of internet enterprise in what is now the world’s third-largest startup ecosystem.  Akasa Air, India’s newest airline backed by late billionaire Rakesh Jhunjhunwala, is looking to raise $75-100 million by offering fresh shares to expand its business, people with knowledge of the matter said. (Your legal guide on estate planning, inheritance, will and more.) Download The Economic Times News App to get Daily Market Updates & Live Business News. 13 ways to avoid the 20% TCS on overseas tour packages effective July 1, 2023 2When is Form 16 issued to employees by employers for ITR filing? 3How to file ITR-1 for FY 2022-23 with salary, income from house property and other sources 4Will your ‘gift’ be taxed? 5Paying rent to parents can cut tax by Rs 98,000 1Who has to file ITR 2Collect Documents/Information 3Check ITR form 4Login to file ITR 5Fill the Form 6Claim Deductions 7Pre-validate Bank Account 8ITR Verification 9Track Intimation Notice 10Track Refund All Mutual Funds Top Tax Saving Mutual Funds Better Than Fixed Deposits Low Cost High Return Funds Best Hybrid Funds Best Large Cap Funds SIP’s starting Rs. 500 Top Performing Mid Caps Promising Multi Cap Funds Top Rated Funds Top Performing Index Funds Trending Now Hot']}"
      ]
     },
     "execution_count": 12,
     "metadata": {},
     "output_type": "execute_result"
    }
   ],
   "source": [
    "articles = {ticker:scrape_and_process(cleaned_urls[ticker]) for ticker in monitored_tickers}\n",
    "articles"
   ]
  },
  {
   "cell_type": "code",
   "execution_count": 13,
   "id": "c7abe665",
   "metadata": {},
   "outputs": [
    {
     "name": "stdout",
     "output_type": "stream",
     "text": [
      "Requirement already satisfied: transformers in c:\\users\\msi\\anaconda3\\lib\\site-packages (4.29.2)\n",
      "Requirement already satisfied: tqdm>=4.27 in c:\\users\\msi\\anaconda3\\lib\\site-packages (from transformers) (4.65.0)\n",
      "Requirement already satisfied: huggingface-hub<1.0,>=0.14.1 in c:\\users\\msi\\anaconda3\\lib\\site-packages (from transformers) (0.14.1)\n",
      "Requirement already satisfied: filelock in c:\\users\\msi\\anaconda3\\lib\\site-packages (from transformers) (3.9.0)\n",
      "Requirement already satisfied: numpy>=1.17 in c:\\users\\msi\\appdata\\roaming\\python\\python39\\site-packages (from transformers) (1.24.3)\n",
      "Requirement already satisfied: requests in c:\\users\\msi\\anaconda3\\lib\\site-packages (from transformers) (2.29.0)\n",
      "Requirement already satisfied: tokenizers!=0.11.3,<0.14,>=0.11.1 in c:\\users\\msi\\anaconda3\\lib\\site-packages (from transformers) (0.13.3)\n",
      "Requirement already satisfied: pyyaml>=5.1 in c:\\users\\msi\\anaconda3\\lib\\site-packages (from transformers) (6.0)\n",
      "Requirement already satisfied: packaging>=20.0 in c:\\users\\msi\\anaconda3\\lib\\site-packages (from transformers) (23.0)\n",
      "Requirement already satisfied: regex!=2019.12.17 in c:\\users\\msi\\anaconda3\\lib\\site-packages (from transformers) (2022.7.9)\n",
      "Requirement already satisfied: fsspec in c:\\users\\msi\\anaconda3\\lib\\site-packages (from huggingface-hub<1.0,>=0.14.1->transformers) (2023.4.0)\n",
      "Requirement already satisfied: typing-extensions>=3.7.4.3 in c:\\users\\msi\\anaconda3\\lib\\site-packages (from huggingface-hub<1.0,>=0.14.1->transformers) (4.5.0)\n",
      "Requirement already satisfied: colorama in c:\\users\\msi\\anaconda3\\lib\\site-packages (from tqdm>=4.27->transformers) (0.4.6)\n",
      "Requirement already satisfied: urllib3<1.27,>=1.21.1 in c:\\users\\msi\\anaconda3\\lib\\site-packages (from requests->transformers) (1.26.15)\n",
      "Requirement already satisfied: certifi>=2017.4.17 in c:\\users\\msi\\anaconda3\\lib\\site-packages (from requests->transformers) (2023.5.7)\n",
      "Requirement already satisfied: idna<4,>=2.5 in c:\\users\\msi\\anaconda3\\lib\\site-packages (from requests->transformers) (3.4)\n",
      "Requirement already satisfied: charset-normalizer<4,>=2 in c:\\users\\msi\\anaconda3\\lib\\site-packages (from requests->transformers) (2.0.4)\n"
     ]
    }
   ],
   "source": [
    "! pip install transformers"
   ]
  },
  {
   "cell_type": "code",
   "execution_count": 14,
   "id": "1bccaafb",
   "metadata": {},
   "outputs": [
    {
     "data": {
      "application/vnd.jupyter.widget-view+json": {
       "model_id": "621a40d787d14d4d8fb82fc60724dcaf",
       "version_major": 2,
       "version_minor": 0
      },
      "text/plain": [
       "Downloading (…)lve/main/config.json:   0%|          | 0.00/1.58k [00:00<?, ?B/s]"
      ]
     },
     "metadata": {},
     "output_type": "display_data"
    },
    {
     "name": "stderr",
     "output_type": "stream",
     "text": [
      "C:\\Users\\msi\\anaconda3\\lib\\site-packages\\huggingface_hub\\file_download.py:133: UserWarning: `huggingface_hub` cache-system uses symlinks by default to efficiently store duplicated files but your machine does not support them in C:\\Users\\msi\\.cache\\huggingface\\hub. Caching files will still work but in a degraded version that might require more space on your disk. This warning can be disabled by setting the `HF_HUB_DISABLE_SYMLINKS_WARNING` environment variable. For more details, see https://huggingface.co/docs/huggingface_hub/how-to-cache#limitations.\n",
      "To support symlinks on Windows, you either need to activate Developer Mode or to run Python as an administrator. In order to see activate developer mode, see this article: https://docs.microsoft.com/en-us/windows/apps/get-started/enable-your-device-for-development\n",
      "  warnings.warn(message)\n"
     ]
    },
    {
     "data": {
      "application/vnd.jupyter.widget-view+json": {
       "model_id": "6ebe7d897a4a41169fc06d36b657e41c",
       "version_major": 2,
       "version_minor": 0
      },
      "text/plain": [
       "Downloading (…)olve/main/vocab.json:   0%|          | 0.00/899k [00:00<?, ?B/s]"
      ]
     },
     "metadata": {},
     "output_type": "display_data"
    },
    {
     "data": {
      "application/vnd.jupyter.widget-view+json": {
       "model_id": "cefe92162b6444a981b2f6ee861541fd",
       "version_major": 2,
       "version_minor": 0
      },
      "text/plain": [
       "Downloading (…)olve/main/merges.txt:   0%|          | 0.00/456k [00:00<?, ?B/s]"
      ]
     },
     "metadata": {},
     "output_type": "display_data"
    },
    {
     "data": {
      "application/vnd.jupyter.widget-view+json": {
       "model_id": "1c83157c9824460c882ade4732bcd915",
       "version_major": 2,
       "version_minor": 0
      },
      "text/plain": [
       "Downloading (…)/main/tokenizer.json:   0%|          | 0.00/1.36M [00:00<?, ?B/s]"
      ]
     },
     "metadata": {},
     "output_type": "display_data"
    },
    {
     "data": {
      "application/vnd.jupyter.widget-view+json": {
       "model_id": "06a545ede1b74d1b9069dfe8b42bd9f1",
       "version_major": 2,
       "version_minor": 0
      },
      "text/plain": [
       "Downloading tf_model.h5:   0%|          | 0.00/1.63G [00:00<?, ?B/s]"
      ]
     },
     "metadata": {},
     "output_type": "display_data"
    },
    {
     "name": "stderr",
     "output_type": "stream",
     "text": [
      "All model checkpoint layers were used when initializing TFBartForConditionalGeneration.\n",
      "\n",
      "All the layers of TFBartForConditionalGeneration were initialized from the model checkpoint at facebook/bart-large-cnn.\n",
      "If your task is similar to the task the model of the checkpoint was trained on, you can already use TFBartForConditionalGeneration for predictions without further training.\n"
     ]
    },
    {
     "data": {
      "application/vnd.jupyter.widget-view+json": {
       "model_id": "39ea960cc49047bfb1676f44006e49df",
       "version_major": 2,
       "version_minor": 0
      },
      "text/plain": [
       "Downloading (…)neration_config.json:   0%|          | 0.00/363 [00:00<?, ?B/s]"
      ]
     },
     "metadata": {},
     "output_type": "display_data"
    }
   ],
   "source": [
    "from transformers import AutoTokenizer, TFAutoModelForSeq2SeqLM\n",
    "from tensorflow.python.keras.saving.hdf5_format import save_attributes_to_hdf5_group\n",
    "model_name = \"facebook/bart-large-cnn\"\n",
    "tokenizer = AutoTokenizer.from_pretrained(model_name)\n",
    "model = TFAutoModelForSeq2SeqLM.from_pretrained(model_name)"
   ]
  },
  {
   "cell_type": "code",
   "execution_count": 15,
   "id": "17d3abe0",
   "metadata": {},
   "outputs": [],
   "source": [
    "def summarize(articles):\n",
    "    summaries = []\n",
    "    for article in articles:\n",
    "        input_ids = tokenizer.encode(article,return_tensors='pt')\n",
    "        output = model.generate(input_ids, max_length=130, num_beams=5, early_stopping=True)\n",
    "        summary = tokenizer.decode(output[0], skip_special_tokens=True)\n",
    "        summaries.append(summary)\n",
    "    return summaries"
   ]
  },
  {
   "cell_type": "code",
   "execution_count": 16,
   "id": "0bd5b6a3",
   "metadata": {},
   "outputs": [
    {
     "data": {
      "text/plain": [
       "{'reliance': ['India’s retail inflation slowed more than expected to a 25-month low of 4.25% in May. Experts don’t expect the central bank to start cutting interest rates any time soon. The government has asked Chinese mobile phone manufacturers to induct Indian equity partners in their local operations.',\n",
       "  'Four state-owned financial entities are understood to be working on inviting formal bids for selling their stakes in UTI Asset Management Company. Hundreds of former employees from some of India’s biggest unicorns who have left to start up on their own are creating a ripple wave of internet enterprise. Akasa Air is looking to raise $75-100 million by offering fresh shares.',\n",
       "  'Akasa Air, backed by late billionaire Rakesh Jhunjhunwala, is looking to raise $75-100 million by offering fresh shares. Hundreds of former employees from some of India’s biggest unicorns who have left to start up on their own.',\n",
       "  'Delhi-based telecom industry association concluded its Annual General Body Meeting for the financial year 2022-23 on Wednesday. Follow us for the latest news, insider access to events and more. We use cookies and other tracking technologies to improve your browsing experience. By continuing you agree to our Privacy Policy & Terms & Conditions.',\n",
       "  'Akasa Air, backed by late billionaire Rakesh Jhunjhunwala, is looking to raise $75-100 million by offering fresh shares. Hundreds of former employees from some of India’s biggest unicorns who have left to start up on their own are creating a ripple wave of internet enterprise.',\n",
       "  'India’s retail inflation slowed more than expected to a 25-month low of 4.25% in May. Experts don’t expect the central bank to start cutting interest rates any time soon. The government has asked Chinese mobile phone manufacturers to induct Indian equity partners in their local operations.',\n",
       "  'Four state-owned financial entities are understood to be working on inviting formal bids for selling their stakes in UTI Asset Management Company. Hundreds of former employees from some of India’s biggest unicorns who have left to start up on their own are creating a ripple wave of internet enterprise.',\n",
       "  'Akasa Air, backed by late billionaire Rakesh Jhunjhunwala, is looking to raise $75-100 million by offering fresh shares. Hundreds of former employees from some of India’s biggest unicorns who have left to start up on their own are creating a ripple wave of internet enterprise.',\n",
       "  '© 2023 - Privacy - Terms and Conditions. For confidential support call the Samaritans on 08457 90 90 90 or visit a local Samaritans branch, see www.samaritans.org for details. In the U.S. call the National Suicide Prevention Line on 1-800-273-8255.',\n",
       "  'India’s retail inflation slowed more than expected to a 25-month low of 4.25% in May. Experts don’t expect the central bank to start cutting interest rates any time soon. The government has asked Chinese mobile phone manufacturers to induct Indian equity partners in their local operations.',\n",
       "  'Vodafone Idea Ltd proposes to infuse a total equity of ₹14,000 crore in the near term as part of its business revival plan. This will see existing promoters Aditya Birla Group (ABG) and UK’s Vodaphone Group Plc infuse half the overall amount.'],\n",
       " 'tatamotors': ['Akasa Air, backed by late billionaire Rakesh Jhunjhunwala, is looking to raise $75-100 million. Hundreds of former employees from some of India’s biggest unicorns who have left to start up on their own are creating a ripple wave of internet enterprise.',\n",
       "  'Vodafone Idea Ltd proposes to infuse a total equity of ₹14,000 crore in the near term as part of its business revival plan. This will see existing promoters Aditya Birla Group (ABG) and UK’s Vodaphone Group Plc infuse half the overall amount.',\n",
       "  'Vodafone Idea Ltd proposes to infuse a total equity of ₹14,000 crore in the near term as part of its business revival plan. This will see existing promoters Aditya Birla Group (ABG) and UK’s Vodaphone Group Plc infuse half the overall amount.',\n",
       "  'The top two market players in the SCV segment, M&M and Tata Motors, witnessed a neck and neck contest with 40.3% and 39% market share in FY22. Amid high demand from e-commerce businesses and need for affordable last-mile cargo and logistic solutions, each player is attempting to increase sales.',\n",
       "  'Vodafone Idea Ltd proposes to infuse a total equity of ₹14,000 crore in the near term. 205 managers at Hindustan Unilever Ltd (HUL) took home more than Rs 1 crore in annual salary in FY23, up 25% from 163 in FY22. Top Indian lawmakers strongly refuted claims by Twitter’s former chief executive Jack Dorsey.',\n",
       "  'Vodafone Idea Ltd proposes to infuse a total equity of ₹14,000 crore in the near term as part of its business revival plan. This will see existing promoters Aditya Birla Group (ABG) and UK’s Vodaphone Group Plc infuse half the overall amount.',\n",
       "  'Vodafone Idea Ltd proposes to infuse a total equity of ₹14,000 crore in the near term as part of its business revival plan. This will see existing promoters Aditya Birla Group (ABG) and UK’s Vodaphone Group Plc infuse half the overall amount.',\n",
       "  'Vodafone Idea Ltd proposes to infuse a total equity of ₹14,000 crore in the near term as part of its business revival plan. This will see existing promoters Aditya Birla Group (ABG) and UK’s Vodaphone Group Plc infuse half the overall amount.',\n",
       "  'Vodafone Idea Ltd proposes to infuse a total equity of ₹14,000 crore in the near term as part of its business revival plan. This will see existing promoters Aditya Birla Group (ABG) and UK’s Vodaphone Group Plc infuse half the overall amount.',\n",
       "  '© 2023 - Privacy - Terms and Conditions. For confidential support call the Samaritans on 08457 90 90 90 or visit a local Samaritans branch, see www.samaritans.org for details. In the U.S. call the National Suicide Prevention Line on 1-800-273-8255.',\n",
       "  'India’s retail inflation slowed more than expected to a 25-month low of 4.25% in May. Experts don’t expect the central bank to start cutting interest rates any time soon. The government has asked Chinese mobile phone manufacturers to induct Indian equity partners in their local operations.'],\n",
       " 'hindalco': ['Vodafone Idea Ltd proposes to infuse a total equity of ₹14,000 crore in the near term as part of its business revival plan. This will see existing promoters Aditya Birla Group (ABG) and UK’s Vodaphone Group Plc infuse half the overall amount.',\n",
       "  'Akasa Air, backed by late billionaire Rakesh Jhunjhunwala, is looking to raise $75-100 million by offering fresh shares to expand its business. Hundreds of former employees from some of India’s biggest unicorns who have left to start up on their own.',\n",
       "  'Vodafone Idea Ltd proposes to infuse a total equity of ₹14,000 crore in the near term as part of its business revival plan. This will see existing promoters Aditya Birla Group (ABG) and UK’s Vodaphone Group Plc infuse half the overall amount.',\n",
       "  '© 2023 - Privacy - Terms and Conditions. For confidential support call the Samaritans on 08457 90 90 90 or visit a local Samaritans branch, see www.samaritans.org for details. In the U.S. call the National Suicide Prevention Line on 1-800-273-8255.',\n",
       "  'Vodafone Idea Ltd proposes to infuse a total equity of ₹14,000 crore in the near term as part of its business revival plan. This will see existing promoters Aditya Birla Group (ABG) and UK’s Vodaphone Group Plc infuse half the overall amount.',\n",
       "  'Akasa Air, backed by late billionaire Rakesh Jhunjhunwala, is looking to raise $75-100 million by offering fresh shares to expand its business. Hundreds of former employees from some of India’s biggest unicorns who have left to start up on their own.',\n",
       "  'India’s retail inflation slowed more than expected to a 25-month low of 4.25% in May. Experts don’t expect the central bank to start cutting interest rates any time soon. The government has asked Chinese mobile phone manufacturers to induct Indian equity partners in their local operations.',\n",
       "  'Akasa Air, backed by late billionaire Rakesh Jhunjhunwala, is looking to raise $75-100 million by offering fresh shares to expand its business. Hundreds of former employees from some of India’s biggest unicorns who have left to start up on their own.',\n",
       "  'India’s retail inflation slowed more than expected to a 25-month low of 4.25% in May. Experts don’t expect the central bank to start cutting interest rates any time soon. The government has asked Chinese mobile phone manufacturers to induct Indian equity partners in their local operations.',\n",
       "  'India’s retail inflation slowed more than expected to a 25-month low of 4.25% in May. Experts don’t expect the central bank to start cutting interest rates any time soon. The government has asked Chinese mobile phone manufacturers to induct Indian equity partners in their local operations.',\n",
       "  'India’s retail inflation slowed more than expected to a 25-month low of 4.25% in May. Experts don’t expect the central bank to start cutting interest rates any time soon. The government has asked Chinese mobile phone manufacturers to induct Indian equity partners in their local operations.'],\n",
       " 'TCS': ['Akasa Air, backed by late billionaire Rakesh Jhunjhunwala, is looking to raise $75-100 million by offering fresh shares to expand its business. Hundreds of former employees from some of India’s biggest unicorns who have left to start up on their own.',\n",
       "  'India’s retail inflation slowed more than expected to a 25-month low of 4.25% in May. Experts don’t expect the central bank to start cutting interest rates any time soon. The government has asked Chinese mobile phone manufacturers to induct Indian equity partners in their local operations.',\n",
       "  'Vodafone Idea Ltd proposes to infuse a total equity of ₹14,000 crore in the near term as part of its business revival plan. This will see existing promoters Aditya Birla Group (ABG) and UK’s Vodaphone Group Plc infuse half the overall amount.',\n",
       "  'India’s retail inflation slowed more than expected to a 25-month low of 4.25% in May. Experts don’t expect the central bank to start cutting interest rates any time soon. The government has asked Chinese mobile phone manufacturers to induct Indian equity partners in their local operations.',\n",
       "  \"Akasa Air, India's newest airline backed by late billionaire Rakesh Jhunjhunwala, is looking to raise $75-100 million by offering fresh shares. Hundreds of former employees from some of India’s biggest unicorns who have left to start up on their own.\",\n",
       "  'Akasa Air, backed by late billionaire Rakesh Jhunjhunwala, is looking to raise $75-100 million by offering fresh shares to expand its business. Hundreds of former employees from some of India’s biggest unicorns who have left to start up on their own.',\n",
       "  'On Wednesday, the Union Cabinet approved the third revival package for the telecom PSU worth Rs 89,047 crores. The package also includes the allotment of 4G/5G spectrum through equity infusion. Follow us for the latest news, insider access to events and more.',\n",
       "  'Akasa Air, backed by late billionaire Rakesh Jhunjhunwala, is looking to raise $75-100 million by offering fresh shares. Hundreds of former employees from some of India’s biggest unicorns who have left to start up on their own are creating a ripple wave of internet enterprise.',\n",
       "  '© 2023 - Privacy - Terms and Conditions. For confidential support call the Samaritans on 08457 90 90 90 or visit a local Samaritans branch, see www.samaritans.org for details. In the U.S. call the National Suicide Prevention Line on 1-800-273-8255.',\n",
       "  'Vodafone Idea Ltd proposes to infuse a total equity of ₹14,000 crore in the near term as part of its business revival plan. This will see existing promoters Aditya Birla Group (ABG) and UK’s Vodaphone Group Plc infuse half the overall amount.',\n",
       "  'Akasa Air, backed by late billionaire Rakesh Jhunjhunwala, is looking to raise $75-100 million. Hundreds of former employees from some of India’s biggest unicorns who have left to start up on their own are creating a ripple wave of internet enterprise.']}"
      ]
     },
     "execution_count": 16,
     "metadata": {},
     "output_type": "execute_result"
    }
   ],
   "source": [
    "summaries = {ticker:summarize(articles[ticker]) for ticker in monitored_tickers}\n",
    "summaries"
   ]
  },
  {
   "cell_type": "code",
   "execution_count": 17,
   "id": "408a066f",
   "metadata": {},
   "outputs": [
    {
     "name": "stderr",
     "output_type": "stream",
     "text": [
      "No model was supplied, defaulted to distilbert-base-uncased-finetuned-sst-2-english and revision af0f99b (https://huggingface.co/distilbert-base-uncased-finetuned-sst-2-english).\n",
      "Using a pipeline without specifying a model name and revision in production is not recommended.\n"
     ]
    },
    {
     "data": {
      "application/vnd.jupyter.widget-view+json": {
       "model_id": "1f9e49c175874897b9334c5898ba4e4f",
       "version_major": 2,
       "version_minor": 0
      },
      "text/plain": [
       "Downloading pytorch_model.bin:   0%|          | 0.00/268M [00:00<?, ?B/s]"
      ]
     },
     "metadata": {},
     "output_type": "display_data"
    },
    {
     "data": {
      "application/vnd.jupyter.widget-view+json": {
       "model_id": "4285c4a714614dc4aefdc3b43cec617a",
       "version_major": 2,
       "version_minor": 0
      },
      "text/plain": [
       "Downloading (…)okenizer_config.json:   0%|          | 0.00/48.0 [00:00<?, ?B/s]"
      ]
     },
     "metadata": {},
     "output_type": "display_data"
    },
    {
     "data": {
      "application/vnd.jupyter.widget-view+json": {
       "model_id": "19192d750c2b4ba7a12d536d1d10f963",
       "version_major": 2,
       "version_minor": 0
      },
      "text/plain": [
       "Downloading (…)solve/main/vocab.txt:   0%|          | 0.00/232k [00:00<?, ?B/s]"
      ]
     },
     "metadata": {},
     "output_type": "display_data"
    },
    {
     "name": "stderr",
     "output_type": "stream",
     "text": [
      "Xformers is not installed correctly. If you want to use memorry_efficient_attention to accelerate training use the following command to install Xformers\n",
      "pip install xformers.\n"
     ]
    }
   ],
   "source": [
    "from transformers import pipeline\n",
    "sentiment = pipeline('sentiment-analysis')"
   ]
  },
  {
   "cell_type": "code",
   "execution_count": 18,
   "id": "61a7a1a5",
   "metadata": {},
   "outputs": [
    {
     "data": {
      "text/plain": [
       "{'reliance': [{'label': 'NEGATIVE', 'score': 0.9959989786148071},\n",
       "  {'label': 'POSITIVE', 'score': 0.9967479705810547},\n",
       "  {'label': 'POSITIVE', 'score': 0.9538601040840149},\n",
       "  {'label': 'POSITIVE', 'score': 0.9969134330749512},\n",
       "  {'label': 'POSITIVE', 'score': 0.9980120658874512},\n",
       "  {'label': 'NEGATIVE', 'score': 0.9959989786148071},\n",
       "  {'label': 'POSITIVE', 'score': 0.9984074234962463},\n",
       "  {'label': 'POSITIVE', 'score': 0.9980120658874512},\n",
       "  {'label': 'NEGATIVE', 'score': 0.9733965396881104},\n",
       "  {'label': 'NEGATIVE', 'score': 0.9959989786148071},\n",
       "  {'label': 'NEGATIVE', 'score': 0.9933997392654419}],\n",
       " 'tatamotors': [{'label': 'POSITIVE', 'score': 0.9984456896781921},\n",
       "  {'label': 'NEGATIVE', 'score': 0.9933997392654419},\n",
       "  {'label': 'NEGATIVE', 'score': 0.9933997392654419},\n",
       "  {'label': 'NEGATIVE', 'score': 0.9535959362983704},\n",
       "  {'label': 'NEGATIVE', 'score': 0.9399324059486389},\n",
       "  {'label': 'NEGATIVE', 'score': 0.9933997392654419},\n",
       "  {'label': 'NEGATIVE', 'score': 0.9933997392654419},\n",
       "  {'label': 'NEGATIVE', 'score': 0.9933997392654419},\n",
       "  {'label': 'NEGATIVE', 'score': 0.9933997392654419},\n",
       "  {'label': 'NEGATIVE', 'score': 0.9733965396881104},\n",
       "  {'label': 'NEGATIVE', 'score': 0.9959989786148071}],\n",
       " 'hindalco': [{'label': 'NEGATIVE', 'score': 0.9933997392654419},\n",
       "  {'label': 'POSITIVE', 'score': 0.9899899959564209},\n",
       "  {'label': 'NEGATIVE', 'score': 0.9933997392654419},\n",
       "  {'label': 'NEGATIVE', 'score': 0.9733965396881104},\n",
       "  {'label': 'NEGATIVE', 'score': 0.9933997392654419},\n",
       "  {'label': 'POSITIVE', 'score': 0.9899899959564209},\n",
       "  {'label': 'NEGATIVE', 'score': 0.9959989786148071},\n",
       "  {'label': 'POSITIVE', 'score': 0.9899899959564209},\n",
       "  {'label': 'NEGATIVE', 'score': 0.9959989786148071},\n",
       "  {'label': 'NEGATIVE', 'score': 0.9959989786148071},\n",
       "  {'label': 'NEGATIVE', 'score': 0.9959989786148071}],\n",
       " 'TCS': [{'label': 'POSITIVE', 'score': 0.9899899959564209},\n",
       "  {'label': 'NEGATIVE', 'score': 0.9959989786148071},\n",
       "  {'label': 'NEGATIVE', 'score': 0.9933997392654419},\n",
       "  {'label': 'NEGATIVE', 'score': 0.9959989786148071},\n",
       "  {'label': 'POSITIVE', 'score': 0.9166327118873596},\n",
       "  {'label': 'POSITIVE', 'score': 0.9899899959564209},\n",
       "  {'label': 'POSITIVE', 'score': 0.9495715498924255},\n",
       "  {'label': 'POSITIVE', 'score': 0.9980120658874512},\n",
       "  {'label': 'NEGATIVE', 'score': 0.9733965396881104},\n",
       "  {'label': 'NEGATIVE', 'score': 0.9933997392654419},\n",
       "  {'label': 'POSITIVE', 'score': 0.9984456896781921}]}"
      ]
     },
     "execution_count": 18,
     "metadata": {},
     "output_type": "execute_result"
    }
   ],
   "source": [
    "scores = {ticker:sentiment(summaries[ticker]) for ticker in monitored_tickers}\n",
    "scores"
   ]
  },
  {
   "cell_type": "code",
   "execution_count": 19,
   "id": "fba701d2",
   "metadata": {},
   "outputs": [],
   "source": [
    "def create_output_array(summaries, scores, urls):\n",
    "    output = []\n",
    "    for ticker in monitored_tickers:\n",
    "        for counter in range(len(summaries[ticker])):\n",
    "            output_this = [\n",
    "                ticker,\n",
    "                summaries[ticker][counter],\n",
    "                scores[ticker][counter]['label'],\n",
    "                scores[ticker][counter]['score'],\n",
    "                urls[ticker][counter]\n",
    "            ]\n",
    "            output.append(output_this)\n",
    "    return output\n"
   ]
  },
  {
   "cell_type": "code",
   "execution_count": 20,
   "id": "e44ddf76",
   "metadata": {},
   "outputs": [
    {
     "data": {
      "text/plain": [
       "[['reliance',\n",
       "  'India’s retail inflation slowed more than expected to a 25-month low of 4.25% in May. Experts don’t expect the central bank to start cutting interest rates any time soon. The government has asked Chinese mobile phone manufacturers to induct Indian equity partners in their local operations.',\n",
       "  'NEGATIVE',\n",
       "  0.9959989786148071,\n",
       "  'https://economictimes.indiatimes.com/industry/energy/oil-gas/reliance-suspends-sikka-diesel-exports-due-to-cyclone-traders/articleshow/100944683.cms'],\n",
       " ['reliance',\n",
       "  'Four state-owned financial entities are understood to be working on inviting formal bids for selling their stakes in UTI Asset Management Company. Hundreds of former employees from some of India’s biggest unicorns who have left to start up on their own are creating a ripple wave of internet enterprise. Akasa Air is looking to raise $75-100 million by offering fresh shares.',\n",
       "  'POSITIVE',\n",
       "  0.9967479705810547,\n",
       "  'https://economictimes.indiatimes.com/news/company/corporate-trends/reliance-jumps-8-spots-to-45th-rank-on-forbes-global-2000-list/articleshow/100959961.cms'],\n",
       " ['reliance',\n",
       "  'Akasa Air, backed by late billionaire Rakesh Jhunjhunwala, is looking to raise $75-100 million by offering fresh shares. Hundreds of former employees from some of India’s biggest unicorns who have left to start up on their own.',\n",
       "  'POSITIVE',\n",
       "  0.9538601040840149,\n",
       "  'https://economictimes.indiatimes.com/markets/stocks/recos/buy-reliance-industries-target-price-rs-2579-icici-direct/articleshow/101008660.cms'],\n",
       " ['reliance',\n",
       "  'Delhi-based telecom industry association concluded its Annual General Body Meeting for the financial year 2022-23 on Wednesday. Follow us for the latest news, insider access to events and more. We use cookies and other tracking technologies to improve your browsing experience. By continuing you agree to our Privacy Policy & Terms & Conditions.',\n",
       "  'POSITIVE',\n",
       "  0.9969134330749512,\n",
       "  'https://telecom.economictimes.indiatimes.com/news/industry/jios-pramod-k-mittal-to-continue-as-coai-chairperson-in-fy24/100996281'],\n",
       " ['reliance',\n",
       "  'Akasa Air, backed by late billionaire Rakesh Jhunjhunwala, is looking to raise $75-100 million by offering fresh shares. Hundreds of former employees from some of India’s biggest unicorns who have left to start up on their own are creating a ripple wave of internet enterprise.',\n",
       "  'POSITIVE',\n",
       "  0.9980120658874512,\n",
       "  'https://economictimes.indiatimes.com/markets/expert-view/heres-why-rahul-sharma-is-bullish-on-rpg-life/articleshow/101014376.cms'],\n",
       " ['reliance',\n",
       "  'India’s retail inflation slowed more than expected to a 25-month low of 4.25% in May. Experts don’t expect the central bank to start cutting interest rates any time soon. The government has asked Chinese mobile phone manufacturers to induct Indian equity partners in their local operations.',\n",
       "  'NEGATIVE',\n",
       "  0.9959989786148071,\n",
       "  'https://economictimes.indiatimes.com/tech/technology/reliances-wholesale-format-fires-1000-a-bigger-layoff-round-likely/articleshow/100428603.cms'],\n",
       " ['reliance',\n",
       "  'Four state-owned financial entities are understood to be working on inviting formal bids for selling their stakes in UTI Asset Management Company. Hundreds of former employees from some of India’s biggest unicorns who have left to start up on their own are creating a ripple wave of internet enterprise.',\n",
       "  'POSITIVE',\n",
       "  0.9984074234962463,\n",
       "  'https://economictimes.indiatimes.com/markets/stocks/news/reliance-in-talks-for-2-billion-loan-to-fuel-expansion/articleshow/101020911.cms'],\n",
       " ['reliance',\n",
       "  'Akasa Air, backed by late billionaire Rakesh Jhunjhunwala, is looking to raise $75-100 million by offering fresh shares. Hundreds of former employees from some of India’s biggest unicorns who have left to start up on their own are creating a ripple wave of internet enterprise.',\n",
       "  'POSITIVE',\n",
       "  0.9980120658874512,\n",
       "  'https://economictimes.indiatimes.com/markets/stocks/news/sensex-ekes-out-85-point-gain-ahead-of-fed-outcome-nifty-tops-18750/articleshow/100991275.cms'],\n",
       " ['reliance',\n",
       "  '© 2023 - Privacy - Terms and Conditions. For confidential support call the Samaritans on 08457 90 90 90 or visit a local Samaritans branch, see www.samaritans.org for details. In the U.S. call the National Suicide Prevention Line on 1-800-273-8255.',\n",
       "  'NEGATIVE',\n",
       "  0.9733965396881104,\n",
       "  'https://www.google.com/search?q%3Dreliance%2Beconomic%2Btimes%26tbm%3Dnws%26pccc%3D1'],\n",
       " ['reliance',\n",
       "  'India’s retail inflation slowed more than expected to a 25-month low of 4.25% in May. Experts don’t expect the central bank to start cutting interest rates any time soon. The government has asked Chinese mobile phone manufacturers to induct Indian equity partners in their local operations.',\n",
       "  'NEGATIVE',\n",
       "  0.9959989786148071,\n",
       "  'https://economictimes.indiatimes.com/markets/stocks/news/hsbc-india-executes-first-ndf-transaction-with-reliance-industries/articleshow/100828542.cms'],\n",
       " ['reliance',\n",
       "  'Vodafone Idea Ltd proposes to infuse a total equity of ₹14,000 crore in the near term as part of its business revival plan. This will see existing promoters Aditya Birla Group (ABG) and UK’s Vodaphone Group Plc infuse half the overall amount.',\n",
       "  'NEGATIVE',\n",
       "  0.9933997392654419,\n",
       "  'https://economictimes.indiatimes.com/markets/stocks/recos/buy-reliance-industries-target-price-rs-2511-icici-direct/articleshow/100783362.cms'],\n",
       " ['tatamotors',\n",
       "  'Akasa Air, backed by late billionaire Rakesh Jhunjhunwala, is looking to raise $75-100 million. Hundreds of former employees from some of India’s biggest unicorns who have left to start up on their own are creating a ripple wave of internet enterprise.',\n",
       "  'POSITIVE',\n",
       "  0.9984456896781921,\n",
       "  'https://m.economictimes.com/markets/stocks/news/big-bets-tata-motors-sees-ev-constituting-half-of-the-portfolio-by-2030/articleshow/100997448.cms'],\n",
       " ['tatamotors',\n",
       "  'Vodafone Idea Ltd proposes to infuse a total equity of ₹14,000 crore in the near term as part of its business revival plan. This will see existing promoters Aditya Birla Group (ABG) and UK’s Vodaphone Group Plc infuse half the overall amount.',\n",
       "  'NEGATIVE',\n",
       "  0.9933997392654419,\n",
       "  'https://m.economictimes.com/markets/stocks/news/big-movers-on-d-street-what-should-investors-do-with-tata-motors-hal-and-tata-chemicals/articleshow/100781206.cms'],\n",
       " ['tatamotors',\n",
       "  'Vodafone Idea Ltd proposes to infuse a total equity of ₹14,000 crore in the near term as part of its business revival plan. This will see existing promoters Aditya Birla Group (ABG) and UK’s Vodaphone Group Plc infuse half the overall amount.',\n",
       "  'NEGATIVE',\n",
       "  0.9933997392654419,\n",
       "  'https://economictimes.indiatimes.com/markets/stocks/news/sectoral-spotlight-auto-stocks-step-on-gas-pedal-mm-maruti-tata-motors-top-buys/articleshow/100929229.cms'],\n",
       " ['tatamotors',\n",
       "  'The top two market players in the SCV segment, M&M and Tata Motors, witnessed a neck and neck contest with 40.3% and 39% market share in FY22. Amid high demand from e-commerce businesses and need for affordable last-mile cargo and logistic solutions, each player is attempting to increase sales.',\n",
       "  'NEGATIVE',\n",
       "  0.9535959362983704,\n",
       "  'https://auto.economictimes.indiatimes.com/news/lcv/backed-by-pickups-alternative-fuel-models-tata-motors-bets-big-on-scvs/94478217'],\n",
       " ['tatamotors',\n",
       "  'Vodafone Idea Ltd proposes to infuse a total equity of ₹14,000 crore in the near term. 205 managers at Hindustan Unilever Ltd (HUL) took home more than Rs 1 crore in annual salary in FY23, up 25% from 163 in FY22. Top Indian lawmakers strongly refuted claims by Twitter’s former chief executive Jack Dorsey.',\n",
       "  'NEGATIVE',\n",
       "  0.9399324059486389,\n",
       "  'https://economictimes.indiatimes.com/industry/auto/auto-news/after-a-decade-tata-motors-car-dealers-turn-profitable/articleshow/100921137.cms'],\n",
       " ['tatamotors',\n",
       "  'Vodafone Idea Ltd proposes to infuse a total equity of ₹14,000 crore in the near term as part of its business revival plan. This will see existing promoters Aditya Birla Group (ABG) and UK’s Vodaphone Group Plc infuse half the overall amount.',\n",
       "  'NEGATIVE',\n",
       "  0.9933997392654419,\n",
       "  'https://economictimes.indiatimes.com/markets/stocks/news/big-movers-on-d-street-what-should-investors-do-with-tata-motors-hal-and-tata-chemicals/articleshow/100781206.cms'],\n",
       " ['tatamotors',\n",
       "  'Vodafone Idea Ltd proposes to infuse a total equity of ₹14,000 crore in the near term as part of its business revival plan. This will see existing promoters Aditya Birla Group (ABG) and UK’s Vodaphone Group Plc infuse half the overall amount.',\n",
       "  'NEGATIVE',\n",
       "  0.9933997392654419,\n",
       "  'https://m.economictimes.com/markets/stocks/news/hot-stocks-brokerage-view-on-indigo-tvs-motor-infosys-and-tata-motors/articleshow/100927288.cms'],\n",
       " ['tatamotors',\n",
       "  'Vodafone Idea Ltd proposes to infuse a total equity of ₹14,000 crore in the near term as part of its business revival plan. This will see existing promoters Aditya Birla Group (ABG) and UK’s Vodaphone Group Plc infuse half the overall amount.',\n",
       "  'NEGATIVE',\n",
       "  0.9933997392654419,\n",
       "  'https://economictimes.indiatimes.com/markets/stocks/news/stocks-in-news-zee-ent-go-fashion-punjab-and-sind-bank-tata-motors-inox-wind/articleshow/100945379.cms'],\n",
       " ['tatamotors',\n",
       "  'Vodafone Idea Ltd proposes to infuse a total equity of ₹14,000 crore in the near term as part of its business revival plan. This will see existing promoters Aditya Birla Group (ABG) and UK’s Vodaphone Group Plc infuse half the overall amount.',\n",
       "  'NEGATIVE',\n",
       "  0.9933997392654419,\n",
       "  'https://m.economictimes.com/markets/stocks/news/sectoral-spotlight-auto-stocks-step-on-gas-pedal-mm-maruti-tata-motors-top-buys/articleshow/100929229.cms'],\n",
       " ['tatamotors',\n",
       "  '© 2023 - Privacy - Terms and Conditions. For confidential support call the Samaritans on 08457 90 90 90 or visit a local Samaritans branch, see www.samaritans.org for details. In the U.S. call the National Suicide Prevention Line on 1-800-273-8255.',\n",
       "  'NEGATIVE',\n",
       "  0.9733965396881104,\n",
       "  'https://www.google.com/search?q%3Dtatamotors%2Beconomic%2Btimes%26tbm%3Dnws%26pccc%3D1'],\n",
       " ['tatamotors',\n",
       "  'India’s retail inflation slowed more than expected to a 25-month low of 4.25% in May. Experts don’t expect the central bank to start cutting interest rates any time soon. The government has asked Chinese mobile phone manufacturers to induct Indian equity partners in their local operations.',\n",
       "  'NEGATIVE',\n",
       "  0.9959989786148071,\n",
       "  'https://economictimes.indiatimes.com/markets/stocks/news/jefferies-raises-tata-motors-target-sees-24-40-upside-in-stock/articleshow/100957406.cms'],\n",
       " ['hindalco',\n",
       "  'Vodafone Idea Ltd proposes to infuse a total equity of ₹14,000 crore in the near term as part of its business revival plan. This will see existing promoters Aditya Birla Group (ABG) and UK’s Vodaphone Group Plc infuse half the overall amount.',\n",
       "  'NEGATIVE',\n",
       "  0.9933997392654419,\n",
       "  'https://economictimes.indiatimes.com/markets/stocks/news/stocks-in-news-hindalco-nykaa-lic-mahindra-cie-vodafone-idea-zee-entertainment/articleshow/100482550.cms'],\n",
       " ['hindalco',\n",
       "  'Akasa Air, backed by late billionaire Rakesh Jhunjhunwala, is looking to raise $75-100 million by offering fresh shares to expand its business. Hundreds of former employees from some of India’s biggest unicorns who have left to start up on their own.',\n",
       "  'POSITIVE',\n",
       "  0.9899899959564209,\n",
       "  'https://m.economictimes.com/markets/stocks/stock-watch/stock-market-update-power-stocks-up-as-market-rises/articleshow/101009985.cms'],\n",
       " ['hindalco',\n",
       "  'Vodafone Idea Ltd proposes to infuse a total equity of ₹14,000 crore in the near term as part of its business revival plan. This will see existing promoters Aditya Birla Group (ABG) and UK’s Vodaphone Group Plc infuse half the overall amount.',\n",
       "  'NEGATIVE',\n",
       "  0.9933997392654419,\n",
       "  'https://economictimes.indiatimes.com/markets/stocks/earnings/q4-results-today-what-to-expect-from-lic-hindalco-industries-and-nykaa/articleshow/100462888.cms'],\n",
       " ['hindalco',\n",
       "  '© 2023 - Privacy - Terms and Conditions. For confidential support call the Samaritans on 08457 90 90 90 or visit a local Samaritans branch, see www.samaritans.org for details. In the U.S. call the National Suicide Prevention Line on 1-800-273-8255.',\n",
       "  'NEGATIVE',\n",
       "  0.9733965396881104,\n",
       "  'https://www.google.com/search?q%3Dhindalco%2Beconomic%2Btimes%26tbm%3Dnws%26pccc%3D1'],\n",
       " ['hindalco',\n",
       "  'Vodafone Idea Ltd proposes to infuse a total equity of ₹14,000 crore in the near term as part of its business revival plan. This will see existing promoters Aditya Birla Group (ABG) and UK’s Vodaphone Group Plc infuse half the overall amount.',\n",
       "  'NEGATIVE',\n",
       "  0.9933997392654419,\n",
       "  'https://economictimes.indiatimes.com/markets/stocks/news/how-to-trade-hindalco-shares-after-profit-plunges-48-yoy-in-q4/articleshow/100490858.cms'],\n",
       " ['hindalco',\n",
       "  'Akasa Air, backed by late billionaire Rakesh Jhunjhunwala, is looking to raise $75-100 million by offering fresh shares to expand its business. Hundreds of former employees from some of India’s biggest unicorns who have left to start up on their own.',\n",
       "  'POSITIVE',\n",
       "  0.9899899959564209,\n",
       "  'https://economictimes.indiatimes.com/markets/stocks/recos/buy-hindalco-industries-target-price-rs-426-8-icici-direct/articleshow/100982207.cms'],\n",
       " ['hindalco',\n",
       "  'India’s retail inflation slowed more than expected to a 25-month low of 4.25% in May. Experts don’t expect the central bank to start cutting interest rates any time soon. The government has asked Chinese mobile phone manufacturers to induct Indian equity partners in their local operations.',\n",
       "  'NEGATIVE',\n",
       "  0.9959989786148071,\n",
       "  'https://economictimes.indiatimes.com/markets/stocks/news/hot-stocks-brokerage-view-on-vedanta-au-small-finance-bank-info-edge-and-hindalco/articleshow/100755561.cms'],\n",
       " ['hindalco',\n",
       "  'Akasa Air, backed by late billionaire Rakesh Jhunjhunwala, is looking to raise $75-100 million by offering fresh shares to expand its business. Hundreds of former employees from some of India’s biggest unicorns who have left to start up on their own.',\n",
       "  'POSITIVE',\n",
       "  0.9899899959564209,\n",
       "  'https://economictimes.indiatimes.com/markets/stocks/stock-watch/stock-market-update-fertilisers-stocks-up-as-market-rises/articleshow/101010285.cms'],\n",
       " ['hindalco',\n",
       "  'India’s retail inflation slowed more than expected to a 25-month low of 4.25% in May. Experts don’t expect the central bank to start cutting interest rates any time soon. The government has asked Chinese mobile phone manufacturers to induct Indian equity partners in their local operations.',\n",
       "  'NEGATIVE',\n",
       "  0.9959989786148071,\n",
       "  'https://economictimes.indiatimes.com/markets/stocks/news/q4-results-this-week-lic-shree-cements-vodafone-idea-sun-pharma-mm-nykaa-and-others/articleshow/100391366.cms'],\n",
       " ['hindalco',\n",
       "  'India’s retail inflation slowed more than expected to a 25-month low of 4.25% in May. Experts don’t expect the central bank to start cutting interest rates any time soon. The government has asked Chinese mobile phone manufacturers to induct Indian equity partners in their local operations.',\n",
       "  'NEGATIVE',\n",
       "  0.9959989786148071,\n",
       "  'https://economictimes.indiatimes.com/markets/expert-view/piramal-pharma-may-double-in-a-year-4-metal-stocks-can-give-20-return-in-3-months-sanjiv-bhasin/articleshow/100516312.cms'],\n",
       " ['hindalco',\n",
       "  'India’s retail inflation slowed more than expected to a 25-month low of 4.25% in May. Experts don’t expect the central bank to start cutting interest rates any time soon. The government has asked Chinese mobile phone manufacturers to induct Indian equity partners in their local operations.',\n",
       "  'NEGATIVE',\n",
       "  0.9959989786148071,\n",
       "  'https://economictimes.indiatimes.com/markets/stocks/recos/buy-hindalco-industries-target-price-rs-535-jm-financial/articleshow/100491422.cms'],\n",
       " ['TCS',\n",
       "  'Akasa Air, backed by late billionaire Rakesh Jhunjhunwala, is looking to raise $75-100 million by offering fresh shares to expand its business. Hundreds of former employees from some of India’s biggest unicorns who have left to start up on their own.',\n",
       "  'POSITIVE',\n",
       "  0.9899899959564209,\n",
       "  'https://economictimes.indiatimes.com/markets/stocks/news/stocks-in-news-axis-bank-cdsl-d-link-india-tcs-hcl-tech/articleshow/100999598.cms'],\n",
       " ['TCS',\n",
       "  'India’s retail inflation slowed more than expected to a 25-month low of 4.25% in May. Experts don’t expect the central bank to start cutting interest rates any time soon. The government has asked Chinese mobile phone manufacturers to induct Indian equity partners in their local operations.',\n",
       "  'NEGATIVE',\n",
       "  0.9959989786148071,\n",
       "  'https://economictimes.indiatimes.com/markets/stocks/recos/sell-tata-consultancy-services-target-price-rs-3065-motilal-oswal-financial-services/articleshow/100927756.cms'],\n",
       " ['TCS',\n",
       "  'Vodafone Idea Ltd proposes to infuse a total equity of ₹14,000 crore in the near term as part of its business revival plan. This will see existing promoters Aditya Birla Group (ABG) and UK’s Vodaphone Group Plc infuse half the overall amount.',\n",
       "  'NEGATIVE',\n",
       "  0.9933997392654419,\n",
       "  'https://economictimes.indiatimes.com/markets/expert-view/we-expect-tcs-and-hcl-tech-to-be-outperforming-on-growth-in-near-term-apurva-prasad/articleshow/100762715.cms'],\n",
       " ['TCS',\n",
       "  'India’s retail inflation slowed more than expected to a 25-month low of 4.25% in May. Experts don’t expect the central bank to start cutting interest rates any time soon. The government has asked Chinese mobile phone manufacturers to induct Indian equity partners in their local operations.',\n",
       "  'NEGATIVE',\n",
       "  0.9959989786148071,\n",
       "  'https://economictimes.indiatimes.com/tech/information-tech/tcs-fy23-annual-report-highlights/articleshow/100807655.cms'],\n",
       " ['TCS',\n",
       "  \"Akasa Air, India's newest airline backed by late billionaire Rakesh Jhunjhunwala, is looking to raise $75-100 million by offering fresh shares. Hundreds of former employees from some of India’s biggest unicorns who have left to start up on their own.\",\n",
       "  'POSITIVE',\n",
       "  0.9166327118873596,\n",
       "  'https://economictimes.indiatimes.com/tech/technology/70-corporations-prioritise-long-term-cloud-investments-despite-roi-concerns-tcs/articleshow/101018493.cms'],\n",
       " ['TCS',\n",
       "  'Akasa Air, backed by late billionaire Rakesh Jhunjhunwala, is looking to raise $75-100 million by offering fresh shares to expand its business. Hundreds of former employees from some of India’s biggest unicorns who have left to start up on their own.',\n",
       "  'POSITIVE',\n",
       "  0.9899899959564209,\n",
       "  'https://economictimes.indiatimes.com/markets/stocks/news/tcs-among-4-stocks-that-turned-ex-dividend-today/articleshow/101009284.cms'],\n",
       " ['TCS',\n",
       "  'On Wednesday, the Union Cabinet approved the third revival package for the telecom PSU worth Rs 89,047 crores. The package also includes the allotment of 4G/5G spectrum through equity infusion. Follow us for the latest news, insider access to events and more.',\n",
       "  'POSITIVE',\n",
       "  0.9495715498924255,\n",
       "  'https://telecom.economictimes.indiatimes.com/news/industry/bsnl-issues-purchase-order-to-tcs-iti-for-1-lakh-4g-sites-report/100888636'],\n",
       " ['TCS',\n",
       "  'Akasa Air, backed by late billionaire Rakesh Jhunjhunwala, is looking to raise $75-100 million by offering fresh shares. Hundreds of former employees from some of India’s biggest unicorns who have left to start up on their own are creating a ripple wave of internet enterprise.',\n",
       "  'POSITIVE',\n",
       "  0.9980120658874512,\n",
       "  'https://economictimes.indiatimes.com/jobs/mid-career/ending-work-from-home-option-for-employees-came-at-a-cost-for-tcs/articleshow/101020220.cms'],\n",
       " ['TCS',\n",
       "  '© 2023 - Privacy - Terms and Conditions. For confidential support call the Samaritans on 08457 90 90 90 or visit a local Samaritans branch, see www.samaritans.org for details. In the U.S. call the National Suicide Prevention Line on 1-800-273-8255.',\n",
       "  'NEGATIVE',\n",
       "  0.9733965396881104,\n",
       "  'https://www.google.com/search?q%3DTCS%2Beconomic%2Btimes%26tbm%3Dnws%26pccc%3D1'],\n",
       " ['TCS',\n",
       "  'Vodafone Idea Ltd proposes to infuse a total equity of ₹14,000 crore in the near term as part of its business revival plan. This will see existing promoters Aditya Birla Group (ABG) and UK’s Vodaphone Group Plc infuse half the overall amount.',\n",
       "  'NEGATIVE',\n",
       "  0.9933997392654419,\n",
       "  'https://economictimes.indiatimes.com/markets/stocks/news/tcs-among-top-3-trading-calls-for-next-week-rupak-de-of-lkp-securities/articleshow/100544077.cms'],\n",
       " ['TCS',\n",
       "  'Akasa Air, backed by late billionaire Rakesh Jhunjhunwala, is looking to raise $75-100 million. Hundreds of former employees from some of India’s biggest unicorns who have left to start up on their own are creating a ripple wave of internet enterprise.',\n",
       "  'POSITIVE',\n",
       "  0.9984456896781921,\n",
       "  'https://economictimes.indiatimes.com/wealth/tax/3-ways-to-avoid-the-20-tcs-on-overseas-tour-packages-or-international-trip-effective-july-1-2023/articleshow/101017358.cms']]"
      ]
     },
     "execution_count": 20,
     "metadata": {},
     "output_type": "execute_result"
    }
   ],
   "source": [
    "final_output = create_output_array(summaries, scores, cleaned_urls)\n",
    "final_output"
   ]
  },
  {
   "cell_type": "code",
   "execution_count": 21,
   "id": "b8c55594",
   "metadata": {},
   "outputs": [],
   "source": [
    "final_output.insert(0,['Ticker','Summary', 'Label', 'Confidence', 'URL'])"
   ]
  },
  {
   "cell_type": "code",
   "execution_count": 22,
   "id": "e2d94b34",
   "metadata": {},
   "outputs": [
    {
     "data": {
      "text/plain": [
       "[['Ticker', 'Summary', 'Label', 'Confidence', 'URL'],\n",
       " ['reliance',\n",
       "  'India’s retail inflation slowed more than expected to a 25-month low of 4.25% in May. Experts don’t expect the central bank to start cutting interest rates any time soon. The government has asked Chinese mobile phone manufacturers to induct Indian equity partners in their local operations.',\n",
       "  'NEGATIVE',\n",
       "  0.9959989786148071,\n",
       "  'https://economictimes.indiatimes.com/industry/energy/oil-gas/reliance-suspends-sikka-diesel-exports-due-to-cyclone-traders/articleshow/100944683.cms'],\n",
       " ['reliance',\n",
       "  'Four state-owned financial entities are understood to be working on inviting formal bids for selling their stakes in UTI Asset Management Company. Hundreds of former employees from some of India’s biggest unicorns who have left to start up on their own are creating a ripple wave of internet enterprise. Akasa Air is looking to raise $75-100 million by offering fresh shares.',\n",
       "  'POSITIVE',\n",
       "  0.9967479705810547,\n",
       "  'https://economictimes.indiatimes.com/news/company/corporate-trends/reliance-jumps-8-spots-to-45th-rank-on-forbes-global-2000-list/articleshow/100959961.cms'],\n",
       " ['reliance',\n",
       "  'Akasa Air, backed by late billionaire Rakesh Jhunjhunwala, is looking to raise $75-100 million by offering fresh shares. Hundreds of former employees from some of India’s biggest unicorns who have left to start up on their own.',\n",
       "  'POSITIVE',\n",
       "  0.9538601040840149,\n",
       "  'https://economictimes.indiatimes.com/markets/stocks/recos/buy-reliance-industries-target-price-rs-2579-icici-direct/articleshow/101008660.cms'],\n",
       " ['reliance',\n",
       "  'Delhi-based telecom industry association concluded its Annual General Body Meeting for the financial year 2022-23 on Wednesday. Follow us for the latest news, insider access to events and more. We use cookies and other tracking technologies to improve your browsing experience. By continuing you agree to our Privacy Policy & Terms & Conditions.',\n",
       "  'POSITIVE',\n",
       "  0.9969134330749512,\n",
       "  'https://telecom.economictimes.indiatimes.com/news/industry/jios-pramod-k-mittal-to-continue-as-coai-chairperson-in-fy24/100996281'],\n",
       " ['reliance',\n",
       "  'Akasa Air, backed by late billionaire Rakesh Jhunjhunwala, is looking to raise $75-100 million by offering fresh shares. Hundreds of former employees from some of India’s biggest unicorns who have left to start up on their own are creating a ripple wave of internet enterprise.',\n",
       "  'POSITIVE',\n",
       "  0.9980120658874512,\n",
       "  'https://economictimes.indiatimes.com/markets/expert-view/heres-why-rahul-sharma-is-bullish-on-rpg-life/articleshow/101014376.cms'],\n",
       " ['reliance',\n",
       "  'India’s retail inflation slowed more than expected to a 25-month low of 4.25% in May. Experts don’t expect the central bank to start cutting interest rates any time soon. The government has asked Chinese mobile phone manufacturers to induct Indian equity partners in their local operations.',\n",
       "  'NEGATIVE',\n",
       "  0.9959989786148071,\n",
       "  'https://economictimes.indiatimes.com/tech/technology/reliances-wholesale-format-fires-1000-a-bigger-layoff-round-likely/articleshow/100428603.cms'],\n",
       " ['reliance',\n",
       "  'Four state-owned financial entities are understood to be working on inviting formal bids for selling their stakes in UTI Asset Management Company. Hundreds of former employees from some of India’s biggest unicorns who have left to start up on their own are creating a ripple wave of internet enterprise.',\n",
       "  'POSITIVE',\n",
       "  0.9984074234962463,\n",
       "  'https://economictimes.indiatimes.com/markets/stocks/news/reliance-in-talks-for-2-billion-loan-to-fuel-expansion/articleshow/101020911.cms'],\n",
       " ['reliance',\n",
       "  'Akasa Air, backed by late billionaire Rakesh Jhunjhunwala, is looking to raise $75-100 million by offering fresh shares. Hundreds of former employees from some of India’s biggest unicorns who have left to start up on their own are creating a ripple wave of internet enterprise.',\n",
       "  'POSITIVE',\n",
       "  0.9980120658874512,\n",
       "  'https://economictimes.indiatimes.com/markets/stocks/news/sensex-ekes-out-85-point-gain-ahead-of-fed-outcome-nifty-tops-18750/articleshow/100991275.cms'],\n",
       " ['reliance',\n",
       "  '© 2023 - Privacy - Terms and Conditions. For confidential support call the Samaritans on 08457 90 90 90 or visit a local Samaritans branch, see www.samaritans.org for details. In the U.S. call the National Suicide Prevention Line on 1-800-273-8255.',\n",
       "  'NEGATIVE',\n",
       "  0.9733965396881104,\n",
       "  'https://www.google.com/search?q%3Dreliance%2Beconomic%2Btimes%26tbm%3Dnws%26pccc%3D1'],\n",
       " ['reliance',\n",
       "  'India’s retail inflation slowed more than expected to a 25-month low of 4.25% in May. Experts don’t expect the central bank to start cutting interest rates any time soon. The government has asked Chinese mobile phone manufacturers to induct Indian equity partners in their local operations.',\n",
       "  'NEGATIVE',\n",
       "  0.9959989786148071,\n",
       "  'https://economictimes.indiatimes.com/markets/stocks/news/hsbc-india-executes-first-ndf-transaction-with-reliance-industries/articleshow/100828542.cms'],\n",
       " ['reliance',\n",
       "  'Vodafone Idea Ltd proposes to infuse a total equity of ₹14,000 crore in the near term as part of its business revival plan. This will see existing promoters Aditya Birla Group (ABG) and UK’s Vodaphone Group Plc infuse half the overall amount.',\n",
       "  'NEGATIVE',\n",
       "  0.9933997392654419,\n",
       "  'https://economictimes.indiatimes.com/markets/stocks/recos/buy-reliance-industries-target-price-rs-2511-icici-direct/articleshow/100783362.cms'],\n",
       " ['tatamotors',\n",
       "  'Akasa Air, backed by late billionaire Rakesh Jhunjhunwala, is looking to raise $75-100 million. Hundreds of former employees from some of India’s biggest unicorns who have left to start up on their own are creating a ripple wave of internet enterprise.',\n",
       "  'POSITIVE',\n",
       "  0.9984456896781921,\n",
       "  'https://m.economictimes.com/markets/stocks/news/big-bets-tata-motors-sees-ev-constituting-half-of-the-portfolio-by-2030/articleshow/100997448.cms'],\n",
       " ['tatamotors',\n",
       "  'Vodafone Idea Ltd proposes to infuse a total equity of ₹14,000 crore in the near term as part of its business revival plan. This will see existing promoters Aditya Birla Group (ABG) and UK’s Vodaphone Group Plc infuse half the overall amount.',\n",
       "  'NEGATIVE',\n",
       "  0.9933997392654419,\n",
       "  'https://m.economictimes.com/markets/stocks/news/big-movers-on-d-street-what-should-investors-do-with-tata-motors-hal-and-tata-chemicals/articleshow/100781206.cms'],\n",
       " ['tatamotors',\n",
       "  'Vodafone Idea Ltd proposes to infuse a total equity of ₹14,000 crore in the near term as part of its business revival plan. This will see existing promoters Aditya Birla Group (ABG) and UK’s Vodaphone Group Plc infuse half the overall amount.',\n",
       "  'NEGATIVE',\n",
       "  0.9933997392654419,\n",
       "  'https://economictimes.indiatimes.com/markets/stocks/news/sectoral-spotlight-auto-stocks-step-on-gas-pedal-mm-maruti-tata-motors-top-buys/articleshow/100929229.cms'],\n",
       " ['tatamotors',\n",
       "  'The top two market players in the SCV segment, M&M and Tata Motors, witnessed a neck and neck contest with 40.3% and 39% market share in FY22. Amid high demand from e-commerce businesses and need for affordable last-mile cargo and logistic solutions, each player is attempting to increase sales.',\n",
       "  'NEGATIVE',\n",
       "  0.9535959362983704,\n",
       "  'https://auto.economictimes.indiatimes.com/news/lcv/backed-by-pickups-alternative-fuel-models-tata-motors-bets-big-on-scvs/94478217'],\n",
       " ['tatamotors',\n",
       "  'Vodafone Idea Ltd proposes to infuse a total equity of ₹14,000 crore in the near term. 205 managers at Hindustan Unilever Ltd (HUL) took home more than Rs 1 crore in annual salary in FY23, up 25% from 163 in FY22. Top Indian lawmakers strongly refuted claims by Twitter’s former chief executive Jack Dorsey.',\n",
       "  'NEGATIVE',\n",
       "  0.9399324059486389,\n",
       "  'https://economictimes.indiatimes.com/industry/auto/auto-news/after-a-decade-tata-motors-car-dealers-turn-profitable/articleshow/100921137.cms'],\n",
       " ['tatamotors',\n",
       "  'Vodafone Idea Ltd proposes to infuse a total equity of ₹14,000 crore in the near term as part of its business revival plan. This will see existing promoters Aditya Birla Group (ABG) and UK’s Vodaphone Group Plc infuse half the overall amount.',\n",
       "  'NEGATIVE',\n",
       "  0.9933997392654419,\n",
       "  'https://economictimes.indiatimes.com/markets/stocks/news/big-movers-on-d-street-what-should-investors-do-with-tata-motors-hal-and-tata-chemicals/articleshow/100781206.cms'],\n",
       " ['tatamotors',\n",
       "  'Vodafone Idea Ltd proposes to infuse a total equity of ₹14,000 crore in the near term as part of its business revival plan. This will see existing promoters Aditya Birla Group (ABG) and UK’s Vodaphone Group Plc infuse half the overall amount.',\n",
       "  'NEGATIVE',\n",
       "  0.9933997392654419,\n",
       "  'https://m.economictimes.com/markets/stocks/news/hot-stocks-brokerage-view-on-indigo-tvs-motor-infosys-and-tata-motors/articleshow/100927288.cms'],\n",
       " ['tatamotors',\n",
       "  'Vodafone Idea Ltd proposes to infuse a total equity of ₹14,000 crore in the near term as part of its business revival plan. This will see existing promoters Aditya Birla Group (ABG) and UK’s Vodaphone Group Plc infuse half the overall amount.',\n",
       "  'NEGATIVE',\n",
       "  0.9933997392654419,\n",
       "  'https://economictimes.indiatimes.com/markets/stocks/news/stocks-in-news-zee-ent-go-fashion-punjab-and-sind-bank-tata-motors-inox-wind/articleshow/100945379.cms'],\n",
       " ['tatamotors',\n",
       "  'Vodafone Idea Ltd proposes to infuse a total equity of ₹14,000 crore in the near term as part of its business revival plan. This will see existing promoters Aditya Birla Group (ABG) and UK’s Vodaphone Group Plc infuse half the overall amount.',\n",
       "  'NEGATIVE',\n",
       "  0.9933997392654419,\n",
       "  'https://m.economictimes.com/markets/stocks/news/sectoral-spotlight-auto-stocks-step-on-gas-pedal-mm-maruti-tata-motors-top-buys/articleshow/100929229.cms'],\n",
       " ['tatamotors',\n",
       "  '© 2023 - Privacy - Terms and Conditions. For confidential support call the Samaritans on 08457 90 90 90 or visit a local Samaritans branch, see www.samaritans.org for details. In the U.S. call the National Suicide Prevention Line on 1-800-273-8255.',\n",
       "  'NEGATIVE',\n",
       "  0.9733965396881104,\n",
       "  'https://www.google.com/search?q%3Dtatamotors%2Beconomic%2Btimes%26tbm%3Dnws%26pccc%3D1'],\n",
       " ['tatamotors',\n",
       "  'India’s retail inflation slowed more than expected to a 25-month low of 4.25% in May. Experts don’t expect the central bank to start cutting interest rates any time soon. The government has asked Chinese mobile phone manufacturers to induct Indian equity partners in their local operations.',\n",
       "  'NEGATIVE',\n",
       "  0.9959989786148071,\n",
       "  'https://economictimes.indiatimes.com/markets/stocks/news/jefferies-raises-tata-motors-target-sees-24-40-upside-in-stock/articleshow/100957406.cms'],\n",
       " ['hindalco',\n",
       "  'Vodafone Idea Ltd proposes to infuse a total equity of ₹14,000 crore in the near term as part of its business revival plan. This will see existing promoters Aditya Birla Group (ABG) and UK’s Vodaphone Group Plc infuse half the overall amount.',\n",
       "  'NEGATIVE',\n",
       "  0.9933997392654419,\n",
       "  'https://economictimes.indiatimes.com/markets/stocks/news/stocks-in-news-hindalco-nykaa-lic-mahindra-cie-vodafone-idea-zee-entertainment/articleshow/100482550.cms'],\n",
       " ['hindalco',\n",
       "  'Akasa Air, backed by late billionaire Rakesh Jhunjhunwala, is looking to raise $75-100 million by offering fresh shares to expand its business. Hundreds of former employees from some of India’s biggest unicorns who have left to start up on their own.',\n",
       "  'POSITIVE',\n",
       "  0.9899899959564209,\n",
       "  'https://m.economictimes.com/markets/stocks/stock-watch/stock-market-update-power-stocks-up-as-market-rises/articleshow/101009985.cms'],\n",
       " ['hindalco',\n",
       "  'Vodafone Idea Ltd proposes to infuse a total equity of ₹14,000 crore in the near term as part of its business revival plan. This will see existing promoters Aditya Birla Group (ABG) and UK’s Vodaphone Group Plc infuse half the overall amount.',\n",
       "  'NEGATIVE',\n",
       "  0.9933997392654419,\n",
       "  'https://economictimes.indiatimes.com/markets/stocks/earnings/q4-results-today-what-to-expect-from-lic-hindalco-industries-and-nykaa/articleshow/100462888.cms'],\n",
       " ['hindalco',\n",
       "  '© 2023 - Privacy - Terms and Conditions. For confidential support call the Samaritans on 08457 90 90 90 or visit a local Samaritans branch, see www.samaritans.org for details. In the U.S. call the National Suicide Prevention Line on 1-800-273-8255.',\n",
       "  'NEGATIVE',\n",
       "  0.9733965396881104,\n",
       "  'https://www.google.com/search?q%3Dhindalco%2Beconomic%2Btimes%26tbm%3Dnws%26pccc%3D1'],\n",
       " ['hindalco',\n",
       "  'Vodafone Idea Ltd proposes to infuse a total equity of ₹14,000 crore in the near term as part of its business revival plan. This will see existing promoters Aditya Birla Group (ABG) and UK’s Vodaphone Group Plc infuse half the overall amount.',\n",
       "  'NEGATIVE',\n",
       "  0.9933997392654419,\n",
       "  'https://economictimes.indiatimes.com/markets/stocks/news/how-to-trade-hindalco-shares-after-profit-plunges-48-yoy-in-q4/articleshow/100490858.cms'],\n",
       " ['hindalco',\n",
       "  'Akasa Air, backed by late billionaire Rakesh Jhunjhunwala, is looking to raise $75-100 million by offering fresh shares to expand its business. Hundreds of former employees from some of India’s biggest unicorns who have left to start up on their own.',\n",
       "  'POSITIVE',\n",
       "  0.9899899959564209,\n",
       "  'https://economictimes.indiatimes.com/markets/stocks/recos/buy-hindalco-industries-target-price-rs-426-8-icici-direct/articleshow/100982207.cms'],\n",
       " ['hindalco',\n",
       "  'India’s retail inflation slowed more than expected to a 25-month low of 4.25% in May. Experts don’t expect the central bank to start cutting interest rates any time soon. The government has asked Chinese mobile phone manufacturers to induct Indian equity partners in their local operations.',\n",
       "  'NEGATIVE',\n",
       "  0.9959989786148071,\n",
       "  'https://economictimes.indiatimes.com/markets/stocks/news/hot-stocks-brokerage-view-on-vedanta-au-small-finance-bank-info-edge-and-hindalco/articleshow/100755561.cms'],\n",
       " ['hindalco',\n",
       "  'Akasa Air, backed by late billionaire Rakesh Jhunjhunwala, is looking to raise $75-100 million by offering fresh shares to expand its business. Hundreds of former employees from some of India’s biggest unicorns who have left to start up on their own.',\n",
       "  'POSITIVE',\n",
       "  0.9899899959564209,\n",
       "  'https://economictimes.indiatimes.com/markets/stocks/stock-watch/stock-market-update-fertilisers-stocks-up-as-market-rises/articleshow/101010285.cms'],\n",
       " ['hindalco',\n",
       "  'India’s retail inflation slowed more than expected to a 25-month low of 4.25% in May. Experts don’t expect the central bank to start cutting interest rates any time soon. The government has asked Chinese mobile phone manufacturers to induct Indian equity partners in their local operations.',\n",
       "  'NEGATIVE',\n",
       "  0.9959989786148071,\n",
       "  'https://economictimes.indiatimes.com/markets/stocks/news/q4-results-this-week-lic-shree-cements-vodafone-idea-sun-pharma-mm-nykaa-and-others/articleshow/100391366.cms'],\n",
       " ['hindalco',\n",
       "  'India’s retail inflation slowed more than expected to a 25-month low of 4.25% in May. Experts don’t expect the central bank to start cutting interest rates any time soon. The government has asked Chinese mobile phone manufacturers to induct Indian equity partners in their local operations.',\n",
       "  'NEGATIVE',\n",
       "  0.9959989786148071,\n",
       "  'https://economictimes.indiatimes.com/markets/expert-view/piramal-pharma-may-double-in-a-year-4-metal-stocks-can-give-20-return-in-3-months-sanjiv-bhasin/articleshow/100516312.cms'],\n",
       " ['hindalco',\n",
       "  'India’s retail inflation slowed more than expected to a 25-month low of 4.25% in May. Experts don’t expect the central bank to start cutting interest rates any time soon. The government has asked Chinese mobile phone manufacturers to induct Indian equity partners in their local operations.',\n",
       "  'NEGATIVE',\n",
       "  0.9959989786148071,\n",
       "  'https://economictimes.indiatimes.com/markets/stocks/recos/buy-hindalco-industries-target-price-rs-535-jm-financial/articleshow/100491422.cms'],\n",
       " ['TCS',\n",
       "  'Akasa Air, backed by late billionaire Rakesh Jhunjhunwala, is looking to raise $75-100 million by offering fresh shares to expand its business. Hundreds of former employees from some of India’s biggest unicorns who have left to start up on their own.',\n",
       "  'POSITIVE',\n",
       "  0.9899899959564209,\n",
       "  'https://economictimes.indiatimes.com/markets/stocks/news/stocks-in-news-axis-bank-cdsl-d-link-india-tcs-hcl-tech/articleshow/100999598.cms'],\n",
       " ['TCS',\n",
       "  'India’s retail inflation slowed more than expected to a 25-month low of 4.25% in May. Experts don’t expect the central bank to start cutting interest rates any time soon. The government has asked Chinese mobile phone manufacturers to induct Indian equity partners in their local operations.',\n",
       "  'NEGATIVE',\n",
       "  0.9959989786148071,\n",
       "  'https://economictimes.indiatimes.com/markets/stocks/recos/sell-tata-consultancy-services-target-price-rs-3065-motilal-oswal-financial-services/articleshow/100927756.cms'],\n",
       " ['TCS',\n",
       "  'Vodafone Idea Ltd proposes to infuse a total equity of ₹14,000 crore in the near term as part of its business revival plan. This will see existing promoters Aditya Birla Group (ABG) and UK’s Vodaphone Group Plc infuse half the overall amount.',\n",
       "  'NEGATIVE',\n",
       "  0.9933997392654419,\n",
       "  'https://economictimes.indiatimes.com/markets/expert-view/we-expect-tcs-and-hcl-tech-to-be-outperforming-on-growth-in-near-term-apurva-prasad/articleshow/100762715.cms'],\n",
       " ['TCS',\n",
       "  'India’s retail inflation slowed more than expected to a 25-month low of 4.25% in May. Experts don’t expect the central bank to start cutting interest rates any time soon. The government has asked Chinese mobile phone manufacturers to induct Indian equity partners in their local operations.',\n",
       "  'NEGATIVE',\n",
       "  0.9959989786148071,\n",
       "  'https://economictimes.indiatimes.com/tech/information-tech/tcs-fy23-annual-report-highlights/articleshow/100807655.cms'],\n",
       " ['TCS',\n",
       "  \"Akasa Air, India's newest airline backed by late billionaire Rakesh Jhunjhunwala, is looking to raise $75-100 million by offering fresh shares. Hundreds of former employees from some of India’s biggest unicorns who have left to start up on their own.\",\n",
       "  'POSITIVE',\n",
       "  0.9166327118873596,\n",
       "  'https://economictimes.indiatimes.com/tech/technology/70-corporations-prioritise-long-term-cloud-investments-despite-roi-concerns-tcs/articleshow/101018493.cms'],\n",
       " ['TCS',\n",
       "  'Akasa Air, backed by late billionaire Rakesh Jhunjhunwala, is looking to raise $75-100 million by offering fresh shares to expand its business. Hundreds of former employees from some of India’s biggest unicorns who have left to start up on their own.',\n",
       "  'POSITIVE',\n",
       "  0.9899899959564209,\n",
       "  'https://economictimes.indiatimes.com/markets/stocks/news/tcs-among-4-stocks-that-turned-ex-dividend-today/articleshow/101009284.cms'],\n",
       " ['TCS',\n",
       "  'On Wednesday, the Union Cabinet approved the third revival package for the telecom PSU worth Rs 89,047 crores. The package also includes the allotment of 4G/5G spectrum through equity infusion. Follow us for the latest news, insider access to events and more.',\n",
       "  'POSITIVE',\n",
       "  0.9495715498924255,\n",
       "  'https://telecom.economictimes.indiatimes.com/news/industry/bsnl-issues-purchase-order-to-tcs-iti-for-1-lakh-4g-sites-report/100888636'],\n",
       " ['TCS',\n",
       "  'Akasa Air, backed by late billionaire Rakesh Jhunjhunwala, is looking to raise $75-100 million by offering fresh shares. Hundreds of former employees from some of India’s biggest unicorns who have left to start up on their own are creating a ripple wave of internet enterprise.',\n",
       "  'POSITIVE',\n",
       "  0.9980120658874512,\n",
       "  'https://economictimes.indiatimes.com/jobs/mid-career/ending-work-from-home-option-for-employees-came-at-a-cost-for-tcs/articleshow/101020220.cms'],\n",
       " ['TCS',\n",
       "  '© 2023 - Privacy - Terms and Conditions. For confidential support call the Samaritans on 08457 90 90 90 or visit a local Samaritans branch, see www.samaritans.org for details. In the U.S. call the National Suicide Prevention Line on 1-800-273-8255.',\n",
       "  'NEGATIVE',\n",
       "  0.9733965396881104,\n",
       "  'https://www.google.com/search?q%3DTCS%2Beconomic%2Btimes%26tbm%3Dnws%26pccc%3D1'],\n",
       " ['TCS',\n",
       "  'Vodafone Idea Ltd proposes to infuse a total equity of ₹14,000 crore in the near term as part of its business revival plan. This will see existing promoters Aditya Birla Group (ABG) and UK’s Vodaphone Group Plc infuse half the overall amount.',\n",
       "  'NEGATIVE',\n",
       "  0.9933997392654419,\n",
       "  'https://economictimes.indiatimes.com/markets/stocks/news/tcs-among-top-3-trading-calls-for-next-week-rupak-de-of-lkp-securities/articleshow/100544077.cms'],\n",
       " ['TCS',\n",
       "  'Akasa Air, backed by late billionaire Rakesh Jhunjhunwala, is looking to raise $75-100 million. Hundreds of former employees from some of India’s biggest unicorns who have left to start up on their own are creating a ripple wave of internet enterprise.',\n",
       "  'POSITIVE',\n",
       "  0.9984456896781921,\n",
       "  'https://economictimes.indiatimes.com/wealth/tax/3-ways-to-avoid-the-20-tcs-on-overseas-tour-packages-or-international-trip-effective-july-1-2023/articleshow/101017358.cms']]"
      ]
     },
     "execution_count": 22,
     "metadata": {},
     "output_type": "execute_result"
    }
   ],
   "source": [
    "final_output"
   ]
  },
  {
   "cell_type": "code",
   "execution_count": 26,
   "id": "b823ce35",
   "metadata": {},
   "outputs": [],
   "source": [
    "import csv\n",
    "with open('stocksummaries.csv', mode='w', newline='', encoding=\"utf-8\") as f:\n",
    "    csv_writer = csv.writer(f, delimiter=',', quotechar='\"', quoting=csv.QUOTE_MINIMAL)\n",
    "    csv_writer.writerows(final_output)"
   ]
  },
  {
   "cell_type": "code",
   "execution_count": null,
   "id": "ee177d1d",
   "metadata": {},
   "outputs": [],
   "source": []
  },
  {
   "cell_type": "code",
   "execution_count": null,
   "id": "6fb6b180",
   "metadata": {},
   "outputs": [],
   "source": []
  }
 ],
 "metadata": {
  "kernelspec": {
   "display_name": "Python 3 (ipykernel)",
   "language": "python",
   "name": "python3"
  },
  "language_info": {
   "codemirror_mode": {
    "name": "ipython",
    "version": 3
   },
   "file_extension": ".py",
   "mimetype": "text/x-python",
   "name": "python",
   "nbconvert_exporter": "python",
   "pygments_lexer": "ipython3",
   "version": "3.9.16"
  }
 },
 "nbformat": 4,
 "nbformat_minor": 5
}
